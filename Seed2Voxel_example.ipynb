{
 "cells": [
  {
   "cell_type": "code",
   "execution_count": null,
   "metadata": {},
   "outputs": [],
   "source": [
    "library(oro.nifti)\n",
    "library(ggplot2)\n",
    "library(car)\n",
    "library(HH)\n",
    "library(parallel)\n",
    "library(data.table)"
   ]
  },
  {
   "cell_type": "code",
   "execution_count": null,
   "metadata": {},
   "outputs": [],
   "source": [
    "curr_dir <- getwd()\n",
    "setwd('./20190701/conn_3/results/firstlevel/SBC_02')\n",
    "files <- list.files(pattern = \"^BETA_Subject[0-9][0-9][0-9]_Condition001_Source001.nii$\")"
   ]
  },
  {
   "cell_type": "code",
   "execution_count": null,
   "metadata": {},
   "outputs": [],
   "source": [
    "conn_mean <- function(f) {\n",
    "    dmn_mask <- readNIfTI('./dmn2_coreg.nii.gz')\n",
    "    sub <- readNIfTI(f)\n",
    "    sub_masked <- sub * dmn_mask\n",
    "    sub_masked_vec <- as.vector(sub_masked@.Data)\n",
    "    sub_masked_vec <- na.omit(sub_masked_vec)\n",
    "    conn <- sub_masked_vec[sub_masked_vec != 0]\n",
    "    return (data.frame(f,mean(conn)))\n",
    "}\n",
    "conns <- mclapply(files, conn_mean, mc)"
   ]
  },
  {
   "cell_type": "code",
   "execution_count": null,
   "metadata": {
    "scrolled": false
   },
   "outputs": [],
   "source": [
    "setwd('./20190701/conn_3/results/firstlevel/SBC_02')\n",
    "conns_dmnc <- mclapply(files, conn_mean, mc.cores=5)\n",
    "conns_dmnc <- rbindlist(conns)\n",
    "setwd(curr_dir)\n",
    "head(conns_dmnc) "
   ]
  },
  {
   "cell_type": "code",
   "execution_count": null,
   "metadata": {},
   "outputs": [],
   "source": [
    "covs <- read.table('./20190701/covs.csv', sep=',', header = TRUE, quote = '\"')"
   ]
  },
  {
   "cell_type": "code",
   "execution_count": null,
   "metadata": {},
   "outputs": [],
   "source": [
    "data_dmnc <- data.frame(as.vector(conns_dmnc), covs)\n",
    "head(data_dmnc)"
   ]
  },
  {
   "cell_type": "code",
   "execution_count": null,
   "metadata": {},
   "outputs": [],
   "source": [
    "write.table(data_dmnc, './data_conndmn.csv') #, row.names = FALSE)"
   ]
  },
  {
   "cell_type": "code",
   "execution_count": null,
   "metadata": {},
   "outputs": [],
   "source": [
    "ggplot(data_dmnc, aes(x=diag, y=conns)) +\n",
    "    geom_boxplot(alpha = 0.2, width = 0.3, aes(fill=factor(diag))) +\n",
    "    xlab('Diagnosis') +\n",
    "    ylab('Connectivity DMN') +\n",
    "    theme(strip.text.x = element_text(size=9, color=\"black\", face=\"bold\")) +\n",
    "    guides(color=guide_legend(\"Diagnosis\")) +\n",
    "    geom_jitter(position=position_jitter(width=0.1), aes(colour=factor(diag)), alpha=1)\n"
   ]
  },
  {
   "cell_type": "code",
   "execution_count": null,
   "metadata": {},
   "outputs": [],
   "source": [
    "df(0.95,2,68)\n",
    "ancova1 <- ancova(conns ~ diag + Age_All, data=data_dmnc)\n",
    "ancova1"
   ]
  },
  {
   "cell_type": "code",
   "execution_count": null,
   "metadata": {},
   "outputs": [],
   "source": [
    "df(0.95,2,69)\n",
    "anova(aov(conns ~ diag, data=data_dmnc))"
   ]
  },
  {
   "cell_type": "code",
   "execution_count": null,
   "metadata": {},
   "outputs": [],
   "source": [
    "ggplot(data_dmnc, aes(x=g_all, y=conns)) + \n",
    "  geom_point(size = 4, aes(shape = nas, color=diag)) +\n",
    "  geom_smooth(method=aov, se=FALSE, fullrange=TRUE, color='darkblue') + \n",
    "  ylab('Connectivity DMN') +\n",
    "  scale_shape_manual(values = c(16, 17, 18)) + \n",
    "  theme(legend.position = \"bottom\")"
   ]
  },
  {
   "cell_type": "code",
   "execution_count": null,
   "metadata": {},
   "outputs": [],
   "source": [
    "summary(lm(conns ~ g_all, data=data_dmnc))"
   ]
  },
  {
   "cell_type": "code",
   "execution_count": null,
   "metadata": {},
   "outputs": [],
   "source": [
    "summary(lm(conns ~ g_all * Age_All, data=data_dmnc))"
   ]
  },
  {
   "cell_type": "code",
   "execution_count": null,
   "metadata": {},
   "outputs": [],
   "source": []
  }
 ],
 "metadata": {
  "kernelspec": {
   "display_name": "R",
   "language": "R",
   "name": "ir"
  },
  "language_info": {
   "codemirror_mode": "r",
   "file_extension": ".r",
   "mimetype": "text/x-r-source",
   "name": "R",
   "pygments_lexer": "r",
   "version": "3.6.1"
  }
 },
 "nbformat": 4,
 "nbformat_minor": 2
}
