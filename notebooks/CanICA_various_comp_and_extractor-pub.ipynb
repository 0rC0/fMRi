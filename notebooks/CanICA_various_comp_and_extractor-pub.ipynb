{
 "cells": [
  {
   "cell_type": "markdown",
   "metadata": {},
   "source": [
    "# CanICA"
   ]
  },
  {
   "cell_type": "code",
   "execution_count": 1,
   "metadata": {},
   "outputs": [],
   "source": [
    "                                                                                                                                            # ToDo: Add References and credits to NiLearn documentation"
   ]
  },
  {
   "cell_type": "code",
   "execution_count": 1,
   "metadata": {},
   "outputs": [],
   "source": [
    "import glob\n",
    "from nilearn.decomposition import CanICA\n",
    "from nilearn.image import iter_img\n",
    "from nilearn.plotting import plot_stat_map, show"
   ]
  },
  {
   "cell_type": "code",
   "execution_count": 2,
   "metadata": {},
   "outputs": [],
   "source": [
    "# Visualization of resting state networks\n",
    "# Show networks using plotting utilities\n",
    "from nilearn import plotting"
   ]
  },
  {
   "cell_type": "code",
   "execution_count": 3,
   "metadata": {},
   "outputs": [],
   "source": [
    "import pandas as pd\n",
    "import os"
   ]
  },
  {
   "cell_type": "code",
   "execution_count": 4,
   "metadata": {},
   "outputs": [],
   "source": [
    "func_filenamesd = glob.glob('/media/2Tb/functional_analysis_jan2021/NeuroMet_fmriprep_conn/data/BIDS/dataset/sub-*/func/dssub-*_run-01_bold.nii')"
   ]
  },
  {
   "cell_type": "code",
   "execution_count": 5,
   "metadata": {},
   "outputs": [],
   "source": [
    "func_filenames = glob.glob('/media/2Tb/functional_analysis_jan2021/NeuroMet_fmriprep_conn/data/BIDS/dataset/sub-*/func/ssub-*_run-01_bold.nii')"
   ]
  },
  {
   "cell_type": "code",
   "execution_count": 37,
   "metadata": {},
   "outputs": [],
   "source": [
    "raw_bold_filenames = glob.glob('/media/2Tb/functional_analysis_jan2021/NeuroMet_fmriprep_conn/data/BIDS/dataset/sub-*/func/sub-*_run-01_bold.nii.gz')"
   ]
  },
  {
   "cell_type": "code",
   "execution_count": 6,
   "metadata": {},
   "outputs": [],
   "source": [
    "func_filenames = sorted(func_filenames, key=lambda x: x.split('/')[-3][-3:])"
   ]
  },
  {
   "cell_type": "code",
   "execution_count": 7,
   "metadata": {},
   "outputs": [],
   "source": [
    "func_filenamesd = sorted(func_filenamesd, key=lambda x: x.split('/')[-3][-3:])"
   ]
  },
  {
   "cell_type": "code",
   "execution_count": null,
   "metadata": {},
   "outputs": [],
   "source": []
  },
  {
   "cell_type": "code",
   "execution_count": null,
   "metadata": {},
   "outputs": [],
   "source": []
  },
  {
   "cell_type": "markdown",
   "metadata": {},
   "source": [
    "## Indipendent Component Analysis"
   ]
  },
  {
   "cell_type": "code",
   "execution_count": 12,
   "metadata": {},
   "outputs": [],
   "source": [
    "from time import sleep"
   ]
  },
  {
   "cell_type": "code",
   "execution_count": 13,
   "metadata": {},
   "outputs": [],
   "source": [
    "#sleep(12*60*60)"
   ]
  },
  {
   "cell_type": "code",
   "execution_count": 14,
   "metadata": {},
   "outputs": [
    {
     "name": "stdout",
     "output_type": "stream",
     "text": [
      "[MultiNiftiMasker.fit] Loading data from [/media/2Tb/functional_analysis_jan2021/NeuroMet_fmriprep_conn/data/BIDS/dataset/sub-0001/func/ssub-0001_run-01_bold.nii, /media/2Tb/functional_analysis_jan2021/NeuroMet_fmriprep_conn/data/BIDS/datase\n",
      "[MultiNiftiMasker.fit] Computing mask\n",
      "[MultiNiftiMasker.transform] Resampling mask\n",
      "[CanICA] Loading data\n",
      "________________________________________________________________________________\n",
      "[Memory] Calling sklearn.utils.extmath.randomized_svd...\n",
      "randomized_svd(array([[-0.001682, ...,  0.000989],\n",
      "       ...,\n",
      "       [ 0.001681, ..., -0.000544]]), n_components=40, transpose=True, random_state=0, n_iter=3)\n"
     ]
    },
    {
     "name": "stderr",
     "output_type": "stream",
     "text": [
      "/home/orco/anaconda3/envs/fmri/lib/python3.8/site-packages/nilearn/decomposition/multi_pca.py:171: UserWarning: Persisting input arguments took 19.89s to run.\n",
      "If this happens often in your code, it can cause performance problems \n",
      "(results will be correct in all cases). \n",
      "The reason for this is probably some large input arguments for a wrapped\n",
      " function (e.g. large strings).\n",
      "THIS IS A JOBLIB ISSUE. If you can, kindly provide the joblib's team with an\n",
      " example so that they can fix the problem.\n",
      "  components_, self.variance_, _ = self._cache(\n"
     ]
    },
    {
     "name": "stdout",
     "output_type": "stream",
     "text": [
      "__________________________________________________randomized_svd - 51.9s, 0.9min\n"
     ]
    },
    {
     "name": "stderr",
     "output_type": "stream",
     "text": [
      "[Parallel(n_jobs=3)]: Using backend LokyBackend with 3 concurrent workers.\n",
      "[Parallel(n_jobs=3)]: Done  10 out of  10 | elapsed:  3.2min finished\n"
     ]
    }
   ],
   "source": [
    "from nilearn.decomposition import CanICA\n",
    "try:\n",
    "    canica = CanICA(n_components=40,\n",
    "                    memory=\"/home/WorkFlowTemp/nilearn_cache/CanICA40\", memory_level=2,\n",
    "                    threshold='auto',\n",
    "                    mask_strategy='epi',\n",
    "                    random_state=0,\n",
    "                    verbose=1,\n",
    "                    n_jobs=3,)\n",
    "    canica.fit(func_filenames)\n",
    "\n",
    "    # Retrieve the independent components in brain space. Directly\n",
    "    # accesible through attribute `components_img_`.\n",
    "    canica_components_img = canica.components_img_\n",
    "    # components_img is a Nifti Image object, and can be saved to a file with\n",
    "    # the following line:\n",
    "    canica_components_img.to_filename('canica_40component.nii.gz')\n",
    "except:\n",
    "    pass"
   ]
  },
  {
   "cell_type": "code",
   "execution_count": 39,
   "metadata": {
    "collapsed": true,
    "jupyter": {
     "outputs_hidden": true
    }
   },
   "outputs": [
    {
     "name": "stdout",
     "output_type": "stream",
     "text": [
      "[MultiNiftiMasker.fit] Loading data from [/media/2Tb/functional_analysis_jan2021/NeuroMet_fmriprep_conn/data/BIDS/dataset/sub-0001/func/ssub-0001_run-01_bold.nii, /media/2Tb/functional_analysis_jan2021/NeuroMet_fmriprep_conn/data/BIDS/datase\n",
      "[MultiNiftiMasker.fit] Computing mask\n",
      "[MultiNiftiMasker.transform] Resampling mask\n",
      "[CanICA] Loading data\n",
      "[MultiNiftiMasker.transform_single_imgs] Loading data from Nifti1Image('/media/2Tb/functional_analysis_jan2021/NeuroMet_fmriprep_conn/data/BIDS/dataset/sub-0001/func/ssub-0001_run-01_bold.nii')\n",
      "[MultiNiftiMasker.transform_single_imgs] Smoothing images\n",
      "[MultiNiftiMasker.transform_single_imgs] Extracting region signals\n",
      "[MultiNiftiMasker.transform_single_imgs] Cleaning extracted signals\n"
     ]
    },
    {
     "name": "stderr",
     "output_type": "stream",
     "text": [
      "/home/orco/anaconda3/envs/fmri/lib/python3.8/site-packages/nilearn/decomposition/base.py:219: UserWarning: Persisting input arguments took 1.69s to run.\n",
      "If this happens often in your code, it can cause performance problems \n",
      "(results will be correct in all cases). \n",
      "The reason for this is probably some large input arguments for a wrapped\n",
      " function (e.g. large strings).\n",
      "THIS IS A JOBLIB ISSUE. If you can, kindly provide the joblib's team with an\n",
      " example so that they can fix the problem.\n",
      "  U, S, V = cache(fast_svd, memory,\n"
     ]
    },
    {
     "name": "stdout",
     "output_type": "stream",
     "text": [
      "[MultiNiftiMasker.transform_single_imgs] Loading data from Nifti1Image('/media/2Tb/functional_analysis_jan2021/NeuroMet_fmriprep_conn/data/BIDS/dataset/sub-0002/func/ssub-0002_run-01_bold.nii')\n",
      "[MultiNiftiMasker.transform_single_imgs] Smoothing images\n",
      "[MultiNiftiMasker.transform_single_imgs] Extracting region signals\n",
      "[MultiNiftiMasker.transform_single_imgs] Cleaning extracted signals\n"
     ]
    },
    {
     "name": "stderr",
     "output_type": "stream",
     "text": [
      "/home/orco/anaconda3/envs/fmri/lib/python3.8/site-packages/nilearn/decomposition/base.py:219: UserWarning: Persisting input arguments took 1.58s to run.\n",
      "If this happens often in your code, it can cause performance problems \n",
      "(results will be correct in all cases). \n",
      "The reason for this is probably some large input arguments for a wrapped\n",
      " function (e.g. large strings).\n",
      "THIS IS A JOBLIB ISSUE. If you can, kindly provide the joblib's team with an\n",
      " example so that they can fix the problem.\n",
      "  U, S, V = cache(fast_svd, memory,\n"
     ]
    },
    {
     "name": "stdout",
     "output_type": "stream",
     "text": [
      "[MultiNiftiMasker.transform_single_imgs] Loading data from Nifti1Image('/media/2Tb/functional_analysis_jan2021/NeuroMet_fmriprep_conn/data/BIDS/dataset/sub-0003/func/ssub-0003_run-01_bold.nii')\n",
      "[MultiNiftiMasker.transform_single_imgs] Smoothing images\n",
      "[MultiNiftiMasker.transform_single_imgs] Extracting region signals\n",
      "[MultiNiftiMasker.transform_single_imgs] Cleaning extracted signals\n"
     ]
    },
    {
     "name": "stderr",
     "output_type": "stream",
     "text": [
      "/home/orco/anaconda3/envs/fmri/lib/python3.8/site-packages/nilearn/decomposition/base.py:219: UserWarning: Persisting input arguments took 1.57s to run.\n",
      "If this happens often in your code, it can cause performance problems \n",
      "(results will be correct in all cases). \n",
      "The reason for this is probably some large input arguments for a wrapped\n",
      " function (e.g. large strings).\n",
      "THIS IS A JOBLIB ISSUE. If you can, kindly provide the joblib's team with an\n",
      " example so that they can fix the problem.\n",
      "  U, S, V = cache(fast_svd, memory,\n"
     ]
    },
    {
     "name": "stdout",
     "output_type": "stream",
     "text": [
      "[MultiNiftiMasker.transform_single_imgs] Loading data from Nifti1Image('/media/2Tb/functional_analysis_jan2021/NeuroMet_fmriprep_conn/data/BIDS/dataset/sub-0004/func/ssub-0004_run-01_bold.nii')\n",
      "[MultiNiftiMasker.transform_single_imgs] Smoothing images\n",
      "[MultiNiftiMasker.transform_single_imgs] Extracting region signals\n",
      "[MultiNiftiMasker.transform_single_imgs] Cleaning extracted signals\n"
     ]
    },
    {
     "name": "stderr",
     "output_type": "stream",
     "text": [
      "/home/orco/anaconda3/envs/fmri/lib/python3.8/site-packages/nilearn/decomposition/base.py:219: UserWarning: Persisting input arguments took 1.59s to run.\n",
      "If this happens often in your code, it can cause performance problems \n",
      "(results will be correct in all cases). \n",
      "The reason for this is probably some large input arguments for a wrapped\n",
      " function (e.g. large strings).\n",
      "THIS IS A JOBLIB ISSUE. If you can, kindly provide the joblib's team with an\n",
      " example so that they can fix the problem.\n",
      "  U, S, V = cache(fast_svd, memory,\n"
     ]
    },
    {
     "name": "stdout",
     "output_type": "stream",
     "text": [
      "[MultiNiftiMasker.transform_single_imgs] Loading data from Nifti1Image('/media/2Tb/functional_analysis_jan2021/NeuroMet_fmriprep_conn/data/BIDS/dataset/sub-0005/func/ssub-0005_run-01_bold.nii')\n",
      "[MultiNiftiMasker.transform_single_imgs] Smoothing images\n",
      "[MultiNiftiMasker.transform_single_imgs] Extracting region signals\n",
      "[MultiNiftiMasker.transform_single_imgs] Cleaning extracted signals\n"
     ]
    },
    {
     "name": "stderr",
     "output_type": "stream",
     "text": [
      "/home/orco/anaconda3/envs/fmri/lib/python3.8/site-packages/nilearn/decomposition/base.py:219: UserWarning: Persisting input arguments took 1.58s to run.\n",
      "If this happens often in your code, it can cause performance problems \n",
      "(results will be correct in all cases). \n",
      "The reason for this is probably some large input arguments for a wrapped\n",
      " function (e.g. large strings).\n",
      "THIS IS A JOBLIB ISSUE. If you can, kindly provide the joblib's team with an\n",
      " example so that they can fix the problem.\n",
      "  U, S, V = cache(fast_svd, memory,\n"
     ]
    },
    {
     "name": "stdout",
     "output_type": "stream",
     "text": [
      "[MultiNiftiMasker.transform_single_imgs] Loading data from Nifti1Image('/media/2Tb/functional_analysis_jan2021/NeuroMet_fmriprep_conn/data/BIDS/dataset/sub-0006/func/ssub-0006_run-01_bold.nii')\n",
      "[MultiNiftiMasker.transform_single_imgs] Smoothing images\n",
      "[MultiNiftiMasker.transform_single_imgs] Extracting region signals\n",
      "[MultiNiftiMasker.transform_single_imgs] Cleaning extracted signals\n"
     ]
    },
    {
     "name": "stderr",
     "output_type": "stream",
     "text": [
      "/home/orco/anaconda3/envs/fmri/lib/python3.8/site-packages/nilearn/decomposition/base.py:219: UserWarning: Persisting input arguments took 1.58s to run.\n",
      "If this happens often in your code, it can cause performance problems \n",
      "(results will be correct in all cases). \n",
      "The reason for this is probably some large input arguments for a wrapped\n",
      " function (e.g. large strings).\n",
      "THIS IS A JOBLIB ISSUE. If you can, kindly provide the joblib's team with an\n",
      " example so that they can fix the problem.\n",
      "  U, S, V = cache(fast_svd, memory,\n"
     ]
    },
    {
     "name": "stdout",
     "output_type": "stream",
     "text": [
      "[MultiNiftiMasker.transform_single_imgs] Loading data from Nifti1Image('/media/2Tb/functional_analysis_jan2021/NeuroMet_fmriprep_conn/data/BIDS/dataset/sub-0007/func/ssub-0007_run-01_bold.nii')\n",
      "[MultiNiftiMasker.transform_single_imgs] Smoothing images\n",
      "[MultiNiftiMasker.transform_single_imgs] Extracting region signals\n",
      "[MultiNiftiMasker.transform_single_imgs] Cleaning extracted signals\n"
     ]
    },
    {
     "name": "stderr",
     "output_type": "stream",
     "text": [
      "/home/orco/anaconda3/envs/fmri/lib/python3.8/site-packages/nilearn/decomposition/base.py:219: UserWarning: Persisting input arguments took 1.59s to run.\n",
      "If this happens often in your code, it can cause performance problems \n",
      "(results will be correct in all cases). \n",
      "The reason for this is probably some large input arguments for a wrapped\n",
      " function (e.g. large strings).\n",
      "THIS IS A JOBLIB ISSUE. If you can, kindly provide the joblib's team with an\n",
      " example so that they can fix the problem.\n",
      "  U, S, V = cache(fast_svd, memory,\n"
     ]
    },
    {
     "name": "stdout",
     "output_type": "stream",
     "text": [
      "[MultiNiftiMasker.transform_single_imgs] Loading data from Nifti1Image('/media/2Tb/functional_analysis_jan2021/NeuroMet_fmriprep_conn/data/BIDS/dataset/sub-0008/func/ssub-0008_run-01_bold.nii')\n",
      "[MultiNiftiMasker.transform_single_imgs] Smoothing images\n",
      "[MultiNiftiMasker.transform_single_imgs] Extracting region signals\n",
      "[MultiNiftiMasker.transform_single_imgs] Cleaning extracted signals\n"
     ]
    },
    {
     "name": "stderr",
     "output_type": "stream",
     "text": [
      "/home/orco/anaconda3/envs/fmri/lib/python3.8/site-packages/nilearn/decomposition/base.py:219: UserWarning: Persisting input arguments took 1.51s to run.\n",
      "If this happens often in your code, it can cause performance problems \n",
      "(results will be correct in all cases). \n",
      "The reason for this is probably some large input arguments for a wrapped\n",
      " function (e.g. large strings).\n",
      "THIS IS A JOBLIB ISSUE. If you can, kindly provide the joblib's team with an\n",
      " example so that they can fix the problem.\n",
      "  U, S, V = cache(fast_svd, memory,\n"
     ]
    },
    {
     "name": "stdout",
     "output_type": "stream",
     "text": [
      "[MultiNiftiMasker.transform_single_imgs] Loading data from Nifti1Image('/media/2Tb/functional_analysis_jan2021/NeuroMet_fmriprep_conn/data/BIDS/dataset/sub-0009/func/ssub-0009_run-01_bold.nii')\n",
      "[MultiNiftiMasker.transform_single_imgs] Smoothing images\n",
      "[MultiNiftiMasker.transform_single_imgs] Extracting region signals\n",
      "[MultiNiftiMasker.transform_single_imgs] Cleaning extracted signals\n"
     ]
    },
    {
     "name": "stderr",
     "output_type": "stream",
     "text": [
      "/home/orco/anaconda3/envs/fmri/lib/python3.8/site-packages/nilearn/decomposition/base.py:219: UserWarning: Persisting input arguments took 1.58s to run.\n",
      "If this happens often in your code, it can cause performance problems \n",
      "(results will be correct in all cases). \n",
      "The reason for this is probably some large input arguments for a wrapped\n",
      " function (e.g. large strings).\n",
      "THIS IS A JOBLIB ISSUE. If you can, kindly provide the joblib's team with an\n",
      " example so that they can fix the problem.\n",
      "  U, S, V = cache(fast_svd, memory,\n"
     ]
    },
    {
     "name": "stdout",
     "output_type": "stream",
     "text": [
      "[MultiNiftiMasker.transform_single_imgs] Loading data from Nifti1Image('/media/2Tb/functional_analysis_jan2021/NeuroMet_fmriprep_conn/data/BIDS/dataset/sub-0010/func/ssub-0010_run-01_bold.nii')\n",
      "[MultiNiftiMasker.transform_single_imgs] Smoothing images\n",
      "[MultiNiftiMasker.transform_single_imgs] Extracting region signals\n",
      "[MultiNiftiMasker.transform_single_imgs] Cleaning extracted signals\n"
     ]
    },
    {
     "name": "stderr",
     "output_type": "stream",
     "text": [
      "/home/orco/anaconda3/envs/fmri/lib/python3.8/site-packages/nilearn/decomposition/base.py:219: UserWarning: Persisting input arguments took 1.58s to run.\n",
      "If this happens often in your code, it can cause performance problems \n",
      "(results will be correct in all cases). \n",
      "The reason for this is probably some large input arguments for a wrapped\n",
      " function (e.g. large strings).\n",
      "THIS IS A JOBLIB ISSUE. If you can, kindly provide the joblib's team with an\n",
      " example so that they can fix the problem.\n",
      "  U, S, V = cache(fast_svd, memory,\n"
     ]
    },
    {
     "name": "stdout",
     "output_type": "stream",
     "text": [
      "[MultiNiftiMasker.transform_single_imgs] Loading data from Nifti1Image('/media/2Tb/functional_analysis_jan2021/NeuroMet_fmriprep_conn/data/BIDS/dataset/sub-0011/func/ssub-0011_run-01_bold.nii')\n",
      "[MultiNiftiMasker.transform_single_imgs] Smoothing images\n",
      "[MultiNiftiMasker.transform_single_imgs] Extracting region signals\n",
      "[MultiNiftiMasker.transform_single_imgs] Cleaning extracted signals\n"
     ]
    },
    {
     "name": "stderr",
     "output_type": "stream",
     "text": [
      "/home/orco/anaconda3/envs/fmri/lib/python3.8/site-packages/nilearn/decomposition/base.py:219: UserWarning: Persisting input arguments took 1.59s to run.\n",
      "If this happens often in your code, it can cause performance problems \n",
      "(results will be correct in all cases). \n",
      "The reason for this is probably some large input arguments for a wrapped\n",
      " function (e.g. large strings).\n",
      "THIS IS A JOBLIB ISSUE. If you can, kindly provide the joblib's team with an\n",
      " example so that they can fix the problem.\n",
      "  U, S, V = cache(fast_svd, memory,\n"
     ]
    },
    {
     "name": "stdout",
     "output_type": "stream",
     "text": [
      "[MultiNiftiMasker.transform_single_imgs] Loading data from Nifti1Image('/media/2Tb/functional_analysis_jan2021/NeuroMet_fmriprep_conn/data/BIDS/dataset/sub-0012/func/ssub-0012_run-01_bold.nii')\n",
      "[MultiNiftiMasker.transform_single_imgs] Smoothing images\n",
      "[MultiNiftiMasker.transform_single_imgs] Extracting region signals\n",
      "[MultiNiftiMasker.transform_single_imgs] Cleaning extracted signals\n"
     ]
    },
    {
     "name": "stderr",
     "output_type": "stream",
     "text": [
      "/home/orco/anaconda3/envs/fmri/lib/python3.8/site-packages/nilearn/decomposition/base.py:219: UserWarning: Persisting input arguments took 1.56s to run.\n",
      "If this happens often in your code, it can cause performance problems \n",
      "(results will be correct in all cases). \n",
      "The reason for this is probably some large input arguments for a wrapped\n",
      " function (e.g. large strings).\n",
      "THIS IS A JOBLIB ISSUE. If you can, kindly provide the joblib's team with an\n",
      " example so that they can fix the problem.\n",
      "  U, S, V = cache(fast_svd, memory,\n"
     ]
    },
    {
     "name": "stdout",
     "output_type": "stream",
     "text": [
      "[MultiNiftiMasker.transform_single_imgs] Loading data from Nifti1Image('/media/2Tb/functional_analysis_jan2021/NeuroMet_fmriprep_conn/data/BIDS/dataset/sub-0013/func/ssub-0013_run-01_bold.nii')\n",
      "[MultiNiftiMasker.transform_single_imgs] Smoothing images\n",
      "[MultiNiftiMasker.transform_single_imgs] Extracting region signals\n",
      "[MultiNiftiMasker.transform_single_imgs] Cleaning extracted signals\n"
     ]
    },
    {
     "name": "stderr",
     "output_type": "stream",
     "text": [
      "/home/orco/anaconda3/envs/fmri/lib/python3.8/site-packages/nilearn/decomposition/base.py:219: UserWarning: Persisting input arguments took 1.58s to run.\n",
      "If this happens often in your code, it can cause performance problems \n",
      "(results will be correct in all cases). \n",
      "The reason for this is probably some large input arguments for a wrapped\n",
      " function (e.g. large strings).\n",
      "THIS IS A JOBLIB ISSUE. If you can, kindly provide the joblib's team with an\n",
      " example so that they can fix the problem.\n",
      "  U, S, V = cache(fast_svd, memory,\n"
     ]
    },
    {
     "name": "stdout",
     "output_type": "stream",
     "text": [
      "[MultiNiftiMasker.transform_single_imgs] Loading data from Nifti1Image('/media/2Tb/functional_analysis_jan2021/NeuroMet_fmriprep_conn/data/BIDS/dataset/sub-0014/func/ssub-0014_run-01_bold.nii')\n",
      "[MultiNiftiMasker.transform_single_imgs] Smoothing images\n",
      "[MultiNiftiMasker.transform_single_imgs] Extracting region signals\n",
      "[MultiNiftiMasker.transform_single_imgs] Cleaning extracted signals\n"
     ]
    },
    {
     "name": "stderr",
     "output_type": "stream",
     "text": [
      "/home/orco/anaconda3/envs/fmri/lib/python3.8/site-packages/nilearn/decomposition/base.py:219: UserWarning: Persisting input arguments took 1.58s to run.\n",
      "If this happens often in your code, it can cause performance problems \n",
      "(results will be correct in all cases). \n",
      "The reason for this is probably some large input arguments for a wrapped\n",
      " function (e.g. large strings).\n",
      "THIS IS A JOBLIB ISSUE. If you can, kindly provide the joblib's team with an\n",
      " example so that they can fix the problem.\n",
      "  U, S, V = cache(fast_svd, memory,\n"
     ]
    },
    {
     "name": "stdout",
     "output_type": "stream",
     "text": [
      "[MultiNiftiMasker.transform_single_imgs] Loading data from Nifti1Image('/media/2Tb/functional_analysis_jan2021/NeuroMet_fmriprep_conn/data/BIDS/dataset/sub-0015/func/ssub-0015_run-01_bold.nii')\n",
      "[MultiNiftiMasker.transform_single_imgs] Smoothing images\n",
      "[MultiNiftiMasker.transform_single_imgs] Extracting region signals\n",
      "[MultiNiftiMasker.transform_single_imgs] Cleaning extracted signals\n"
     ]
    },
    {
     "name": "stderr",
     "output_type": "stream",
     "text": [
      "/home/orco/anaconda3/envs/fmri/lib/python3.8/site-packages/nilearn/decomposition/base.py:219: UserWarning: Persisting input arguments took 1.58s to run.\n",
      "If this happens often in your code, it can cause performance problems \n",
      "(results will be correct in all cases). \n",
      "The reason for this is probably some large input arguments for a wrapped\n",
      " function (e.g. large strings).\n",
      "THIS IS A JOBLIB ISSUE. If you can, kindly provide the joblib's team with an\n",
      " example so that they can fix the problem.\n",
      "  U, S, V = cache(fast_svd, memory,\n"
     ]
    },
    {
     "name": "stdout",
     "output_type": "stream",
     "text": [
      "[MultiNiftiMasker.transform_single_imgs] Loading data from Nifti1Image('/media/2Tb/functional_analysis_jan2021/NeuroMet_fmriprep_conn/data/BIDS/dataset/sub-0016/func/ssub-0016_run-01_bold.nii')\n",
      "[MultiNiftiMasker.transform_single_imgs] Smoothing images\n",
      "[MultiNiftiMasker.transform_single_imgs] Extracting region signals\n",
      "[MultiNiftiMasker.transform_single_imgs] Cleaning extracted signals\n"
     ]
    },
    {
     "name": "stderr",
     "output_type": "stream",
     "text": [
      "/home/orco/anaconda3/envs/fmri/lib/python3.8/site-packages/nilearn/decomposition/base.py:219: UserWarning: Persisting input arguments took 1.60s to run.\n",
      "If this happens often in your code, it can cause performance problems \n",
      "(results will be correct in all cases). \n",
      "The reason for this is probably some large input arguments for a wrapped\n",
      " function (e.g. large strings).\n",
      "THIS IS A JOBLIB ISSUE. If you can, kindly provide the joblib's team with an\n",
      " example so that they can fix the problem.\n",
      "  U, S, V = cache(fast_svd, memory,\n"
     ]
    },
    {
     "name": "stdout",
     "output_type": "stream",
     "text": [
      "[MultiNiftiMasker.transform_single_imgs] Loading data from Nifti1Image('/media/2Tb/functional_analysis_jan2021/NeuroMet_fmriprep_conn/data/BIDS/dataset/sub-0017/func/ssub-0017_run-01_bold.nii')\n",
      "[MultiNiftiMasker.transform_single_imgs] Smoothing images\n",
      "[MultiNiftiMasker.transform_single_imgs] Extracting region signals\n",
      "[MultiNiftiMasker.transform_single_imgs] Cleaning extracted signals\n"
     ]
    },
    {
     "name": "stderr",
     "output_type": "stream",
     "text": [
      "/home/orco/anaconda3/envs/fmri/lib/python3.8/site-packages/nilearn/decomposition/base.py:219: UserWarning: Persisting input arguments took 1.59s to run.\n",
      "If this happens often in your code, it can cause performance problems \n",
      "(results will be correct in all cases). \n",
      "The reason for this is probably some large input arguments for a wrapped\n",
      " function (e.g. large strings).\n",
      "THIS IS A JOBLIB ISSUE. If you can, kindly provide the joblib's team with an\n",
      " example so that they can fix the problem.\n",
      "  U, S, V = cache(fast_svd, memory,\n"
     ]
    },
    {
     "name": "stdout",
     "output_type": "stream",
     "text": [
      "[MultiNiftiMasker.transform_single_imgs] Loading data from Nifti1Image('/media/2Tb/functional_analysis_jan2021/NeuroMet_fmriprep_conn/data/BIDS/dataset/sub-0018/func/ssub-0018_run-01_bold.nii')\n",
      "[MultiNiftiMasker.transform_single_imgs] Smoothing images\n",
      "[MultiNiftiMasker.transform_single_imgs] Extracting region signals\n",
      "[MultiNiftiMasker.transform_single_imgs] Cleaning extracted signals\n"
     ]
    },
    {
     "name": "stderr",
     "output_type": "stream",
     "text": [
      "/home/orco/anaconda3/envs/fmri/lib/python3.8/site-packages/nilearn/decomposition/base.py:219: UserWarning: Persisting input arguments took 1.59s to run.\n",
      "If this happens often in your code, it can cause performance problems \n",
      "(results will be correct in all cases). \n",
      "The reason for this is probably some large input arguments for a wrapped\n",
      " function (e.g. large strings).\n",
      "THIS IS A JOBLIB ISSUE. If you can, kindly provide the joblib's team with an\n",
      " example so that they can fix the problem.\n",
      "  U, S, V = cache(fast_svd, memory,\n"
     ]
    },
    {
     "name": "stdout",
     "output_type": "stream",
     "text": [
      "[MultiNiftiMasker.transform_single_imgs] Loading data from Nifti1Image('/media/2Tb/functional_analysis_jan2021/NeuroMet_fmriprep_conn/data/BIDS/dataset/sub-0019/func/ssub-0019_run-01_bold.nii')\n",
      "[MultiNiftiMasker.transform_single_imgs] Smoothing images\n",
      "[MultiNiftiMasker.transform_single_imgs] Extracting region signals\n",
      "[MultiNiftiMasker.transform_single_imgs] Cleaning extracted signals\n"
     ]
    },
    {
     "name": "stderr",
     "output_type": "stream",
     "text": [
      "/home/orco/anaconda3/envs/fmri/lib/python3.8/site-packages/nilearn/decomposition/base.py:219: UserWarning: Persisting input arguments took 1.56s to run.\n",
      "If this happens often in your code, it can cause performance problems \n",
      "(results will be correct in all cases). \n",
      "The reason for this is probably some large input arguments for a wrapped\n",
      " function (e.g. large strings).\n",
      "THIS IS A JOBLIB ISSUE. If you can, kindly provide the joblib's team with an\n",
      " example so that they can fix the problem.\n",
      "  U, S, V = cache(fast_svd, memory,\n"
     ]
    },
    {
     "name": "stdout",
     "output_type": "stream",
     "text": [
      "[MultiNiftiMasker.transform_single_imgs] Loading data from Nifti1Image('/media/2Tb/functional_analysis_jan2021/NeuroMet_fmriprep_conn/data/BIDS/dataset/sub-0020/func/ssub-0020_run-01_bold.nii')\n",
      "[MultiNiftiMasker.transform_single_imgs] Smoothing images\n",
      "[MultiNiftiMasker.transform_single_imgs] Extracting region signals\n",
      "[MultiNiftiMasker.transform_single_imgs] Cleaning extracted signals\n"
     ]
    },
    {
     "name": "stderr",
     "output_type": "stream",
     "text": [
      "/home/orco/anaconda3/envs/fmri/lib/python3.8/site-packages/nilearn/decomposition/base.py:219: UserWarning: Persisting input arguments took 1.58s to run.\n",
      "If this happens often in your code, it can cause performance problems \n",
      "(results will be correct in all cases). \n",
      "The reason for this is probably some large input arguments for a wrapped\n",
      " function (e.g. large strings).\n",
      "THIS IS A JOBLIB ISSUE. If you can, kindly provide the joblib's team with an\n",
      " example so that they can fix the problem.\n",
      "  U, S, V = cache(fast_svd, memory,\n"
     ]
    },
    {
     "name": "stdout",
     "output_type": "stream",
     "text": [
      "[MultiNiftiMasker.transform_single_imgs] Loading data from Nifti1Image('/media/2Tb/functional_analysis_jan2021/NeuroMet_fmriprep_conn/data/BIDS/dataset/sub-0021/func/ssub-0021_run-01_bold.nii')\n",
      "[MultiNiftiMasker.transform_single_imgs] Smoothing images\n",
      "[MultiNiftiMasker.transform_single_imgs] Extracting region signals\n",
      "[MultiNiftiMasker.transform_single_imgs] Cleaning extracted signals\n"
     ]
    },
    {
     "name": "stderr",
     "output_type": "stream",
     "text": [
      "/home/orco/anaconda3/envs/fmri/lib/python3.8/site-packages/nilearn/decomposition/base.py:219: UserWarning: Persisting input arguments took 1.51s to run.\n",
      "If this happens often in your code, it can cause performance problems \n",
      "(results will be correct in all cases). \n",
      "The reason for this is probably some large input arguments for a wrapped\n",
      " function (e.g. large strings).\n",
      "THIS IS A JOBLIB ISSUE. If you can, kindly provide the joblib's team with an\n",
      " example so that they can fix the problem.\n",
      "  U, S, V = cache(fast_svd, memory,\n"
     ]
    },
    {
     "name": "stdout",
     "output_type": "stream",
     "text": [
      "[MultiNiftiMasker.transform_single_imgs] Loading data from Nifti1Image('/media/2Tb/functional_analysis_jan2021/NeuroMet_fmriprep_conn/data/BIDS/dataset/sub-0022/func/ssub-0022_run-01_bold.nii')\n",
      "[MultiNiftiMasker.transform_single_imgs] Smoothing images\n",
      "[MultiNiftiMasker.transform_single_imgs] Extracting region signals\n",
      "[MultiNiftiMasker.transform_single_imgs] Cleaning extracted signals\n"
     ]
    },
    {
     "name": "stderr",
     "output_type": "stream",
     "text": [
      "/home/orco/anaconda3/envs/fmri/lib/python3.8/site-packages/nilearn/decomposition/base.py:219: UserWarning: Persisting input arguments took 1.58s to run.\n",
      "If this happens often in your code, it can cause performance problems \n",
      "(results will be correct in all cases). \n",
      "The reason for this is probably some large input arguments for a wrapped\n",
      " function (e.g. large strings).\n",
      "THIS IS A JOBLIB ISSUE. If you can, kindly provide the joblib's team with an\n",
      " example so that they can fix the problem.\n",
      "  U, S, V = cache(fast_svd, memory,\n"
     ]
    },
    {
     "name": "stdout",
     "output_type": "stream",
     "text": [
      "[MultiNiftiMasker.transform_single_imgs] Loading data from Nifti1Image('/media/2Tb/functional_analysis_jan2021/NeuroMet_fmriprep_conn/data/BIDS/dataset/sub-0023/func/ssub-0023_run-01_bold.nii')\n",
      "[MultiNiftiMasker.transform_single_imgs] Smoothing images\n",
      "[MultiNiftiMasker.transform_single_imgs] Extracting region signals\n",
      "[MultiNiftiMasker.transform_single_imgs] Cleaning extracted signals\n"
     ]
    },
    {
     "name": "stderr",
     "output_type": "stream",
     "text": [
      "/home/orco/anaconda3/envs/fmri/lib/python3.8/site-packages/nilearn/decomposition/base.py:219: UserWarning: Persisting input arguments took 1.58s to run.\n",
      "If this happens often in your code, it can cause performance problems \n",
      "(results will be correct in all cases). \n",
      "The reason for this is probably some large input arguments for a wrapped\n",
      " function (e.g. large strings).\n",
      "THIS IS A JOBLIB ISSUE. If you can, kindly provide the joblib's team with an\n",
      " example so that they can fix the problem.\n",
      "  U, S, V = cache(fast_svd, memory,\n"
     ]
    },
    {
     "name": "stdout",
     "output_type": "stream",
     "text": [
      "[MultiNiftiMasker.transform_single_imgs] Loading data from Nifti1Image('/media/2Tb/functional_analysis_jan2021/NeuroMet_fmriprep_conn/data/BIDS/dataset/sub-0024/func/ssub-0024_run-01_bold.nii')\n",
      "[MultiNiftiMasker.transform_single_imgs] Smoothing images\n",
      "[MultiNiftiMasker.transform_single_imgs] Extracting region signals\n",
      "[MultiNiftiMasker.transform_single_imgs] Cleaning extracted signals\n"
     ]
    },
    {
     "name": "stderr",
     "output_type": "stream",
     "text": [
      "/home/orco/anaconda3/envs/fmri/lib/python3.8/site-packages/nilearn/decomposition/base.py:219: UserWarning: Persisting input arguments took 1.58s to run.\n",
      "If this happens often in your code, it can cause performance problems \n",
      "(results will be correct in all cases). \n",
      "The reason for this is probably some large input arguments for a wrapped\n",
      " function (e.g. large strings).\n",
      "THIS IS A JOBLIB ISSUE. If you can, kindly provide the joblib's team with an\n",
      " example so that they can fix the problem.\n",
      "  U, S, V = cache(fast_svd, memory,\n"
     ]
    },
    {
     "name": "stdout",
     "output_type": "stream",
     "text": [
      "[MultiNiftiMasker.transform_single_imgs] Loading data from Nifti1Image('/media/2Tb/functional_analysis_jan2021/NeuroMet_fmriprep_conn/data/BIDS/dataset/sub-0025/func/ssub-0025_run-01_bold.nii')\n",
      "[MultiNiftiMasker.transform_single_imgs] Smoothing images\n",
      "[MultiNiftiMasker.transform_single_imgs] Extracting region signals\n",
      "[MultiNiftiMasker.transform_single_imgs] Cleaning extracted signals\n"
     ]
    },
    {
     "name": "stderr",
     "output_type": "stream",
     "text": [
      "/home/orco/anaconda3/envs/fmri/lib/python3.8/site-packages/nilearn/decomposition/base.py:219: UserWarning: Persisting input arguments took 1.59s to run.\n",
      "If this happens often in your code, it can cause performance problems \n",
      "(results will be correct in all cases). \n",
      "The reason for this is probably some large input arguments for a wrapped\n",
      " function (e.g. large strings).\n",
      "THIS IS A JOBLIB ISSUE. If you can, kindly provide the joblib's team with an\n",
      " example so that they can fix the problem.\n",
      "  U, S, V = cache(fast_svd, memory,\n"
     ]
    },
    {
     "name": "stdout",
     "output_type": "stream",
     "text": [
      "[MultiNiftiMasker.transform_single_imgs] Loading data from Nifti1Image('/media/2Tb/functional_analysis_jan2021/NeuroMet_fmriprep_conn/data/BIDS/dataset/sub-0026/func/ssub-0026_run-01_bold.nii')\n",
      "[MultiNiftiMasker.transform_single_imgs] Smoothing images\n",
      "[MultiNiftiMasker.transform_single_imgs] Extracting region signals\n",
      "[MultiNiftiMasker.transform_single_imgs] Cleaning extracted signals\n"
     ]
    },
    {
     "name": "stderr",
     "output_type": "stream",
     "text": [
      "/home/orco/anaconda3/envs/fmri/lib/python3.8/site-packages/nilearn/decomposition/base.py:219: UserWarning: Persisting input arguments took 1.59s to run.\n",
      "If this happens often in your code, it can cause performance problems \n",
      "(results will be correct in all cases). \n",
      "The reason for this is probably some large input arguments for a wrapped\n",
      " function (e.g. large strings).\n",
      "THIS IS A JOBLIB ISSUE. If you can, kindly provide the joblib's team with an\n",
      " example so that they can fix the problem.\n",
      "  U, S, V = cache(fast_svd, memory,\n"
     ]
    },
    {
     "name": "stdout",
     "output_type": "stream",
     "text": [
      "[MultiNiftiMasker.transform_single_imgs] Loading data from Nifti1Image('/media/2Tb/functional_analysis_jan2021/NeuroMet_fmriprep_conn/data/BIDS/dataset/sub-0027/func/ssub-0027_run-01_bold.nii')\n",
      "[MultiNiftiMasker.transform_single_imgs] Smoothing images\n",
      "[MultiNiftiMasker.transform_single_imgs] Extracting region signals\n",
      "[MultiNiftiMasker.transform_single_imgs] Cleaning extracted signals\n"
     ]
    },
    {
     "name": "stderr",
     "output_type": "stream",
     "text": [
      "/home/orco/anaconda3/envs/fmri/lib/python3.8/site-packages/nilearn/decomposition/base.py:219: UserWarning: Persisting input arguments took 1.55s to run.\n",
      "If this happens often in your code, it can cause performance problems \n",
      "(results will be correct in all cases). \n",
      "The reason for this is probably some large input arguments for a wrapped\n",
      " function (e.g. large strings).\n",
      "THIS IS A JOBLIB ISSUE. If you can, kindly provide the joblib's team with an\n",
      " example so that they can fix the problem.\n",
      "  U, S, V = cache(fast_svd, memory,\n"
     ]
    },
    {
     "name": "stdout",
     "output_type": "stream",
     "text": [
      "[MultiNiftiMasker.transform_single_imgs] Loading data from Nifti1Image('/media/2Tb/functional_analysis_jan2021/NeuroMet_fmriprep_conn/data/BIDS/dataset/sub-0028/func/ssub-0028_run-01_bold.nii')\n",
      "[MultiNiftiMasker.transform_single_imgs] Smoothing images\n",
      "[MultiNiftiMasker.transform_single_imgs] Extracting region signals\n",
      "[MultiNiftiMasker.transform_single_imgs] Cleaning extracted signals\n"
     ]
    },
    {
     "name": "stderr",
     "output_type": "stream",
     "text": [
      "/home/orco/anaconda3/envs/fmri/lib/python3.8/site-packages/nilearn/decomposition/base.py:219: UserWarning: Persisting input arguments took 1.59s to run.\n",
      "If this happens often in your code, it can cause performance problems \n",
      "(results will be correct in all cases). \n",
      "The reason for this is probably some large input arguments for a wrapped\n",
      " function (e.g. large strings).\n",
      "THIS IS A JOBLIB ISSUE. If you can, kindly provide the joblib's team with an\n",
      " example so that they can fix the problem.\n",
      "  U, S, V = cache(fast_svd, memory,\n"
     ]
    },
    {
     "name": "stdout",
     "output_type": "stream",
     "text": [
      "[MultiNiftiMasker.transform_single_imgs] Loading data from Nifti1Image('/media/2Tb/functional_analysis_jan2021/NeuroMet_fmriprep_conn/data/BIDS/dataset/sub-0029/func/ssub-0029_run-01_bold.nii')\n",
      "[MultiNiftiMasker.transform_single_imgs] Smoothing images\n",
      "[MultiNiftiMasker.transform_single_imgs] Extracting region signals\n",
      "[MultiNiftiMasker.transform_single_imgs] Cleaning extracted signals\n"
     ]
    },
    {
     "name": "stderr",
     "output_type": "stream",
     "text": [
      "/home/orco/anaconda3/envs/fmri/lib/python3.8/site-packages/nilearn/decomposition/base.py:219: UserWarning: Persisting input arguments took 1.58s to run.\n",
      "If this happens often in your code, it can cause performance problems \n",
      "(results will be correct in all cases). \n",
      "The reason for this is probably some large input arguments for a wrapped\n",
      " function (e.g. large strings).\n",
      "THIS IS A JOBLIB ISSUE. If you can, kindly provide the joblib's team with an\n",
      " example so that they can fix the problem.\n",
      "  U, S, V = cache(fast_svd, memory,\n"
     ]
    },
    {
     "name": "stdout",
     "output_type": "stream",
     "text": [
      "[MultiNiftiMasker.transform_single_imgs] Loading data from Nifti1Image('/media/2Tb/functional_analysis_jan2021/NeuroMet_fmriprep_conn/data/BIDS/dataset/sub-0030/func/ssub-0030_run-01_bold.nii')\n",
      "[MultiNiftiMasker.transform_single_imgs] Smoothing images\n",
      "[MultiNiftiMasker.transform_single_imgs] Extracting region signals\n",
      "[MultiNiftiMasker.transform_single_imgs] Cleaning extracted signals\n"
     ]
    },
    {
     "name": "stderr",
     "output_type": "stream",
     "text": [
      "/home/orco/anaconda3/envs/fmri/lib/python3.8/site-packages/nilearn/decomposition/base.py:219: UserWarning: Persisting input arguments took 1.51s to run.\n",
      "If this happens often in your code, it can cause performance problems \n",
      "(results will be correct in all cases). \n",
      "The reason for this is probably some large input arguments for a wrapped\n",
      " function (e.g. large strings).\n",
      "THIS IS A JOBLIB ISSUE. If you can, kindly provide the joblib's team with an\n",
      " example so that they can fix the problem.\n",
      "  U, S, V = cache(fast_svd, memory,\n"
     ]
    },
    {
     "name": "stdout",
     "output_type": "stream",
     "text": [
      "[MultiNiftiMasker.transform_single_imgs] Loading data from Nifti1Image('/media/2Tb/functional_analysis_jan2021/NeuroMet_fmriprep_conn/data/BIDS/dataset/sub-0031/func/ssub-0031_run-01_bold.nii')\n",
      "[MultiNiftiMasker.transform_single_imgs] Smoothing images\n",
      "[MultiNiftiMasker.transform_single_imgs] Extracting region signals\n",
      "[MultiNiftiMasker.transform_single_imgs] Cleaning extracted signals\n"
     ]
    },
    {
     "name": "stderr",
     "output_type": "stream",
     "text": [
      "/home/orco/anaconda3/envs/fmri/lib/python3.8/site-packages/nilearn/decomposition/base.py:219: UserWarning: Persisting input arguments took 1.59s to run.\n",
      "If this happens often in your code, it can cause performance problems \n",
      "(results will be correct in all cases). \n",
      "The reason for this is probably some large input arguments for a wrapped\n",
      " function (e.g. large strings).\n",
      "THIS IS A JOBLIB ISSUE. If you can, kindly provide the joblib's team with an\n",
      " example so that they can fix the problem.\n",
      "  U, S, V = cache(fast_svd, memory,\n"
     ]
    },
    {
     "name": "stdout",
     "output_type": "stream",
     "text": [
      "[MultiNiftiMasker.transform_single_imgs] Loading data from Nifti1Image('/media/2Tb/functional_analysis_jan2021/NeuroMet_fmriprep_conn/data/BIDS/dataset/sub-0032/func/ssub-0032_run-01_bold.nii')\n",
      "[MultiNiftiMasker.transform_single_imgs] Smoothing images\n",
      "[MultiNiftiMasker.transform_single_imgs] Extracting region signals\n",
      "[MultiNiftiMasker.transform_single_imgs] Cleaning extracted signals\n"
     ]
    },
    {
     "name": "stderr",
     "output_type": "stream",
     "text": [
      "/home/orco/anaconda3/envs/fmri/lib/python3.8/site-packages/nilearn/decomposition/base.py:219: UserWarning: Persisting input arguments took 1.60s to run.\n",
      "If this happens often in your code, it can cause performance problems \n",
      "(results will be correct in all cases). \n",
      "The reason for this is probably some large input arguments for a wrapped\n",
      " function (e.g. large strings).\n",
      "THIS IS A JOBLIB ISSUE. If you can, kindly provide the joblib's team with an\n",
      " example so that they can fix the problem.\n",
      "  U, S, V = cache(fast_svd, memory,\n"
     ]
    },
    {
     "name": "stdout",
     "output_type": "stream",
     "text": [
      "[MultiNiftiMasker.transform_single_imgs] Loading data from Nifti1Image('/media/2Tb/functional_analysis_jan2021/NeuroMet_fmriprep_conn/data/BIDS/dataset/sub-0033/func/ssub-0033_run-01_bold.nii')\n",
      "[MultiNiftiMasker.transform_single_imgs] Smoothing images\n",
      "[MultiNiftiMasker.transform_single_imgs] Extracting region signals\n",
      "[MultiNiftiMasker.transform_single_imgs] Cleaning extracted signals\n"
     ]
    },
    {
     "name": "stderr",
     "output_type": "stream",
     "text": [
      "/home/orco/anaconda3/envs/fmri/lib/python3.8/site-packages/nilearn/decomposition/base.py:219: UserWarning: Persisting input arguments took 1.58s to run.\n",
      "If this happens often in your code, it can cause performance problems \n",
      "(results will be correct in all cases). \n",
      "The reason for this is probably some large input arguments for a wrapped\n",
      " function (e.g. large strings).\n",
      "THIS IS A JOBLIB ISSUE. If you can, kindly provide the joblib's team with an\n",
      " example so that they can fix the problem.\n",
      "  U, S, V = cache(fast_svd, memory,\n"
     ]
    },
    {
     "name": "stdout",
     "output_type": "stream",
     "text": [
      "[MultiNiftiMasker.transform_single_imgs] Loading data from Nifti1Image('/media/2Tb/functional_analysis_jan2021/NeuroMet_fmriprep_conn/data/BIDS/dataset/sub-0034/func/ssub-0034_run-01_bold.nii')\n",
      "[MultiNiftiMasker.transform_single_imgs] Smoothing images\n",
      "[MultiNiftiMasker.transform_single_imgs] Extracting region signals\n",
      "[MultiNiftiMasker.transform_single_imgs] Cleaning extracted signals\n"
     ]
    },
    {
     "name": "stderr",
     "output_type": "stream",
     "text": [
      "/home/orco/anaconda3/envs/fmri/lib/python3.8/site-packages/nilearn/decomposition/base.py:219: UserWarning: Persisting input arguments took 1.58s to run.\n",
      "If this happens often in your code, it can cause performance problems \n",
      "(results will be correct in all cases). \n",
      "The reason for this is probably some large input arguments for a wrapped\n",
      " function (e.g. large strings).\n",
      "THIS IS A JOBLIB ISSUE. If you can, kindly provide the joblib's team with an\n",
      " example so that they can fix the problem.\n",
      "  U, S, V = cache(fast_svd, memory,\n"
     ]
    },
    {
     "name": "stdout",
     "output_type": "stream",
     "text": [
      "[MultiNiftiMasker.transform_single_imgs] Loading data from Nifti1Image('/media/2Tb/functional_analysis_jan2021/NeuroMet_fmriprep_conn/data/BIDS/dataset/sub-0035/func/ssub-0035_run-01_bold.nii')\n",
      "[MultiNiftiMasker.transform_single_imgs] Smoothing images\n",
      "[MultiNiftiMasker.transform_single_imgs] Extracting region signals\n",
      "[MultiNiftiMasker.transform_single_imgs] Cleaning extracted signals\n"
     ]
    },
    {
     "name": "stderr",
     "output_type": "stream",
     "text": [
      "/home/orco/anaconda3/envs/fmri/lib/python3.8/site-packages/nilearn/decomposition/base.py:219: UserWarning: Persisting input arguments took 1.58s to run.\n",
      "If this happens often in your code, it can cause performance problems \n",
      "(results will be correct in all cases). \n",
      "The reason for this is probably some large input arguments for a wrapped\n",
      " function (e.g. large strings).\n",
      "THIS IS A JOBLIB ISSUE. If you can, kindly provide the joblib's team with an\n",
      " example so that they can fix the problem.\n",
      "  U, S, V = cache(fast_svd, memory,\n"
     ]
    },
    {
     "name": "stdout",
     "output_type": "stream",
     "text": [
      "[MultiNiftiMasker.transform_single_imgs] Loading data from Nifti1Image('/media/2Tb/functional_analysis_jan2021/NeuroMet_fmriprep_conn/data/BIDS/dataset/sub-0036/func/ssub-0036_run-01_bold.nii')\n",
      "[MultiNiftiMasker.transform_single_imgs] Smoothing images\n",
      "[MultiNiftiMasker.transform_single_imgs] Extracting region signals\n",
      "[MultiNiftiMasker.transform_single_imgs] Cleaning extracted signals\n"
     ]
    },
    {
     "name": "stderr",
     "output_type": "stream",
     "text": [
      "/home/orco/anaconda3/envs/fmri/lib/python3.8/site-packages/nilearn/decomposition/base.py:219: UserWarning: Persisting input arguments took 1.56s to run.\n",
      "If this happens often in your code, it can cause performance problems \n",
      "(results will be correct in all cases). \n",
      "The reason for this is probably some large input arguments for a wrapped\n",
      " function (e.g. large strings).\n",
      "THIS IS A JOBLIB ISSUE. If you can, kindly provide the joblib's team with an\n",
      " example so that they can fix the problem.\n",
      "  U, S, V = cache(fast_svd, memory,\n"
     ]
    },
    {
     "name": "stdout",
     "output_type": "stream",
     "text": [
      "[MultiNiftiMasker.transform_single_imgs] Loading data from Nifti1Image('/media/2Tb/functional_analysis_jan2021/NeuroMet_fmriprep_conn/data/BIDS/dataset/sub-0037/func/ssub-0037_run-01_bold.nii')\n",
      "[MultiNiftiMasker.transform_single_imgs] Smoothing images\n",
      "[MultiNiftiMasker.transform_single_imgs] Extracting region signals\n",
      "[MultiNiftiMasker.transform_single_imgs] Cleaning extracted signals\n"
     ]
    },
    {
     "name": "stderr",
     "output_type": "stream",
     "text": [
      "/home/orco/anaconda3/envs/fmri/lib/python3.8/site-packages/nilearn/decomposition/base.py:219: UserWarning: Persisting input arguments took 1.58s to run.\n",
      "If this happens often in your code, it can cause performance problems \n",
      "(results will be correct in all cases). \n",
      "The reason for this is probably some large input arguments for a wrapped\n",
      " function (e.g. large strings).\n",
      "THIS IS A JOBLIB ISSUE. If you can, kindly provide the joblib's team with an\n",
      " example so that they can fix the problem.\n",
      "  U, S, V = cache(fast_svd, memory,\n"
     ]
    },
    {
     "name": "stdout",
     "output_type": "stream",
     "text": [
      "[MultiNiftiMasker.transform_single_imgs] Loading data from Nifti1Image('/media/2Tb/functional_analysis_jan2021/NeuroMet_fmriprep_conn/data/BIDS/dataset/sub-0038/func/ssub-0038_run-01_bold.nii')\n",
      "[MultiNiftiMasker.transform_single_imgs] Smoothing images\n",
      "[MultiNiftiMasker.transform_single_imgs] Extracting region signals\n",
      "[MultiNiftiMasker.transform_single_imgs] Cleaning extracted signals\n"
     ]
    },
    {
     "name": "stderr",
     "output_type": "stream",
     "text": [
      "/home/orco/anaconda3/envs/fmri/lib/python3.8/site-packages/nilearn/decomposition/base.py:219: UserWarning: Persisting input arguments took 1.57s to run.\n",
      "If this happens often in your code, it can cause performance problems \n",
      "(results will be correct in all cases). \n",
      "The reason for this is probably some large input arguments for a wrapped\n",
      " function (e.g. large strings).\n",
      "THIS IS A JOBLIB ISSUE. If you can, kindly provide the joblib's team with an\n",
      " example so that they can fix the problem.\n",
      "  U, S, V = cache(fast_svd, memory,\n"
     ]
    },
    {
     "name": "stdout",
     "output_type": "stream",
     "text": [
      "[MultiNiftiMasker.transform_single_imgs] Loading data from Nifti1Image('/media/2Tb/functional_analysis_jan2021/NeuroMet_fmriprep_conn/data/BIDS/dataset/sub-0039/func/ssub-0039_run-01_bold.nii')\n",
      "[MultiNiftiMasker.transform_single_imgs] Smoothing images\n",
      "[MultiNiftiMasker.transform_single_imgs] Extracting region signals\n",
      "[MultiNiftiMasker.transform_single_imgs] Cleaning extracted signals\n"
     ]
    },
    {
     "name": "stderr",
     "output_type": "stream",
     "text": [
      "/home/orco/anaconda3/envs/fmri/lib/python3.8/site-packages/nilearn/decomposition/base.py:219: UserWarning: Persisting input arguments took 1.58s to run.\n",
      "If this happens often in your code, it can cause performance problems \n",
      "(results will be correct in all cases). \n",
      "The reason for this is probably some large input arguments for a wrapped\n",
      " function (e.g. large strings).\n",
      "THIS IS A JOBLIB ISSUE. If you can, kindly provide the joblib's team with an\n",
      " example so that they can fix the problem.\n",
      "  U, S, V = cache(fast_svd, memory,\n"
     ]
    },
    {
     "name": "stdout",
     "output_type": "stream",
     "text": [
      "[MultiNiftiMasker.transform_single_imgs] Loading data from Nifti1Image('/media/2Tb/functional_analysis_jan2021/NeuroMet_fmriprep_conn/data/BIDS/dataset/sub-0040/func/ssub-0040_run-01_bold.nii')\n",
      "[MultiNiftiMasker.transform_single_imgs] Smoothing images\n",
      "[MultiNiftiMasker.transform_single_imgs] Extracting region signals\n",
      "[MultiNiftiMasker.transform_single_imgs] Cleaning extracted signals\n"
     ]
    },
    {
     "name": "stderr",
     "output_type": "stream",
     "text": [
      "/home/orco/anaconda3/envs/fmri/lib/python3.8/site-packages/nilearn/decomposition/base.py:219: UserWarning: Persisting input arguments took 1.58s to run.\n",
      "If this happens often in your code, it can cause performance problems \n",
      "(results will be correct in all cases). \n",
      "The reason for this is probably some large input arguments for a wrapped\n",
      " function (e.g. large strings).\n",
      "THIS IS A JOBLIB ISSUE. If you can, kindly provide the joblib's team with an\n",
      " example so that they can fix the problem.\n",
      "  U, S, V = cache(fast_svd, memory,\n"
     ]
    },
    {
     "name": "stdout",
     "output_type": "stream",
     "text": [
      "[MultiNiftiMasker.transform_single_imgs] Loading data from Nifti1Image('/media/2Tb/functional_analysis_jan2021/NeuroMet_fmriprep_conn/data/BIDS/dataset/sub-0041/func/ssub-0041_run-01_bold.nii')\n",
      "[MultiNiftiMasker.transform_single_imgs] Smoothing images\n",
      "[MultiNiftiMasker.transform_single_imgs] Extracting region signals\n",
      "[MultiNiftiMasker.transform_single_imgs] Cleaning extracted signals\n"
     ]
    },
    {
     "name": "stderr",
     "output_type": "stream",
     "text": [
      "/home/orco/anaconda3/envs/fmri/lib/python3.8/site-packages/nilearn/decomposition/base.py:219: UserWarning: Persisting input arguments took 1.57s to run.\n",
      "If this happens often in your code, it can cause performance problems \n",
      "(results will be correct in all cases). \n",
      "The reason for this is probably some large input arguments for a wrapped\n",
      " function (e.g. large strings).\n",
      "THIS IS A JOBLIB ISSUE. If you can, kindly provide the joblib's team with an\n",
      " example so that they can fix the problem.\n",
      "  U, S, V = cache(fast_svd, memory,\n"
     ]
    },
    {
     "name": "stdout",
     "output_type": "stream",
     "text": [
      "[MultiNiftiMasker.transform_single_imgs] Loading data from Nifti1Image('/media/2Tb/functional_analysis_jan2021/NeuroMet_fmriprep_conn/data/BIDS/dataset/sub-0044/func/ssub-0044_run-01_bold.nii')\n",
      "[MultiNiftiMasker.transform_single_imgs] Smoothing images\n",
      "[MultiNiftiMasker.transform_single_imgs] Extracting region signals\n",
      "[MultiNiftiMasker.transform_single_imgs] Cleaning extracted signals\n"
     ]
    },
    {
     "name": "stderr",
     "output_type": "stream",
     "text": [
      "/home/orco/anaconda3/envs/fmri/lib/python3.8/site-packages/nilearn/decomposition/base.py:219: UserWarning: Persisting input arguments took 1.58s to run.\n",
      "If this happens often in your code, it can cause performance problems \n",
      "(results will be correct in all cases). \n",
      "The reason for this is probably some large input arguments for a wrapped\n",
      " function (e.g. large strings).\n",
      "THIS IS A JOBLIB ISSUE. If you can, kindly provide the joblib's team with an\n",
      " example so that they can fix the problem.\n",
      "  U, S, V = cache(fast_svd, memory,\n"
     ]
    },
    {
     "name": "stdout",
     "output_type": "stream",
     "text": [
      "[MultiNiftiMasker.transform_single_imgs] Loading data from Nifti1Image('/media/2Tb/functional_analysis_jan2021/NeuroMet_fmriprep_conn/data/BIDS/dataset/sub-0045/func/ssub-0045_run-01_bold.nii')\n",
      "[MultiNiftiMasker.transform_single_imgs] Smoothing images\n",
      "[MultiNiftiMasker.transform_single_imgs] Extracting region signals\n",
      "[MultiNiftiMasker.transform_single_imgs] Cleaning extracted signals\n"
     ]
    },
    {
     "name": "stderr",
     "output_type": "stream",
     "text": [
      "/home/orco/anaconda3/envs/fmri/lib/python3.8/site-packages/nilearn/decomposition/base.py:219: UserWarning: Persisting input arguments took 1.58s to run.\n",
      "If this happens often in your code, it can cause performance problems \n",
      "(results will be correct in all cases). \n",
      "The reason for this is probably some large input arguments for a wrapped\n",
      " function (e.g. large strings).\n",
      "THIS IS A JOBLIB ISSUE. If you can, kindly provide the joblib's team with an\n",
      " example so that they can fix the problem.\n",
      "  U, S, V = cache(fast_svd, memory,\n"
     ]
    },
    {
     "name": "stdout",
     "output_type": "stream",
     "text": [
      "[MultiNiftiMasker.transform_single_imgs] Loading data from Nifti1Image('/media/2Tb/functional_analysis_jan2021/NeuroMet_fmriprep_conn/data/BIDS/dataset/sub-0046/func/ssub-0046_run-01_bold.nii')\n",
      "[MultiNiftiMasker.transform_single_imgs] Smoothing images\n",
      "[MultiNiftiMasker.transform_single_imgs] Extracting region signals\n",
      "[MultiNiftiMasker.transform_single_imgs] Cleaning extracted signals\n"
     ]
    },
    {
     "name": "stderr",
     "output_type": "stream",
     "text": [
      "/home/orco/anaconda3/envs/fmri/lib/python3.8/site-packages/nilearn/decomposition/base.py:219: UserWarning: Persisting input arguments took 1.59s to run.\n",
      "If this happens often in your code, it can cause performance problems \n",
      "(results will be correct in all cases). \n",
      "The reason for this is probably some large input arguments for a wrapped\n",
      " function (e.g. large strings).\n",
      "THIS IS A JOBLIB ISSUE. If you can, kindly provide the joblib's team with an\n",
      " example so that they can fix the problem.\n",
      "  U, S, V = cache(fast_svd, memory,\n"
     ]
    },
    {
     "name": "stdout",
     "output_type": "stream",
     "text": [
      "[MultiNiftiMasker.transform_single_imgs] Loading data from Nifti1Image('/media/2Tb/functional_analysis_jan2021/NeuroMet_fmriprep_conn/data/BIDS/dataset/sub-0047/func/ssub-0047_run-01_bold.nii')\n",
      "[MultiNiftiMasker.transform_single_imgs] Smoothing images\n",
      "[MultiNiftiMasker.transform_single_imgs] Extracting region signals\n",
      "[MultiNiftiMasker.transform_single_imgs] Cleaning extracted signals\n"
     ]
    },
    {
     "name": "stderr",
     "output_type": "stream",
     "text": [
      "/home/orco/anaconda3/envs/fmri/lib/python3.8/site-packages/nilearn/decomposition/base.py:219: UserWarning: Persisting input arguments took 1.55s to run.\n",
      "If this happens often in your code, it can cause performance problems \n",
      "(results will be correct in all cases). \n",
      "The reason for this is probably some large input arguments for a wrapped\n",
      " function (e.g. large strings).\n",
      "THIS IS A JOBLIB ISSUE. If you can, kindly provide the joblib's team with an\n",
      " example so that they can fix the problem.\n",
      "  U, S, V = cache(fast_svd, memory,\n"
     ]
    },
    {
     "name": "stdout",
     "output_type": "stream",
     "text": [
      "[MultiNiftiMasker.transform_single_imgs] Loading data from Nifti1Image('/media/2Tb/functional_analysis_jan2021/NeuroMet_fmriprep_conn/data/BIDS/dataset/sub-0048/func/ssub-0048_run-01_bold.nii')\n",
      "[MultiNiftiMasker.transform_single_imgs] Smoothing images\n",
      "[MultiNiftiMasker.transform_single_imgs] Extracting region signals\n",
      "[MultiNiftiMasker.transform_single_imgs] Cleaning extracted signals\n"
     ]
    },
    {
     "name": "stderr",
     "output_type": "stream",
     "text": [
      "/home/orco/anaconda3/envs/fmri/lib/python3.8/site-packages/nilearn/decomposition/base.py:219: UserWarning: Persisting input arguments took 1.59s to run.\n",
      "If this happens often in your code, it can cause performance problems \n",
      "(results will be correct in all cases). \n",
      "The reason for this is probably some large input arguments for a wrapped\n",
      " function (e.g. large strings).\n",
      "THIS IS A JOBLIB ISSUE. If you can, kindly provide the joblib's team with an\n",
      " example so that they can fix the problem.\n",
      "  U, S, V = cache(fast_svd, memory,\n"
     ]
    },
    {
     "name": "stdout",
     "output_type": "stream",
     "text": [
      "[MultiNiftiMasker.transform_single_imgs] Loading data from Nifti1Image('/media/2Tb/functional_analysis_jan2021/NeuroMet_fmriprep_conn/data/BIDS/dataset/sub-0049/func/ssub-0049_run-01_bold.nii')\n",
      "[MultiNiftiMasker.transform_single_imgs] Smoothing images\n",
      "[MultiNiftiMasker.transform_single_imgs] Extracting region signals\n",
      "[MultiNiftiMasker.transform_single_imgs] Cleaning extracted signals\n"
     ]
    },
    {
     "name": "stderr",
     "output_type": "stream",
     "text": [
      "/home/orco/anaconda3/envs/fmri/lib/python3.8/site-packages/nilearn/decomposition/base.py:219: UserWarning: Persisting input arguments took 1.58s to run.\n",
      "If this happens often in your code, it can cause performance problems \n",
      "(results will be correct in all cases). \n",
      "The reason for this is probably some large input arguments for a wrapped\n",
      " function (e.g. large strings).\n",
      "THIS IS A JOBLIB ISSUE. If you can, kindly provide the joblib's team with an\n",
      " example so that they can fix the problem.\n",
      "  U, S, V = cache(fast_svd, memory,\n"
     ]
    },
    {
     "name": "stdout",
     "output_type": "stream",
     "text": [
      "[MultiNiftiMasker.transform_single_imgs] Loading data from Nifti1Image('/media/2Tb/functional_analysis_jan2021/NeuroMet_fmriprep_conn/data/BIDS/dataset/sub-0050/func/ssub-0050_run-01_bold.nii')\n",
      "[MultiNiftiMasker.transform_single_imgs] Smoothing images\n",
      "[MultiNiftiMasker.transform_single_imgs] Extracting region signals\n",
      "[MultiNiftiMasker.transform_single_imgs] Cleaning extracted signals\n"
     ]
    },
    {
     "name": "stderr",
     "output_type": "stream",
     "text": [
      "/home/orco/anaconda3/envs/fmri/lib/python3.8/site-packages/nilearn/decomposition/base.py:219: UserWarning: Persisting input arguments took 1.58s to run.\n",
      "If this happens often in your code, it can cause performance problems \n",
      "(results will be correct in all cases). \n",
      "The reason for this is probably some large input arguments for a wrapped\n",
      " function (e.g. large strings).\n",
      "THIS IS A JOBLIB ISSUE. If you can, kindly provide the joblib's team with an\n",
      " example so that they can fix the problem.\n",
      "  U, S, V = cache(fast_svd, memory,\n"
     ]
    },
    {
     "name": "stdout",
     "output_type": "stream",
     "text": [
      "[MultiNiftiMasker.transform_single_imgs] Loading data from Nifti1Image('/media/2Tb/functional_analysis_jan2021/NeuroMet_fmriprep_conn/data/BIDS/dataset/sub-0051/func/ssub-0051_run-01_bold.nii')\n",
      "[MultiNiftiMasker.transform_single_imgs] Smoothing images\n",
      "[MultiNiftiMasker.transform_single_imgs] Extracting region signals\n",
      "[MultiNiftiMasker.transform_single_imgs] Cleaning extracted signals\n"
     ]
    },
    {
     "name": "stderr",
     "output_type": "stream",
     "text": [
      "/home/orco/anaconda3/envs/fmri/lib/python3.8/site-packages/nilearn/decomposition/base.py:219: UserWarning: Persisting input arguments took 1.58s to run.\n",
      "If this happens often in your code, it can cause performance problems \n",
      "(results will be correct in all cases). \n",
      "The reason for this is probably some large input arguments for a wrapped\n",
      " function (e.g. large strings).\n",
      "THIS IS A JOBLIB ISSUE. If you can, kindly provide the joblib's team with an\n",
      " example so that they can fix the problem.\n",
      "  U, S, V = cache(fast_svd, memory,\n"
     ]
    },
    {
     "name": "stdout",
     "output_type": "stream",
     "text": [
      "[MultiNiftiMasker.transform_single_imgs] Loading data from Nifti1Image('/media/2Tb/functional_analysis_jan2021/NeuroMet_fmriprep_conn/data/BIDS/dataset/sub-0052/func/ssub-0052_run-01_bold.nii')\n",
      "[MultiNiftiMasker.transform_single_imgs] Smoothing images\n",
      "[MultiNiftiMasker.transform_single_imgs] Extracting region signals\n",
      "[MultiNiftiMasker.transform_single_imgs] Cleaning extracted signals\n"
     ]
    },
    {
     "name": "stderr",
     "output_type": "stream",
     "text": [
      "/home/orco/anaconda3/envs/fmri/lib/python3.8/site-packages/nilearn/decomposition/base.py:219: UserWarning: Persisting input arguments took 1.51s to run.\n",
      "If this happens often in your code, it can cause performance problems \n",
      "(results will be correct in all cases). \n",
      "The reason for this is probably some large input arguments for a wrapped\n",
      " function (e.g. large strings).\n",
      "THIS IS A JOBLIB ISSUE. If you can, kindly provide the joblib's team with an\n",
      " example so that they can fix the problem.\n",
      "  U, S, V = cache(fast_svd, memory,\n"
     ]
    },
    {
     "name": "stdout",
     "output_type": "stream",
     "text": [
      "[MultiNiftiMasker.transform_single_imgs] Loading data from Nifti1Image('/media/2Tb/functional_analysis_jan2021/NeuroMet_fmriprep_conn/data/BIDS/dataset/sub-0053/func/ssub-0053_run-01_bold.nii')\n",
      "[MultiNiftiMasker.transform_single_imgs] Smoothing images\n",
      "[MultiNiftiMasker.transform_single_imgs] Extracting region signals\n",
      "[MultiNiftiMasker.transform_single_imgs] Cleaning extracted signals\n"
     ]
    },
    {
     "name": "stderr",
     "output_type": "stream",
     "text": [
      "/home/orco/anaconda3/envs/fmri/lib/python3.8/site-packages/nilearn/decomposition/base.py:219: UserWarning: Persisting input arguments took 1.57s to run.\n",
      "If this happens often in your code, it can cause performance problems \n",
      "(results will be correct in all cases). \n",
      "The reason for this is probably some large input arguments for a wrapped\n",
      " function (e.g. large strings).\n",
      "THIS IS A JOBLIB ISSUE. If you can, kindly provide the joblib's team with an\n",
      " example so that they can fix the problem.\n",
      "  U, S, V = cache(fast_svd, memory,\n"
     ]
    },
    {
     "name": "stdout",
     "output_type": "stream",
     "text": [
      "[MultiNiftiMasker.transform_single_imgs] Loading data from Nifti1Image('/media/2Tb/functional_analysis_jan2021/NeuroMet_fmriprep_conn/data/BIDS/dataset/sub-0054/func/ssub-0054_run-01_bold.nii')\n",
      "[MultiNiftiMasker.transform_single_imgs] Smoothing images\n",
      "[MultiNiftiMasker.transform_single_imgs] Extracting region signals\n",
      "[MultiNiftiMasker.transform_single_imgs] Cleaning extracted signals\n"
     ]
    },
    {
     "name": "stderr",
     "output_type": "stream",
     "text": [
      "/home/orco/anaconda3/envs/fmri/lib/python3.8/site-packages/nilearn/decomposition/base.py:219: UserWarning: Persisting input arguments took 1.60s to run.\n",
      "If this happens often in your code, it can cause performance problems \n",
      "(results will be correct in all cases). \n",
      "The reason for this is probably some large input arguments for a wrapped\n",
      " function (e.g. large strings).\n",
      "THIS IS A JOBLIB ISSUE. If you can, kindly provide the joblib's team with an\n",
      " example so that they can fix the problem.\n",
      "  U, S, V = cache(fast_svd, memory,\n"
     ]
    },
    {
     "name": "stdout",
     "output_type": "stream",
     "text": [
      "[MultiNiftiMasker.transform_single_imgs] Loading data from Nifti1Image('/media/2Tb/functional_analysis_jan2021/NeuroMet_fmriprep_conn/data/BIDS/dataset/sub-0055/func/ssub-0055_run-01_bold.nii')\n",
      "[MultiNiftiMasker.transform_single_imgs] Smoothing images\n",
      "[MultiNiftiMasker.transform_single_imgs] Extracting region signals\n",
      "[MultiNiftiMasker.transform_single_imgs] Cleaning extracted signals\n"
     ]
    },
    {
     "name": "stderr",
     "output_type": "stream",
     "text": [
      "/home/orco/anaconda3/envs/fmri/lib/python3.8/site-packages/nilearn/decomposition/base.py:219: UserWarning: Persisting input arguments took 1.58s to run.\n",
      "If this happens often in your code, it can cause performance problems \n",
      "(results will be correct in all cases). \n",
      "The reason for this is probably some large input arguments for a wrapped\n",
      " function (e.g. large strings).\n",
      "THIS IS A JOBLIB ISSUE. If you can, kindly provide the joblib's team with an\n",
      " example so that they can fix the problem.\n",
      "  U, S, V = cache(fast_svd, memory,\n"
     ]
    },
    {
     "name": "stdout",
     "output_type": "stream",
     "text": [
      "[MultiNiftiMasker.transform_single_imgs] Loading data from Nifti1Image('/media/2Tb/functional_analysis_jan2021/NeuroMet_fmriprep_conn/data/BIDS/dataset/sub-0056/func/ssub-0056_run-01_bold.nii')\n",
      "[MultiNiftiMasker.transform_single_imgs] Smoothing images\n",
      "[MultiNiftiMasker.transform_single_imgs] Extracting region signals\n",
      "[MultiNiftiMasker.transform_single_imgs] Cleaning extracted signals\n"
     ]
    },
    {
     "name": "stderr",
     "output_type": "stream",
     "text": [
      "/home/orco/anaconda3/envs/fmri/lib/python3.8/site-packages/nilearn/decomposition/base.py:219: UserWarning: Persisting input arguments took 1.58s to run.\n",
      "If this happens often in your code, it can cause performance problems \n",
      "(results will be correct in all cases). \n",
      "The reason for this is probably some large input arguments for a wrapped\n",
      " function (e.g. large strings).\n",
      "THIS IS A JOBLIB ISSUE. If you can, kindly provide the joblib's team with an\n",
      " example so that they can fix the problem.\n",
      "  U, S, V = cache(fast_svd, memory,\n"
     ]
    },
    {
     "name": "stdout",
     "output_type": "stream",
     "text": [
      "[MultiNiftiMasker.transform_single_imgs] Loading data from Nifti1Image('/media/2Tb/functional_analysis_jan2021/NeuroMet_fmriprep_conn/data/BIDS/dataset/sub-0057/func/ssub-0057_run-01_bold.nii')\n",
      "[MultiNiftiMasker.transform_single_imgs] Smoothing images\n",
      "[MultiNiftiMasker.transform_single_imgs] Extracting region signals\n",
      "[MultiNiftiMasker.transform_single_imgs] Cleaning extracted signals\n"
     ]
    },
    {
     "name": "stderr",
     "output_type": "stream",
     "text": [
      "/home/orco/anaconda3/envs/fmri/lib/python3.8/site-packages/nilearn/decomposition/base.py:219: UserWarning: Persisting input arguments took 1.57s to run.\n",
      "If this happens often in your code, it can cause performance problems \n",
      "(results will be correct in all cases). \n",
      "The reason for this is probably some large input arguments for a wrapped\n",
      " function (e.g. large strings).\n",
      "THIS IS A JOBLIB ISSUE. If you can, kindly provide the joblib's team with an\n",
      " example so that they can fix the problem.\n",
      "  U, S, V = cache(fast_svd, memory,\n"
     ]
    },
    {
     "name": "stdout",
     "output_type": "stream",
     "text": [
      "[MultiNiftiMasker.transform_single_imgs] Loading data from Nifti1Image('/media/2Tb/functional_analysis_jan2021/NeuroMet_fmriprep_conn/data/BIDS/dataset/sub-0058/func/ssub-0058_run-01_bold.nii')\n",
      "[MultiNiftiMasker.transform_single_imgs] Smoothing images\n",
      "[MultiNiftiMasker.transform_single_imgs] Extracting region signals\n",
      "[MultiNiftiMasker.transform_single_imgs] Cleaning extracted signals\n"
     ]
    },
    {
     "name": "stderr",
     "output_type": "stream",
     "text": [
      "/home/orco/anaconda3/envs/fmri/lib/python3.8/site-packages/nilearn/decomposition/base.py:219: UserWarning: Persisting input arguments took 1.59s to run.\n",
      "If this happens often in your code, it can cause performance problems \n",
      "(results will be correct in all cases). \n",
      "The reason for this is probably some large input arguments for a wrapped\n",
      " function (e.g. large strings).\n",
      "THIS IS A JOBLIB ISSUE. If you can, kindly provide the joblib's team with an\n",
      " example so that they can fix the problem.\n",
      "  U, S, V = cache(fast_svd, memory,\n"
     ]
    },
    {
     "name": "stdout",
     "output_type": "stream",
     "text": [
      "[MultiNiftiMasker.transform_single_imgs] Loading data from Nifti1Image('/media/2Tb/functional_analysis_jan2021/NeuroMet_fmriprep_conn/data/BIDS/dataset/sub-0059/func/ssub-0059_run-01_bold.nii')\n",
      "[MultiNiftiMasker.transform_single_imgs] Smoothing images\n",
      "[MultiNiftiMasker.transform_single_imgs] Extracting region signals\n",
      "[MultiNiftiMasker.transform_single_imgs] Cleaning extracted signals\n"
     ]
    },
    {
     "name": "stderr",
     "output_type": "stream",
     "text": [
      "/home/orco/anaconda3/envs/fmri/lib/python3.8/site-packages/nilearn/decomposition/base.py:219: UserWarning: Persisting input arguments took 1.59s to run.\n",
      "If this happens often in your code, it can cause performance problems \n",
      "(results will be correct in all cases). \n",
      "The reason for this is probably some large input arguments for a wrapped\n",
      " function (e.g. large strings).\n",
      "THIS IS A JOBLIB ISSUE. If you can, kindly provide the joblib's team with an\n",
      " example so that they can fix the problem.\n",
      "  U, S, V = cache(fast_svd, memory,\n"
     ]
    },
    {
     "name": "stdout",
     "output_type": "stream",
     "text": [
      "[MultiNiftiMasker.transform_single_imgs] Loading data from Nifti1Image('/media/2Tb/functional_analysis_jan2021/NeuroMet_fmriprep_conn/data/BIDS/dataset/sub-0060/func/ssub-0060_run-01_bold.nii')\n",
      "[MultiNiftiMasker.transform_single_imgs] Smoothing images\n",
      "[MultiNiftiMasker.transform_single_imgs] Extracting region signals\n",
      "[MultiNiftiMasker.transform_single_imgs] Cleaning extracted signals\n"
     ]
    },
    {
     "name": "stderr",
     "output_type": "stream",
     "text": [
      "/home/orco/anaconda3/envs/fmri/lib/python3.8/site-packages/nilearn/decomposition/base.py:219: UserWarning: Persisting input arguments took 1.61s to run.\n",
      "If this happens often in your code, it can cause performance problems \n",
      "(results will be correct in all cases). \n",
      "The reason for this is probably some large input arguments for a wrapped\n",
      " function (e.g. large strings).\n",
      "THIS IS A JOBLIB ISSUE. If you can, kindly provide the joblib's team with an\n",
      " example so that they can fix the problem.\n",
      "  U, S, V = cache(fast_svd, memory,\n"
     ]
    },
    {
     "name": "stdout",
     "output_type": "stream",
     "text": [
      "[MultiNiftiMasker.transform_single_imgs] Loading data from Nifti1Image('/media/2Tb/functional_analysis_jan2021/NeuroMet_fmriprep_conn/data/BIDS/dataset/sub-0061/func/ssub-0061_run-01_bold.nii')\n",
      "[MultiNiftiMasker.transform_single_imgs] Smoothing images\n",
      "[MultiNiftiMasker.transform_single_imgs] Extracting region signals\n",
      "[MultiNiftiMasker.transform_single_imgs] Cleaning extracted signals\n"
     ]
    },
    {
     "name": "stderr",
     "output_type": "stream",
     "text": [
      "/home/orco/anaconda3/envs/fmri/lib/python3.8/site-packages/nilearn/decomposition/base.py:219: UserWarning: Persisting input arguments took 1.58s to run.\n",
      "If this happens often in your code, it can cause performance problems \n",
      "(results will be correct in all cases). \n",
      "The reason for this is probably some large input arguments for a wrapped\n",
      " function (e.g. large strings).\n",
      "THIS IS A JOBLIB ISSUE. If you can, kindly provide the joblib's team with an\n",
      " example so that they can fix the problem.\n",
      "  U, S, V = cache(fast_svd, memory,\n"
     ]
    },
    {
     "name": "stdout",
     "output_type": "stream",
     "text": [
      "[MultiNiftiMasker.transform_single_imgs] Loading data from Nifti1Image('/media/2Tb/functional_analysis_jan2021/NeuroMet_fmriprep_conn/data/BIDS/dataset/sub-0062/func/ssub-0062_run-01_bold.nii')\n",
      "[MultiNiftiMasker.transform_single_imgs] Smoothing images\n",
      "[MultiNiftiMasker.transform_single_imgs] Extracting region signals\n",
      "[MultiNiftiMasker.transform_single_imgs] Cleaning extracted signals\n"
     ]
    },
    {
     "name": "stderr",
     "output_type": "stream",
     "text": [
      "/home/orco/anaconda3/envs/fmri/lib/python3.8/site-packages/nilearn/decomposition/base.py:219: UserWarning: Persisting input arguments took 1.58s to run.\n",
      "If this happens often in your code, it can cause performance problems \n",
      "(results will be correct in all cases). \n",
      "The reason for this is probably some large input arguments for a wrapped\n",
      " function (e.g. large strings).\n",
      "THIS IS A JOBLIB ISSUE. If you can, kindly provide the joblib's team with an\n",
      " example so that they can fix the problem.\n",
      "  U, S, V = cache(fast_svd, memory,\n"
     ]
    },
    {
     "name": "stdout",
     "output_type": "stream",
     "text": [
      "[MultiNiftiMasker.transform_single_imgs] Loading data from Nifti1Image('/media/2Tb/functional_analysis_jan2021/NeuroMet_fmriprep_conn/data/BIDS/dataset/sub-0063/func/ssub-0063_run-01_bold.nii')\n",
      "[MultiNiftiMasker.transform_single_imgs] Smoothing images\n",
      "[MultiNiftiMasker.transform_single_imgs] Extracting region signals\n",
      "[MultiNiftiMasker.transform_single_imgs] Cleaning extracted signals\n",
      "[MultiNiftiMasker.transform_single_imgs] Loading data from Nifti1Image('/media/2Tb/functional_analysis_jan2021/NeuroMet_fmriprep_conn/data/BIDS/dataset/sub-0064/func/ssub-0064_run-01_bold.nii')\n",
      "[MultiNiftiMasker.transform_single_imgs] Smoothing images\n",
      "[MultiNiftiMasker.transform_single_imgs] Extracting region signals\n",
      "[MultiNiftiMasker.transform_single_imgs] Cleaning extracted signals\n"
     ]
    },
    {
     "name": "stderr",
     "output_type": "stream",
     "text": [
      "/home/orco/anaconda3/envs/fmri/lib/python3.8/site-packages/nilearn/decomposition/base.py:219: UserWarning: Persisting input arguments took 1.58s to run.\n",
      "If this happens often in your code, it can cause performance problems \n",
      "(results will be correct in all cases). \n",
      "The reason for this is probably some large input arguments for a wrapped\n",
      " function (e.g. large strings).\n",
      "THIS IS A JOBLIB ISSUE. If you can, kindly provide the joblib's team with an\n",
      " example so that they can fix the problem.\n",
      "  U, S, V = cache(fast_svd, memory,\n"
     ]
    },
    {
     "name": "stdout",
     "output_type": "stream",
     "text": [
      "[MultiNiftiMasker.transform_single_imgs] Loading data from Nifti1Image('/media/2Tb/functional_analysis_jan2021/NeuroMet_fmriprep_conn/data/BIDS/dataset/sub-0065/func/ssub-0065_run-01_bold.nii')\n",
      "[MultiNiftiMasker.transform_single_imgs] Smoothing images\n",
      "[MultiNiftiMasker.transform_single_imgs] Extracting region signals\n",
      "[MultiNiftiMasker.transform_single_imgs] Cleaning extracted signals\n"
     ]
    },
    {
     "name": "stderr",
     "output_type": "stream",
     "text": [
      "/home/orco/anaconda3/envs/fmri/lib/python3.8/site-packages/nilearn/decomposition/base.py:219: UserWarning: Persisting input arguments took 1.58s to run.\n",
      "If this happens often in your code, it can cause performance problems \n",
      "(results will be correct in all cases). \n",
      "The reason for this is probably some large input arguments for a wrapped\n",
      " function (e.g. large strings).\n",
      "THIS IS A JOBLIB ISSUE. If you can, kindly provide the joblib's team with an\n",
      " example so that they can fix the problem.\n",
      "  U, S, V = cache(fast_svd, memory,\n"
     ]
    },
    {
     "name": "stdout",
     "output_type": "stream",
     "text": [
      "[MultiNiftiMasker.transform_single_imgs] Loading data from Nifti1Image('/media/2Tb/functional_analysis_jan2021/NeuroMet_fmriprep_conn/data/BIDS/dataset/sub-0067/func/ssub-0067_run-01_bold.nii')\n",
      "[MultiNiftiMasker.transform_single_imgs] Smoothing images\n",
      "[MultiNiftiMasker.transform_single_imgs] Extracting region signals\n",
      "[MultiNiftiMasker.transform_single_imgs] Cleaning extracted signals\n"
     ]
    },
    {
     "name": "stderr",
     "output_type": "stream",
     "text": [
      "/home/orco/anaconda3/envs/fmri/lib/python3.8/site-packages/nilearn/decomposition/base.py:219: UserWarning: Persisting input arguments took 1.59s to run.\n",
      "If this happens often in your code, it can cause performance problems \n",
      "(results will be correct in all cases). \n",
      "The reason for this is probably some large input arguments for a wrapped\n",
      " function (e.g. large strings).\n",
      "THIS IS A JOBLIB ISSUE. If you can, kindly provide the joblib's team with an\n",
      " example so that they can fix the problem.\n",
      "  U, S, V = cache(fast_svd, memory,\n"
     ]
    },
    {
     "name": "stdout",
     "output_type": "stream",
     "text": [
      "[MultiNiftiMasker.transform_single_imgs] Loading data from Nifti1Image('/media/2Tb/functional_analysis_jan2021/NeuroMet_fmriprep_conn/data/BIDS/dataset/sub-0068/func/ssub-0068_run-01_bold.nii')\n",
      "[MultiNiftiMasker.transform_single_imgs] Smoothing images\n",
      "[MultiNiftiMasker.transform_single_imgs] Extracting region signals\n",
      "[MultiNiftiMasker.transform_single_imgs] Cleaning extracted signals\n"
     ]
    },
    {
     "name": "stderr",
     "output_type": "stream",
     "text": [
      "/home/orco/anaconda3/envs/fmri/lib/python3.8/site-packages/nilearn/decomposition/base.py:219: UserWarning: Persisting input arguments took 1.59s to run.\n",
      "If this happens often in your code, it can cause performance problems \n",
      "(results will be correct in all cases). \n",
      "The reason for this is probably some large input arguments for a wrapped\n",
      " function (e.g. large strings).\n",
      "THIS IS A JOBLIB ISSUE. If you can, kindly provide the joblib's team with an\n",
      " example so that they can fix the problem.\n",
      "  U, S, V = cache(fast_svd, memory,\n"
     ]
    },
    {
     "name": "stdout",
     "output_type": "stream",
     "text": [
      "[MultiNiftiMasker.transform_single_imgs] Loading data from Nifti1Image('/media/2Tb/functional_analysis_jan2021/NeuroMet_fmriprep_conn/data/BIDS/dataset/sub-0069/func/ssub-0069_run-01_bold.nii')\n",
      "[MultiNiftiMasker.transform_single_imgs] Smoothing images\n",
      "[MultiNiftiMasker.transform_single_imgs] Extracting region signals\n",
      "[MultiNiftiMasker.transform_single_imgs] Cleaning extracted signals\n"
     ]
    },
    {
     "name": "stderr",
     "output_type": "stream",
     "text": [
      "/home/orco/anaconda3/envs/fmri/lib/python3.8/site-packages/nilearn/decomposition/base.py:219: UserWarning: Persisting input arguments took 1.59s to run.\n",
      "If this happens often in your code, it can cause performance problems \n",
      "(results will be correct in all cases). \n",
      "The reason for this is probably some large input arguments for a wrapped\n",
      " function (e.g. large strings).\n",
      "THIS IS A JOBLIB ISSUE. If you can, kindly provide the joblib's team with an\n",
      " example so that they can fix the problem.\n",
      "  U, S, V = cache(fast_svd, memory,\n"
     ]
    },
    {
     "name": "stdout",
     "output_type": "stream",
     "text": [
      "[MultiNiftiMasker.transform_single_imgs] Loading data from Nifti1Image('/media/2Tb/functional_analysis_jan2021/NeuroMet_fmriprep_conn/data/BIDS/dataset/sub-0070/func/ssub-0070_run-01_bold.nii')\n",
      "[MultiNiftiMasker.transform_single_imgs] Smoothing images\n",
      "[MultiNiftiMasker.transform_single_imgs] Extracting region signals\n",
      "[MultiNiftiMasker.transform_single_imgs] Cleaning extracted signals\n"
     ]
    },
    {
     "name": "stderr",
     "output_type": "stream",
     "text": [
      "/home/orco/anaconda3/envs/fmri/lib/python3.8/site-packages/nilearn/decomposition/base.py:219: UserWarning: Persisting input arguments took 1.58s to run.\n",
      "If this happens often in your code, it can cause performance problems \n",
      "(results will be correct in all cases). \n",
      "The reason for this is probably some large input arguments for a wrapped\n",
      " function (e.g. large strings).\n",
      "THIS IS A JOBLIB ISSUE. If you can, kindly provide the joblib's team with an\n",
      " example so that they can fix the problem.\n",
      "  U, S, V = cache(fast_svd, memory,\n"
     ]
    },
    {
     "name": "stdout",
     "output_type": "stream",
     "text": [
      "[MultiNiftiMasker.transform_single_imgs] Loading data from Nifti1Image('/media/2Tb/functional_analysis_jan2021/NeuroMet_fmriprep_conn/data/BIDS/dataset/sub-0071/func/ssub-0071_run-01_bold.nii')\n",
      "[MultiNiftiMasker.transform_single_imgs] Smoothing images\n",
      "[MultiNiftiMasker.transform_single_imgs] Extracting region signals\n",
      "[MultiNiftiMasker.transform_single_imgs] Cleaning extracted signals\n"
     ]
    },
    {
     "name": "stderr",
     "output_type": "stream",
     "text": [
      "/home/orco/anaconda3/envs/fmri/lib/python3.8/site-packages/nilearn/decomposition/base.py:219: UserWarning: Persisting input arguments took 1.51s to run.\n",
      "If this happens often in your code, it can cause performance problems \n",
      "(results will be correct in all cases). \n",
      "The reason for this is probably some large input arguments for a wrapped\n",
      " function (e.g. large strings).\n",
      "THIS IS A JOBLIB ISSUE. If you can, kindly provide the joblib's team with an\n",
      " example so that they can fix the problem.\n",
      "  U, S, V = cache(fast_svd, memory,\n"
     ]
    },
    {
     "name": "stdout",
     "output_type": "stream",
     "text": [
      "[MultiNiftiMasker.transform_single_imgs] Loading data from Nifti1Image('/media/2Tb/functional_analysis_jan2021/NeuroMet_fmriprep_conn/data/BIDS/dataset/sub-0072/func/ssub-0072_run-01_bold.nii')\n",
      "[MultiNiftiMasker.transform_single_imgs] Smoothing images\n",
      "[MultiNiftiMasker.transform_single_imgs] Extracting region signals\n",
      "[MultiNiftiMasker.transform_single_imgs] Cleaning extracted signals\n"
     ]
    },
    {
     "name": "stderr",
     "output_type": "stream",
     "text": [
      "/home/orco/anaconda3/envs/fmri/lib/python3.8/site-packages/nilearn/decomposition/base.py:219: UserWarning: Persisting input arguments took 1.51s to run.\n",
      "If this happens often in your code, it can cause performance problems \n",
      "(results will be correct in all cases). \n",
      "The reason for this is probably some large input arguments for a wrapped\n",
      " function (e.g. large strings).\n",
      "THIS IS A JOBLIB ISSUE. If you can, kindly provide the joblib's team with an\n",
      " example so that they can fix the problem.\n",
      "  U, S, V = cache(fast_svd, memory,\n"
     ]
    },
    {
     "name": "stdout",
     "output_type": "stream",
     "text": [
      "[MultiNiftiMasker.transform_single_imgs] Loading data from Nifti1Image('/media/2Tb/functional_analysis_jan2021/NeuroMet_fmriprep_conn/data/BIDS/dataset/sub-0073/func/ssub-0073_run-01_bold.nii')\n",
      "[MultiNiftiMasker.transform_single_imgs] Smoothing images\n",
      "[MultiNiftiMasker.transform_single_imgs] Extracting region signals\n",
      "[MultiNiftiMasker.transform_single_imgs] Cleaning extracted signals\n"
     ]
    },
    {
     "name": "stderr",
     "output_type": "stream",
     "text": [
      "/home/orco/anaconda3/envs/fmri/lib/python3.8/site-packages/nilearn/decomposition/base.py:219: UserWarning: Persisting input arguments took 1.52s to run.\n",
      "If this happens often in your code, it can cause performance problems \n",
      "(results will be correct in all cases). \n",
      "The reason for this is probably some large input arguments for a wrapped\n",
      " function (e.g. large strings).\n",
      "THIS IS A JOBLIB ISSUE. If you can, kindly provide the joblib's team with an\n",
      " example so that they can fix the problem.\n",
      "  U, S, V = cache(fast_svd, memory,\n"
     ]
    },
    {
     "name": "stdout",
     "output_type": "stream",
     "text": [
      "[MultiNiftiMasker.transform_single_imgs] Loading data from Nifti1Image('/media/2Tb/functional_analysis_jan2021/NeuroMet_fmriprep_conn/data/BIDS/dataset/sub-0074/func/ssub-0074_run-01_bold.nii')\n",
      "[MultiNiftiMasker.transform_single_imgs] Smoothing images\n",
      "[MultiNiftiMasker.transform_single_imgs] Extracting region signals\n",
      "[MultiNiftiMasker.transform_single_imgs] Cleaning extracted signals\n"
     ]
    },
    {
     "name": "stderr",
     "output_type": "stream",
     "text": [
      "/home/orco/anaconda3/envs/fmri/lib/python3.8/site-packages/nilearn/decomposition/base.py:219: UserWarning: Persisting input arguments took 1.51s to run.\n",
      "If this happens often in your code, it can cause performance problems \n",
      "(results will be correct in all cases). \n",
      "The reason for this is probably some large input arguments for a wrapped\n",
      " function (e.g. large strings).\n",
      "THIS IS A JOBLIB ISSUE. If you can, kindly provide the joblib's team with an\n",
      " example so that they can fix the problem.\n",
      "  U, S, V = cache(fast_svd, memory,\n"
     ]
    },
    {
     "name": "stdout",
     "output_type": "stream",
     "text": [
      "[MultiNiftiMasker.transform_single_imgs] Loading data from Nifti1Image('/media/2Tb/functional_analysis_jan2021/NeuroMet_fmriprep_conn/data/BIDS/dataset/sub-0075/func/ssub-0075_run-01_bold.nii')\n",
      "[MultiNiftiMasker.transform_single_imgs] Smoothing images\n",
      "[MultiNiftiMasker.transform_single_imgs] Extracting region signals\n",
      "[MultiNiftiMasker.transform_single_imgs] Cleaning extracted signals\n"
     ]
    },
    {
     "name": "stderr",
     "output_type": "stream",
     "text": [
      "/home/orco/anaconda3/envs/fmri/lib/python3.8/site-packages/nilearn/decomposition/base.py:219: UserWarning: Persisting input arguments took 1.57s to run.\n",
      "If this happens often in your code, it can cause performance problems \n",
      "(results will be correct in all cases). \n",
      "The reason for this is probably some large input arguments for a wrapped\n",
      " function (e.g. large strings).\n",
      "THIS IS A JOBLIB ISSUE. If you can, kindly provide the joblib's team with an\n",
      " example so that they can fix the problem.\n",
      "  U, S, V = cache(fast_svd, memory,\n"
     ]
    },
    {
     "name": "stdout",
     "output_type": "stream",
     "text": [
      "[MultiNiftiMasker.transform_single_imgs] Loading data from Nifti1Image('/media/2Tb/functional_analysis_jan2021/NeuroMet_fmriprep_conn/data/BIDS/dataset/sub-0076/func/ssub-0076_run-01_bold.nii')\n",
      "[MultiNiftiMasker.transform_single_imgs] Smoothing images\n",
      "[MultiNiftiMasker.transform_single_imgs] Extracting region signals\n",
      "[MultiNiftiMasker.transform_single_imgs] Cleaning extracted signals\n"
     ]
    },
    {
     "name": "stderr",
     "output_type": "stream",
     "text": [
      "/home/orco/anaconda3/envs/fmri/lib/python3.8/site-packages/nilearn/decomposition/base.py:219: UserWarning: Persisting input arguments took 1.59s to run.\n",
      "If this happens often in your code, it can cause performance problems \n",
      "(results will be correct in all cases). \n",
      "The reason for this is probably some large input arguments for a wrapped\n",
      " function (e.g. large strings).\n",
      "THIS IS A JOBLIB ISSUE. If you can, kindly provide the joblib's team with an\n",
      " example so that they can fix the problem.\n",
      "  U, S, V = cache(fast_svd, memory,\n"
     ]
    },
    {
     "name": "stdout",
     "output_type": "stream",
     "text": [
      "[MultiNiftiMasker.transform_single_imgs] Loading data from Nifti1Image('/media/2Tb/functional_analysis_jan2021/NeuroMet_fmriprep_conn/data/BIDS/dataset/sub-0077/func/ssub-0077_run-01_bold.nii')\n",
      "[MultiNiftiMasker.transform_single_imgs] Smoothing images\n",
      "[MultiNiftiMasker.transform_single_imgs] Extracting region signals\n",
      "[MultiNiftiMasker.transform_single_imgs] Cleaning extracted signals\n"
     ]
    },
    {
     "name": "stderr",
     "output_type": "stream",
     "text": [
      "/home/orco/anaconda3/envs/fmri/lib/python3.8/site-packages/nilearn/decomposition/base.py:219: UserWarning: Persisting input arguments took 1.57s to run.\n",
      "If this happens often in your code, it can cause performance problems \n",
      "(results will be correct in all cases). \n",
      "The reason for this is probably some large input arguments for a wrapped\n",
      " function (e.g. large strings).\n",
      "THIS IS A JOBLIB ISSUE. If you can, kindly provide the joblib's team with an\n",
      " example so that they can fix the problem.\n",
      "  U, S, V = cache(fast_svd, memory,\n"
     ]
    },
    {
     "name": "stdout",
     "output_type": "stream",
     "text": [
      "[MultiNiftiMasker.transform_single_imgs] Loading data from Nifti1Image('/media/2Tb/functional_analysis_jan2021/NeuroMet_fmriprep_conn/data/BIDS/dataset/sub-0078/func/ssub-0078_run-01_bold.nii')\n",
      "[MultiNiftiMasker.transform_single_imgs] Smoothing images\n",
      "[MultiNiftiMasker.transform_single_imgs] Extracting region signals\n",
      "[MultiNiftiMasker.transform_single_imgs] Cleaning extracted signals\n"
     ]
    },
    {
     "name": "stderr",
     "output_type": "stream",
     "text": [
      "/home/orco/anaconda3/envs/fmri/lib/python3.8/site-packages/nilearn/decomposition/base.py:219: UserWarning: Persisting input arguments took 1.58s to run.\n",
      "If this happens often in your code, it can cause performance problems \n",
      "(results will be correct in all cases). \n",
      "The reason for this is probably some large input arguments for a wrapped\n",
      " function (e.g. large strings).\n",
      "THIS IS A JOBLIB ISSUE. If you can, kindly provide the joblib's team with an\n",
      " example so that they can fix the problem.\n",
      "  U, S, V = cache(fast_svd, memory,\n"
     ]
    },
    {
     "name": "stdout",
     "output_type": "stream",
     "text": [
      "[MultiNiftiMasker.transform_single_imgs] Loading data from Nifti1Image('/media/2Tb/functional_analysis_jan2021/NeuroMet_fmriprep_conn/data/BIDS/dataset/sub-0079/func/ssub-0079_run-01_bold.nii')\n",
      "[MultiNiftiMasker.transform_single_imgs] Smoothing images\n",
      "[MultiNiftiMasker.transform_single_imgs] Extracting region signals\n",
      "[MultiNiftiMasker.transform_single_imgs] Cleaning extracted signals\n"
     ]
    },
    {
     "name": "stderr",
     "output_type": "stream",
     "text": [
      "/home/orco/anaconda3/envs/fmri/lib/python3.8/site-packages/nilearn/decomposition/base.py:219: UserWarning: Persisting input arguments took 1.57s to run.\n",
      "If this happens often in your code, it can cause performance problems \n",
      "(results will be correct in all cases). \n",
      "The reason for this is probably some large input arguments for a wrapped\n",
      " function (e.g. large strings).\n",
      "THIS IS A JOBLIB ISSUE. If you can, kindly provide the joblib's team with an\n",
      " example so that they can fix the problem.\n",
      "  U, S, V = cache(fast_svd, memory,\n"
     ]
    },
    {
     "name": "stdout",
     "output_type": "stream",
     "text": [
      "[MultiNiftiMasker.transform_single_imgs] Loading data from Nifti1Image('/media/2Tb/functional_analysis_jan2021/NeuroMet_fmriprep_conn/data/BIDS/dataset/sub-0080/func/ssub-0080_run-01_bold.nii')\n",
      "[MultiNiftiMasker.transform_single_imgs] Smoothing images\n",
      "[MultiNiftiMasker.transform_single_imgs] Extracting region signals\n",
      "[MultiNiftiMasker.transform_single_imgs] Cleaning extracted signals\n"
     ]
    },
    {
     "name": "stderr",
     "output_type": "stream",
     "text": [
      "/home/orco/anaconda3/envs/fmri/lib/python3.8/site-packages/nilearn/decomposition/base.py:219: UserWarning: Persisting input arguments took 1.58s to run.\n",
      "If this happens often in your code, it can cause performance problems \n",
      "(results will be correct in all cases). \n",
      "The reason for this is probably some large input arguments for a wrapped\n",
      " function (e.g. large strings).\n",
      "THIS IS A JOBLIB ISSUE. If you can, kindly provide the joblib's team with an\n",
      " example so that they can fix the problem.\n",
      "  U, S, V = cache(fast_svd, memory,\n"
     ]
    },
    {
     "name": "stdout",
     "output_type": "stream",
     "text": [
      "[MultiNiftiMasker.transform_single_imgs] Loading data from Nifti1Image('/media/2Tb/functional_analysis_jan2021/NeuroMet_fmriprep_conn/data/BIDS/dataset/sub-0081/func/ssub-0081_run-01_bold.nii')\n",
      "[MultiNiftiMasker.transform_single_imgs] Smoothing images\n",
      "[MultiNiftiMasker.transform_single_imgs] Extracting region signals\n",
      "[MultiNiftiMasker.transform_single_imgs] Cleaning extracted signals\n"
     ]
    },
    {
     "name": "stderr",
     "output_type": "stream",
     "text": [
      "/home/orco/anaconda3/envs/fmri/lib/python3.8/site-packages/nilearn/decomposition/base.py:219: UserWarning: Persisting input arguments took 1.59s to run.\n",
      "If this happens often in your code, it can cause performance problems \n",
      "(results will be correct in all cases). \n",
      "The reason for this is probably some large input arguments for a wrapped\n",
      " function (e.g. large strings).\n",
      "THIS IS A JOBLIB ISSUE. If you can, kindly provide the joblib's team with an\n",
      " example so that they can fix the problem.\n",
      "  U, S, V = cache(fast_svd, memory,\n"
     ]
    },
    {
     "name": "stdout",
     "output_type": "stream",
     "text": [
      "[MultiNiftiMasker.transform_single_imgs] Loading data from Nifti1Image('/media/2Tb/functional_analysis_jan2021/NeuroMet_fmriprep_conn/data/BIDS/dataset/sub-0082/func/ssub-0082_run-01_bold.nii')\n",
      "[MultiNiftiMasker.transform_single_imgs] Smoothing images\n",
      "[MultiNiftiMasker.transform_single_imgs] Extracting region signals\n",
      "[MultiNiftiMasker.transform_single_imgs] Cleaning extracted signals\n"
     ]
    },
    {
     "name": "stderr",
     "output_type": "stream",
     "text": [
      "/home/orco/anaconda3/envs/fmri/lib/python3.8/site-packages/nilearn/decomposition/base.py:219: UserWarning: Persisting input arguments took 1.58s to run.\n",
      "If this happens often in your code, it can cause performance problems \n",
      "(results will be correct in all cases). \n",
      "The reason for this is probably some large input arguments for a wrapped\n",
      " function (e.g. large strings).\n",
      "THIS IS A JOBLIB ISSUE. If you can, kindly provide the joblib's team with an\n",
      " example so that they can fix the problem.\n",
      "  U, S, V = cache(fast_svd, memory,\n"
     ]
    },
    {
     "name": "stdout",
     "output_type": "stream",
     "text": [
      "[MultiNiftiMasker.transform_single_imgs] Loading data from Nifti1Image('/media/2Tb/functional_analysis_jan2021/NeuroMet_fmriprep_conn/data/BIDS/dataset/sub-0083/func/ssub-0083_run-01_bold.nii')\n",
      "[MultiNiftiMasker.transform_single_imgs] Smoothing images\n",
      "[MultiNiftiMasker.transform_single_imgs] Extracting region signals\n",
      "[MultiNiftiMasker.transform_single_imgs] Cleaning extracted signals\n"
     ]
    },
    {
     "name": "stderr",
     "output_type": "stream",
     "text": [
      "/home/orco/anaconda3/envs/fmri/lib/python3.8/site-packages/nilearn/decomposition/base.py:219: UserWarning: Persisting input arguments took 1.58s to run.\n",
      "If this happens often in your code, it can cause performance problems \n",
      "(results will be correct in all cases). \n",
      "The reason for this is probably some large input arguments for a wrapped\n",
      " function (e.g. large strings).\n",
      "THIS IS A JOBLIB ISSUE. If you can, kindly provide the joblib's team with an\n",
      " example so that they can fix the problem.\n",
      "  U, S, V = cache(fast_svd, memory,\n"
     ]
    },
    {
     "name": "stdout",
     "output_type": "stream",
     "text": [
      "[MultiNiftiMasker.transform_single_imgs] Loading data from Nifti1Image('/media/2Tb/functional_analysis_jan2021/NeuroMet_fmriprep_conn/data/BIDS/dataset/sub-0084/func/ssub-0084_run-01_bold.nii')\n",
      "[MultiNiftiMasker.transform_single_imgs] Smoothing images\n",
      "[MultiNiftiMasker.transform_single_imgs] Extracting region signals\n",
      "[MultiNiftiMasker.transform_single_imgs] Cleaning extracted signals\n"
     ]
    },
    {
     "name": "stderr",
     "output_type": "stream",
     "text": [
      "/home/orco/anaconda3/envs/fmri/lib/python3.8/site-packages/nilearn/decomposition/base.py:219: UserWarning: Persisting input arguments took 1.58s to run.\n",
      "If this happens often in your code, it can cause performance problems \n",
      "(results will be correct in all cases). \n",
      "The reason for this is probably some large input arguments for a wrapped\n",
      " function (e.g. large strings).\n",
      "THIS IS A JOBLIB ISSUE. If you can, kindly provide the joblib's team with an\n",
      " example so that they can fix the problem.\n",
      "  U, S, V = cache(fast_svd, memory,\n"
     ]
    },
    {
     "name": "stdout",
     "output_type": "stream",
     "text": [
      "[MultiNiftiMasker.transform_single_imgs] Loading data from Nifti1Image('/media/2Tb/functional_analysis_jan2021/NeuroMet_fmriprep_conn/data/BIDS/dataset/sub-0085/func/ssub-0085_run-01_bold.nii')\n",
      "[MultiNiftiMasker.transform_single_imgs] Smoothing images\n",
      "[MultiNiftiMasker.transform_single_imgs] Extracting region signals\n",
      "[MultiNiftiMasker.transform_single_imgs] Cleaning extracted signals\n"
     ]
    },
    {
     "name": "stderr",
     "output_type": "stream",
     "text": [
      "/home/orco/anaconda3/envs/fmri/lib/python3.8/site-packages/nilearn/decomposition/base.py:219: UserWarning: Persisting input arguments took 1.58s to run.\n",
      "If this happens often in your code, it can cause performance problems \n",
      "(results will be correct in all cases). \n",
      "The reason for this is probably some large input arguments for a wrapped\n",
      " function (e.g. large strings).\n",
      "THIS IS A JOBLIB ISSUE. If you can, kindly provide the joblib's team with an\n",
      " example so that they can fix the problem.\n",
      "  U, S, V = cache(fast_svd, memory,\n"
     ]
    },
    {
     "name": "stdout",
     "output_type": "stream",
     "text": [
      "[MultiNiftiMasker.transform_single_imgs] Loading data from Nifti1Image('/media/2Tb/functional_analysis_jan2021/NeuroMet_fmriprep_conn/data/BIDS/dataset/sub-0086/func/ssub-0086_run-01_bold.nii')\n",
      "[MultiNiftiMasker.transform_single_imgs] Smoothing images\n",
      "[MultiNiftiMasker.transform_single_imgs] Extracting region signals\n",
      "[MultiNiftiMasker.transform_single_imgs] Cleaning extracted signals\n"
     ]
    },
    {
     "name": "stderr",
     "output_type": "stream",
     "text": [
      "/home/orco/anaconda3/envs/fmri/lib/python3.8/site-packages/nilearn/decomposition/base.py:219: UserWarning: Persisting input arguments took 1.59s to run.\n",
      "If this happens often in your code, it can cause performance problems \n",
      "(results will be correct in all cases). \n",
      "The reason for this is probably some large input arguments for a wrapped\n",
      " function (e.g. large strings).\n",
      "THIS IS A JOBLIB ISSUE. If you can, kindly provide the joblib's team with an\n",
      " example so that they can fix the problem.\n",
      "  U, S, V = cache(fast_svd, memory,\n"
     ]
    },
    {
     "name": "stdout",
     "output_type": "stream",
     "text": [
      "[MultiNiftiMasker.transform_single_imgs] Loading data from Nifti1Image('/media/2Tb/functional_analysis_jan2021/NeuroMet_fmriprep_conn/data/BIDS/dataset/sub-0087/func/ssub-0087_run-01_bold.nii')\n",
      "[MultiNiftiMasker.transform_single_imgs] Smoothing images\n",
      "[MultiNiftiMasker.transform_single_imgs] Extracting region signals\n",
      "[MultiNiftiMasker.transform_single_imgs] Cleaning extracted signals\n"
     ]
    },
    {
     "name": "stderr",
     "output_type": "stream",
     "text": [
      "/home/orco/anaconda3/envs/fmri/lib/python3.8/site-packages/nilearn/decomposition/base.py:219: UserWarning: Persisting input arguments took 1.57s to run.\n",
      "If this happens often in your code, it can cause performance problems \n",
      "(results will be correct in all cases). \n",
      "The reason for this is probably some large input arguments for a wrapped\n",
      " function (e.g. large strings).\n",
      "THIS IS A JOBLIB ISSUE. If you can, kindly provide the joblib's team with an\n",
      " example so that they can fix the problem.\n",
      "  U, S, V = cache(fast_svd, memory,\n"
     ]
    },
    {
     "name": "stdout",
     "output_type": "stream",
     "text": [
      "[MultiNiftiMasker.transform_single_imgs] Loading data from Nifti1Image('/media/2Tb/functional_analysis_jan2021/NeuroMet_fmriprep_conn/data/BIDS/dataset/sub-0088/func/ssub-0088_run-01_bold.nii')\n",
      "[MultiNiftiMasker.transform_single_imgs] Smoothing images\n",
      "[MultiNiftiMasker.transform_single_imgs] Extracting region signals\n",
      "[MultiNiftiMasker.transform_single_imgs] Cleaning extracted signals\n"
     ]
    },
    {
     "name": "stderr",
     "output_type": "stream",
     "text": [
      "/home/orco/anaconda3/envs/fmri/lib/python3.8/site-packages/nilearn/decomposition/base.py:219: UserWarning: Persisting input arguments took 1.58s to run.\n",
      "If this happens often in your code, it can cause performance problems \n",
      "(results will be correct in all cases). \n",
      "The reason for this is probably some large input arguments for a wrapped\n",
      " function (e.g. large strings).\n",
      "THIS IS A JOBLIB ISSUE. If you can, kindly provide the joblib's team with an\n",
      " example so that they can fix the problem.\n",
      "  U, S, V = cache(fast_svd, memory,\n"
     ]
    },
    {
     "name": "stdout",
     "output_type": "stream",
     "text": [
      "[MultiNiftiMasker.transform_single_imgs] Loading data from Nifti1Image('/media/2Tb/functional_analysis_jan2021/NeuroMet_fmriprep_conn/data/BIDS/dataset/sub-0089/func/ssub-0089_run-01_bold.nii')\n",
      "[MultiNiftiMasker.transform_single_imgs] Smoothing images\n",
      "[MultiNiftiMasker.transform_single_imgs] Extracting region signals\n",
      "[MultiNiftiMasker.transform_single_imgs] Cleaning extracted signals\n"
     ]
    },
    {
     "name": "stderr",
     "output_type": "stream",
     "text": [
      "/home/orco/anaconda3/envs/fmri/lib/python3.8/site-packages/nilearn/decomposition/base.py:219: UserWarning: Persisting input arguments took 1.58s to run.\n",
      "If this happens often in your code, it can cause performance problems \n",
      "(results will be correct in all cases). \n",
      "The reason for this is probably some large input arguments for a wrapped\n",
      " function (e.g. large strings).\n",
      "THIS IS A JOBLIB ISSUE. If you can, kindly provide the joblib's team with an\n",
      " example so that they can fix the problem.\n",
      "  U, S, V = cache(fast_svd, memory,\n"
     ]
    },
    {
     "name": "stdout",
     "output_type": "stream",
     "text": [
      "[MultiNiftiMasker.transform_single_imgs] Loading data from Nifti1Image('/media/2Tb/functional_analysis_jan2021/NeuroMet_fmriprep_conn/data/BIDS/dataset/sub-0090/func/ssub-0090_run-01_bold.nii')\n",
      "[MultiNiftiMasker.transform_single_imgs] Smoothing images\n",
      "[MultiNiftiMasker.transform_single_imgs] Extracting region signals\n",
      "[MultiNiftiMasker.transform_single_imgs] Cleaning extracted signals\n"
     ]
    },
    {
     "name": "stderr",
     "output_type": "stream",
     "text": [
      "/home/orco/anaconda3/envs/fmri/lib/python3.8/site-packages/nilearn/decomposition/base.py:219: UserWarning: Persisting input arguments took 1.58s to run.\n",
      "If this happens often in your code, it can cause performance problems \n",
      "(results will be correct in all cases). \n",
      "The reason for this is probably some large input arguments for a wrapped\n",
      " function (e.g. large strings).\n",
      "THIS IS A JOBLIB ISSUE. If you can, kindly provide the joblib's team with an\n",
      " example so that they can fix the problem.\n",
      "  U, S, V = cache(fast_svd, memory,\n"
     ]
    },
    {
     "name": "stdout",
     "output_type": "stream",
     "text": [
      "[MultiNiftiMasker.transform_single_imgs] Loading data from Nifti1Image('/media/2Tb/functional_analysis_jan2021/NeuroMet_fmriprep_conn/data/BIDS/dataset/sub-0091/func/ssub-0091_run-01_bold.nii')\n",
      "[MultiNiftiMasker.transform_single_imgs] Smoothing images\n",
      "[MultiNiftiMasker.transform_single_imgs] Extracting region signals\n",
      "[MultiNiftiMasker.transform_single_imgs] Cleaning extracted signals\n"
     ]
    },
    {
     "name": "stderr",
     "output_type": "stream",
     "text": [
      "/home/orco/anaconda3/envs/fmri/lib/python3.8/site-packages/nilearn/decomposition/base.py:219: UserWarning: Persisting input arguments took 1.58s to run.\n",
      "If this happens often in your code, it can cause performance problems \n",
      "(results will be correct in all cases). \n",
      "The reason for this is probably some large input arguments for a wrapped\n",
      " function (e.g. large strings).\n",
      "THIS IS A JOBLIB ISSUE. If you can, kindly provide the joblib's team with an\n",
      " example so that they can fix the problem.\n",
      "  U, S, V = cache(fast_svd, memory,\n"
     ]
    },
    {
     "name": "stdout",
     "output_type": "stream",
     "text": [
      "[MultiNiftiMasker.transform_single_imgs] Loading data from Nifti1Image('/media/2Tb/functional_analysis_jan2021/NeuroMet_fmriprep_conn/data/BIDS/dataset/sub-0092/func/ssub-0092_run-01_bold.nii')\n",
      "[MultiNiftiMasker.transform_single_imgs] Smoothing images\n",
      "[MultiNiftiMasker.transform_single_imgs] Extracting region signals\n",
      "[MultiNiftiMasker.transform_single_imgs] Cleaning extracted signals\n"
     ]
    },
    {
     "name": "stderr",
     "output_type": "stream",
     "text": [
      "/home/orco/anaconda3/envs/fmri/lib/python3.8/site-packages/nilearn/decomposition/base.py:219: UserWarning: Persisting input arguments took 1.58s to run.\n",
      "If this happens often in your code, it can cause performance problems \n",
      "(results will be correct in all cases). \n",
      "The reason for this is probably some large input arguments for a wrapped\n",
      " function (e.g. large strings).\n",
      "THIS IS A JOBLIB ISSUE. If you can, kindly provide the joblib's team with an\n",
      " example so that they can fix the problem.\n",
      "  U, S, V = cache(fast_svd, memory,\n"
     ]
    },
    {
     "name": "stdout",
     "output_type": "stream",
     "text": [
      "[MultiNiftiMasker.transform_single_imgs] Loading data from Nifti1Image('/media/2Tb/functional_analysis_jan2021/NeuroMet_fmriprep_conn/data/BIDS/dataset/sub-0093/func/ssub-0093_run-01_bold.nii')\n",
      "[MultiNiftiMasker.transform_single_imgs] Smoothing images\n",
      "[MultiNiftiMasker.transform_single_imgs] Extracting region signals\n",
      "[MultiNiftiMasker.transform_single_imgs] Cleaning extracted signals\n"
     ]
    },
    {
     "name": "stderr",
     "output_type": "stream",
     "text": [
      "/home/orco/anaconda3/envs/fmri/lib/python3.8/site-packages/nilearn/decomposition/base.py:219: UserWarning: Persisting input arguments took 1.51s to run.\n",
      "If this happens often in your code, it can cause performance problems \n",
      "(results will be correct in all cases). \n",
      "The reason for this is probably some large input arguments for a wrapped\n",
      " function (e.g. large strings).\n",
      "THIS IS A JOBLIB ISSUE. If you can, kindly provide the joblib's team with an\n",
      " example so that they can fix the problem.\n",
      "  U, S, V = cache(fast_svd, memory,\n"
     ]
    },
    {
     "name": "stdout",
     "output_type": "stream",
     "text": [
      "[MultiNiftiMasker.transform_single_imgs] Loading data from Nifti1Image('/media/2Tb/functional_analysis_jan2021/NeuroMet_fmriprep_conn/data/BIDS/dataset/sub-0094/func/ssub-0094_run-01_bold.nii')\n",
      "[MultiNiftiMasker.transform_single_imgs] Smoothing images\n",
      "[MultiNiftiMasker.transform_single_imgs] Extracting region signals\n",
      "[MultiNiftiMasker.transform_single_imgs] Cleaning extracted signals\n"
     ]
    },
    {
     "name": "stderr",
     "output_type": "stream",
     "text": [
      "/home/orco/anaconda3/envs/fmri/lib/python3.8/site-packages/nilearn/decomposition/base.py:219: UserWarning: Persisting input arguments took 1.51s to run.\n",
      "If this happens often in your code, it can cause performance problems \n",
      "(results will be correct in all cases). \n",
      "The reason for this is probably some large input arguments for a wrapped\n",
      " function (e.g. large strings).\n",
      "THIS IS A JOBLIB ISSUE. If you can, kindly provide the joblib's team with an\n",
      " example so that they can fix the problem.\n",
      "  U, S, V = cache(fast_svd, memory,\n"
     ]
    },
    {
     "name": "stdout",
     "output_type": "stream",
     "text": [
      "[MultiNiftiMasker.transform_single_imgs] Loading data from Nifti1Image('/media/2Tb/functional_analysis_jan2021/NeuroMet_fmriprep_conn/data/BIDS/dataset/sub-0095/func/ssub-0095_run-01_bold.nii')\n",
      "[MultiNiftiMasker.transform_single_imgs] Smoothing images\n",
      "[MultiNiftiMasker.transform_single_imgs] Extracting region signals\n",
      "[MultiNiftiMasker.transform_single_imgs] Cleaning extracted signals\n"
     ]
    },
    {
     "name": "stderr",
     "output_type": "stream",
     "text": [
      "/home/orco/anaconda3/envs/fmri/lib/python3.8/site-packages/nilearn/decomposition/base.py:219: UserWarning: Persisting input arguments took 1.52s to run.\n",
      "If this happens often in your code, it can cause performance problems \n",
      "(results will be correct in all cases). \n",
      "The reason for this is probably some large input arguments for a wrapped\n",
      " function (e.g. large strings).\n",
      "THIS IS A JOBLIB ISSUE. If you can, kindly provide the joblib's team with an\n",
      " example so that they can fix the problem.\n",
      "  U, S, V = cache(fast_svd, memory,\n"
     ]
    },
    {
     "name": "stdout",
     "output_type": "stream",
     "text": [
      "[MultiNiftiMasker.transform_single_imgs] Loading data from Nifti1Image('/media/2Tb/functional_analysis_jan2021/NeuroMet_fmriprep_conn/data/BIDS/dataset/sub-0096/func/ssub-0096_run-01_bold.nii')\n",
      "[MultiNiftiMasker.transform_single_imgs] Smoothing images\n",
      "[MultiNiftiMasker.transform_single_imgs] Extracting region signals\n",
      "[MultiNiftiMasker.transform_single_imgs] Cleaning extracted signals\n"
     ]
    },
    {
     "name": "stderr",
     "output_type": "stream",
     "text": [
      "/home/orco/anaconda3/envs/fmri/lib/python3.8/site-packages/nilearn/decomposition/base.py:219: UserWarning: Persisting input arguments took 1.50s to run.\n",
      "If this happens often in your code, it can cause performance problems \n",
      "(results will be correct in all cases). \n",
      "The reason for this is probably some large input arguments for a wrapped\n",
      " function (e.g. large strings).\n",
      "THIS IS A JOBLIB ISSUE. If you can, kindly provide the joblib's team with an\n",
      " example so that they can fix the problem.\n",
      "  U, S, V = cache(fast_svd, memory,\n"
     ]
    },
    {
     "name": "stdout",
     "output_type": "stream",
     "text": [
      "[MultiNiftiMasker.transform_single_imgs] Loading data from Nifti1Image('/media/2Tb/functional_analysis_jan2021/NeuroMet_fmriprep_conn/data/BIDS/dataset/sub-0097/func/ssub-0097_run-01_bold.nii')\n",
      "[MultiNiftiMasker.transform_single_imgs] Smoothing images\n",
      "[MultiNiftiMasker.transform_single_imgs] Extracting region signals\n",
      "[MultiNiftiMasker.transform_single_imgs] Cleaning extracted signals\n"
     ]
    },
    {
     "name": "stderr",
     "output_type": "stream",
     "text": [
      "/home/orco/anaconda3/envs/fmri/lib/python3.8/site-packages/nilearn/decomposition/base.py:219: UserWarning: Persisting input arguments took 1.58s to run.\n",
      "If this happens often in your code, it can cause performance problems \n",
      "(results will be correct in all cases). \n",
      "The reason for this is probably some large input arguments for a wrapped\n",
      " function (e.g. large strings).\n",
      "THIS IS A JOBLIB ISSUE. If you can, kindly provide the joblib's team with an\n",
      " example so that they can fix the problem.\n",
      "  U, S, V = cache(fast_svd, memory,\n"
     ]
    },
    {
     "name": "stdout",
     "output_type": "stream",
     "text": [
      "________________________________________________________________________________\n",
      "[Memory] Calling sklearn.utils.extmath.randomized_svd...\n",
      "randomized_svd(array([[-0.001682, ..., -0.001578],\n",
      "       ...,\n",
      "       [ 0.001681, ..., -0.001737]]), n_components=10, transpose=True, random_state=0, n_iter=3)\n"
     ]
    },
    {
     "name": "stderr",
     "output_type": "stream",
     "text": [
      "/home/orco/anaconda3/envs/fmri/lib/python3.8/site-packages/nilearn/decomposition/multi_pca.py:171: UserWarning: Persisting input arguments took 4.95s to run.\n",
      "If this happens often in your code, it can cause performance problems \n",
      "(results will be correct in all cases). \n",
      "The reason for this is probably some large input arguments for a wrapped\n",
      " function (e.g. large strings).\n",
      "THIS IS A JOBLIB ISSUE. If you can, kindly provide the joblib's team with an\n",
      " example so that they can fix the problem.\n",
      "  components_, self.variance_, _ = self._cache(\n"
     ]
    },
    {
     "name": "stdout",
     "output_type": "stream",
     "text": [
      "__________________________________________________randomized_svd - 11.9s, 0.2min\n"
     ]
    },
    {
     "name": "stderr",
     "output_type": "stream",
     "text": [
      "[Parallel(n_jobs=1)]: Using backend SequentialBackend with 1 concurrent workers.\n"
     ]
    },
    {
     "name": "stdout",
     "output_type": "stream",
     "text": [
      "________________________________________________________________________________\n",
      "[Memory] Calling sklearn.decomposition._fastica.fastica...\n",
      "fastica(array([[ 0.000241, ..., -0.000509],\n",
      "       ...,\n",
      "       [ 0.000887, ...,  0.001386]]), whiten=True, fun='cube', random_state=209652396)\n"
     ]
    },
    {
     "name": "stderr",
     "output_type": "stream",
     "text": [
      "/home/orco/anaconda3/envs/fmri/lib/python3.8/site-packages/sklearn/decomposition/_fastica.py:118: ConvergenceWarning: FastICA did not converge. Consider increasing tolerance or the maximum number of iterations.\n",
      "  warnings.warn('FastICA did not converge. Consider increasing '\n"
     ]
    },
    {
     "name": "stdout",
     "output_type": "stream",
     "text": [
      "_________________________________________________________fastica - 67.5s, 1.1min\n",
      "________________________________________________________________________________\n",
      "[Memory] Calling sklearn.decomposition._fastica.fastica...\n",
      "fastica(array([[ 0.000241, ..., -0.000509],\n",
      "       ...,\n",
      "       [ 0.000887, ...,  0.001386]]), whiten=True, fun='cube', random_state=398764591)\n"
     ]
    },
    {
     "name": "stderr",
     "output_type": "stream",
     "text": [
      "/home/orco/anaconda3/envs/fmri/lib/python3.8/site-packages/sklearn/decomposition/_fastica.py:118: ConvergenceWarning: FastICA did not converge. Consider increasing tolerance or the maximum number of iterations.\n",
      "  warnings.warn('FastICA did not converge. Consider increasing '\n"
     ]
    },
    {
     "name": "stdout",
     "output_type": "stream",
     "text": [
      "_________________________________________________________fastica - 66.1s, 1.1min\n",
      "________________________________________________________________________________\n",
      "[Memory] Calling sklearn.decomposition._fastica.fastica...\n",
      "fastica(array([[ 0.000241, ..., -0.000509],\n",
      "       ...,\n",
      "       [ 0.000887, ...,  0.001386]]), whiten=True, fun='cube', random_state=924231285)\n"
     ]
    },
    {
     "name": "stderr",
     "output_type": "stream",
     "text": [
      "/home/orco/anaconda3/envs/fmri/lib/python3.8/site-packages/sklearn/decomposition/_fastica.py:118: ConvergenceWarning: FastICA did not converge. Consider increasing tolerance or the maximum number of iterations.\n",
      "  warnings.warn('FastICA did not converge. Consider increasing '\n"
     ]
    },
    {
     "name": "stdout",
     "output_type": "stream",
     "text": [
      "_________________________________________________________fastica - 66.1s, 1.1min\n",
      "________________________________________________________________________________\n",
      "[Memory] Calling sklearn.decomposition._fastica.fastica...\n",
      "fastica(array([[ 0.000241, ..., -0.000509],\n",
      "       ...,\n",
      "       [ 0.000887, ...,  0.001386]]), whiten=True, fun='cube', random_state=1478610112)\n"
     ]
    },
    {
     "name": "stderr",
     "output_type": "stream",
     "text": [
      "/home/orco/anaconda3/envs/fmri/lib/python3.8/site-packages/sklearn/decomposition/_fastica.py:118: ConvergenceWarning: FastICA did not converge. Consider increasing tolerance or the maximum number of iterations.\n",
      "  warnings.warn('FastICA did not converge. Consider increasing '\n"
     ]
    },
    {
     "name": "stdout",
     "output_type": "stream",
     "text": [
      "_________________________________________________________fastica - 65.8s, 1.1min\n",
      "________________________________________________________________________________\n",
      "[Memory] Calling sklearn.decomposition._fastica.fastica...\n",
      "fastica(array([[ 0.000241, ..., -0.000509],\n",
      "       ...,\n",
      "       [ 0.000887, ...,  0.001386]]), whiten=True, fun='cube', random_state=441365315)\n"
     ]
    },
    {
     "name": "stderr",
     "output_type": "stream",
     "text": [
      "/home/orco/anaconda3/envs/fmri/lib/python3.8/site-packages/sklearn/decomposition/_fastica.py:118: ConvergenceWarning: FastICA did not converge. Consider increasing tolerance or the maximum number of iterations.\n",
      "  warnings.warn('FastICA did not converge. Consider increasing '\n"
     ]
    },
    {
     "name": "stdout",
     "output_type": "stream",
     "text": [
      "_________________________________________________________fastica - 63.9s, 1.1min\n",
      "________________________________________________________________________________\n",
      "[Memory] Calling sklearn.decomposition._fastica.fastica...\n",
      "fastica(array([[ 0.000241, ..., -0.000509],\n",
      "       ...,\n",
      "       [ 0.000887, ...,  0.001386]]), whiten=True, fun='cube', random_state=1537364731)\n"
     ]
    },
    {
     "name": "stderr",
     "output_type": "stream",
     "text": [
      "/home/orco/anaconda3/envs/fmri/lib/python3.8/site-packages/sklearn/decomposition/_fastica.py:118: ConvergenceWarning: FastICA did not converge. Consider increasing tolerance or the maximum number of iterations.\n",
      "  warnings.warn('FastICA did not converge. Consider increasing '\n"
     ]
    },
    {
     "name": "stdout",
     "output_type": "stream",
     "text": [
      "_________________________________________________________fastica - 64.5s, 1.1min\n",
      "________________________________________________________________________________\n",
      "[Memory] Calling sklearn.decomposition._fastica.fastica...\n",
      "fastica(array([[ 0.000241, ..., -0.000509],\n",
      "       ...,\n",
      "       [ 0.000887, ...,  0.001386]]), whiten=True, fun='cube', random_state=192771779)\n"
     ]
    },
    {
     "name": "stderr",
     "output_type": "stream",
     "text": [
      "/home/orco/anaconda3/envs/fmri/lib/python3.8/site-packages/sklearn/decomposition/_fastica.py:118: ConvergenceWarning: FastICA did not converge. Consider increasing tolerance or the maximum number of iterations.\n",
      "  warnings.warn('FastICA did not converge. Consider increasing '\n"
     ]
    },
    {
     "name": "stdout",
     "output_type": "stream",
     "text": [
      "_________________________________________________________fastica - 65.4s, 1.1min\n",
      "________________________________________________________________________________\n",
      "[Memory] Calling sklearn.decomposition._fastica.fastica...\n",
      "fastica(array([[ 0.000241, ..., -0.000509],\n",
      "       ...,\n",
      "       [ 0.000887, ...,  0.001386]]), whiten=True, fun='cube', random_state=1491434855)\n"
     ]
    },
    {
     "name": "stderr",
     "output_type": "stream",
     "text": [
      "/home/orco/anaconda3/envs/fmri/lib/python3.8/site-packages/sklearn/decomposition/_fastica.py:118: ConvergenceWarning: FastICA did not converge. Consider increasing tolerance or the maximum number of iterations.\n",
      "  warnings.warn('FastICA did not converge. Consider increasing '\n"
     ]
    },
    {
     "name": "stdout",
     "output_type": "stream",
     "text": [
      "_________________________________________________________fastica - 64.4s, 1.1min\n",
      "________________________________________________________________________________\n",
      "[Memory] Calling sklearn.decomposition._fastica.fastica...\n",
      "fastica(array([[ 0.000241, ..., -0.000509],\n",
      "       ...,\n",
      "       [ 0.000887, ...,  0.001386]]), whiten=True, fun='cube', random_state=1819583497)\n"
     ]
    },
    {
     "name": "stderr",
     "output_type": "stream",
     "text": [
      "/home/orco/anaconda3/envs/fmri/lib/python3.8/site-packages/sklearn/decomposition/_fastica.py:118: ConvergenceWarning: FastICA did not converge. Consider increasing tolerance or the maximum number of iterations.\n",
      "  warnings.warn('FastICA did not converge. Consider increasing '\n"
     ]
    },
    {
     "name": "stdout",
     "output_type": "stream",
     "text": [
      "_________________________________________________________fastica - 64.3s, 1.1min\n",
      "________________________________________________________________________________\n",
      "[Memory] Calling sklearn.decomposition._fastica.fastica...\n",
      "fastica(array([[ 0.000241, ..., -0.000509],\n",
      "       ...,\n",
      "       [ 0.000887, ...,  0.001386]]), whiten=True, fun='cube', random_state=530702035)\n"
     ]
    },
    {
     "name": "stderr",
     "output_type": "stream",
     "text": [
      "/home/orco/anaconda3/envs/fmri/lib/python3.8/site-packages/sklearn/decomposition/_fastica.py:118: ConvergenceWarning: FastICA did not converge. Consider increasing tolerance or the maximum number of iterations.\n",
      "  warnings.warn('FastICA did not converge. Consider increasing '\n",
      "[Parallel(n_jobs=1)]: Done  10 out of  10 | elapsed: 10.9min finished\n"
     ]
    },
    {
     "name": "stdout",
     "output_type": "stream",
     "text": [
      "_________________________________________________________fastica - 64.5s, 1.1min\n"
     ]
    }
   ],
   "source": [
    "from nilearn.decomposition import CanICA\n",
    "try:\n",
    "    canica = CanICA(n_components=10,\n",
    "                    memory=\"/home/WorkFlowTemp/nilearn_cache/CanICA40\", memory_level=2,\n",
    "                    threshold='auto',\n",
    "                    mask_strategy='epi',\n",
    "                    random_state=0,\n",
    "                    verbose=1,\n",
    "                    n_jobs=1,)\n",
    "    canica.fit(func_filenames)\n",
    "\n",
    "    # Retrieve the independent components in brain space. Directly\n",
    "    # accesible through attribute `components_img_`.\n",
    "    canica_components_img = canica.components_img_\n",
    "    # components_img is a Nifti Image object, and can be saved to a file with\n",
    "    # the following line:\n",
    "    canica_components_img.to_filename('canica_10component.nii.gz')\n",
    "except:\n",
    "    pass"
   ]
  },
  {
   "cell_type": "code",
   "execution_count": 40,
   "metadata": {
    "collapsed": true,
    "jupyter": {
     "outputs_hidden": true
    }
   },
   "outputs": [
    {
     "name": "stdout",
     "output_type": "stream",
     "text": [
      "[MultiNiftiMasker.fit] Loading data from [/media/2Tb/functional_analysis_jan2021/NeuroMet_fmriprep_conn/data/BIDS/dataset/sub-0054/func/sub-0054_run-01_bold.nii.gz, /media/2Tb/functional_analysis_jan2021/NeuroMet_fmriprep_conn/data/BIDS/data\n",
      "[MultiNiftiMasker.fit] Computing mask\n",
      "[MultiNiftiMasker.transform] Resampling mask\n",
      "[CanICA] Loading data\n",
      "[MultiNiftiMasker.transform_single_imgs] Loading data from Nifti1Image('/media/2Tb/functional_analysis_jan2021/NeuroMet_fmriprep_conn/data/BIDS/dataset/sub-0054/func/sub-0054_run-01_bold.nii.gz')\n",
      "[MultiNiftiMasker.transform_single_imgs] Smoothing images\n",
      "[MultiNiftiMasker.transform_single_imgs] Extracting region signals\n",
      "[MultiNiftiMasker.transform_single_imgs] Cleaning extracted signals\n"
     ]
    },
    {
     "name": "stderr",
     "output_type": "stream",
     "text": [
      "/home/orco/anaconda3/envs/fmri/lib/python3.8/site-packages/nilearn/decomposition/base.py:219: UserWarning: Persisting input arguments took 1.52s to run.\n",
      "If this happens often in your code, it can cause performance problems \n",
      "(results will be correct in all cases). \n",
      "The reason for this is probably some large input arguments for a wrapped\n",
      " function (e.g. large strings).\n",
      "THIS IS A JOBLIB ISSUE. If you can, kindly provide the joblib's team with an\n",
      " example so that they can fix the problem.\n",
      "  U, S, V = cache(fast_svd, memory,\n"
     ]
    },
    {
     "name": "stdout",
     "output_type": "stream",
     "text": [
      "[MultiNiftiMasker.transform_single_imgs] Loading data from Nifti1Image('/media/2Tb/functional_analysis_jan2021/NeuroMet_fmriprep_conn/data/BIDS/dataset/sub-0086/func/sub-0086_run-01_bold.nii.gz')\n",
      "[MultiNiftiMasker.transform_single_imgs] Smoothing images\n",
      "[MultiNiftiMasker.transform_single_imgs] Extracting region signals\n",
      "[MultiNiftiMasker.transform_single_imgs] Cleaning extracted signals\n"
     ]
    },
    {
     "name": "stderr",
     "output_type": "stream",
     "text": [
      "/home/orco/anaconda3/envs/fmri/lib/python3.8/site-packages/nilearn/decomposition/base.py:219: UserWarning: Persisting input arguments took 1.50s to run.\n",
      "If this happens often in your code, it can cause performance problems \n",
      "(results will be correct in all cases). \n",
      "The reason for this is probably some large input arguments for a wrapped\n",
      " function (e.g. large strings).\n",
      "THIS IS A JOBLIB ISSUE. If you can, kindly provide the joblib's team with an\n",
      " example so that they can fix the problem.\n",
      "  U, S, V = cache(fast_svd, memory,\n"
     ]
    },
    {
     "name": "stdout",
     "output_type": "stream",
     "text": [
      "[MultiNiftiMasker.transform_single_imgs] Loading data from Nifti1Image('/media/2Tb/functional_analysis_jan2021/NeuroMet_fmriprep_conn/data/BIDS/dataset/sub-0032/func/sub-0032_run-01_bold.nii.gz')\n",
      "[MultiNiftiMasker.transform_single_imgs] Smoothing images\n",
      "[MultiNiftiMasker.transform_single_imgs] Extracting region signals\n",
      "[MultiNiftiMasker.transform_single_imgs] Cleaning extracted signals\n"
     ]
    },
    {
     "name": "stderr",
     "output_type": "stream",
     "text": [
      "/home/orco/anaconda3/envs/fmri/lib/python3.8/site-packages/nilearn/decomposition/base.py:219: UserWarning: Persisting input arguments took 1.43s to run.\n",
      "If this happens often in your code, it can cause performance problems \n",
      "(results will be correct in all cases). \n",
      "The reason for this is probably some large input arguments for a wrapped\n",
      " function (e.g. large strings).\n",
      "THIS IS A JOBLIB ISSUE. If you can, kindly provide the joblib's team with an\n",
      " example so that they can fix the problem.\n",
      "  U, S, V = cache(fast_svd, memory,\n"
     ]
    },
    {
     "name": "stdout",
     "output_type": "stream",
     "text": [
      "[MultiNiftiMasker.transform_single_imgs] Loading data from Nifti1Image('/media/2Tb/functional_analysis_jan2021/NeuroMet_fmriprep_conn/data/BIDS/dataset/sub-0036/func/sub-0036_run-01_bold.nii.gz')\n",
      "[MultiNiftiMasker.transform_single_imgs] Smoothing images\n",
      "[MultiNiftiMasker.transform_single_imgs] Extracting region signals\n",
      "[MultiNiftiMasker.transform_single_imgs] Cleaning extracted signals\n"
     ]
    },
    {
     "name": "stderr",
     "output_type": "stream",
     "text": [
      "/home/orco/anaconda3/envs/fmri/lib/python3.8/site-packages/nilearn/decomposition/base.py:219: UserWarning: Persisting input arguments took 1.42s to run.\n",
      "If this happens often in your code, it can cause performance problems \n",
      "(results will be correct in all cases). \n",
      "The reason for this is probably some large input arguments for a wrapped\n",
      " function (e.g. large strings).\n",
      "THIS IS A JOBLIB ISSUE. If you can, kindly provide the joblib's team with an\n",
      " example so that they can fix the problem.\n",
      "  U, S, V = cache(fast_svd, memory,\n"
     ]
    },
    {
     "name": "stdout",
     "output_type": "stream",
     "text": [
      "[MultiNiftiMasker.transform_single_imgs] Loading data from Nifti1Image('/media/2Tb/functional_analysis_jan2021/NeuroMet_fmriprep_conn/data/BIDS/dataset/sub-0026/func/sub-0026_run-01_bold.nii.gz')\n",
      "[MultiNiftiMasker.transform_single_imgs] Smoothing images\n",
      "[MultiNiftiMasker.transform_single_imgs] Extracting region signals\n",
      "[MultiNiftiMasker.transform_single_imgs] Cleaning extracted signals\n"
     ]
    },
    {
     "name": "stderr",
     "output_type": "stream",
     "text": [
      "/home/orco/anaconda3/envs/fmri/lib/python3.8/site-packages/nilearn/decomposition/base.py:219: UserWarning: Persisting input arguments took 1.42s to run.\n",
      "If this happens often in your code, it can cause performance problems \n",
      "(results will be correct in all cases). \n",
      "The reason for this is probably some large input arguments for a wrapped\n",
      " function (e.g. large strings).\n",
      "THIS IS A JOBLIB ISSUE. If you can, kindly provide the joblib's team with an\n",
      " example so that they can fix the problem.\n",
      "  U, S, V = cache(fast_svd, memory,\n"
     ]
    },
    {
     "name": "stdout",
     "output_type": "stream",
     "text": [
      "[MultiNiftiMasker.transform_single_imgs] Loading data from Nifti1Image('/media/2Tb/functional_analysis_jan2021/NeuroMet_fmriprep_conn/data/BIDS/dataset/sub-0002/func/sub-0002_run-01_bold.nii.gz')\n",
      "[MultiNiftiMasker.transform_single_imgs] Smoothing images\n",
      "[MultiNiftiMasker.transform_single_imgs] Extracting region signals\n",
      "[MultiNiftiMasker.transform_single_imgs] Cleaning extracted signals\n"
     ]
    },
    {
     "name": "stderr",
     "output_type": "stream",
     "text": [
      "/home/orco/anaconda3/envs/fmri/lib/python3.8/site-packages/nilearn/decomposition/base.py:219: UserWarning: Persisting input arguments took 1.49s to run.\n",
      "If this happens often in your code, it can cause performance problems \n",
      "(results will be correct in all cases). \n",
      "The reason for this is probably some large input arguments for a wrapped\n",
      " function (e.g. large strings).\n",
      "THIS IS A JOBLIB ISSUE. If you can, kindly provide the joblib's team with an\n",
      " example so that they can fix the problem.\n",
      "  U, S, V = cache(fast_svd, memory,\n"
     ]
    },
    {
     "name": "stdout",
     "output_type": "stream",
     "text": [
      "[MultiNiftiMasker.transform_single_imgs] Loading data from Nifti1Image('/media/2Tb/functional_analysis_jan2021/NeuroMet_fmriprep_conn/data/BIDS/dataset/sub-0046/func/sub-0046_run-01_bold.nii.gz')\n",
      "[MultiNiftiMasker.transform_single_imgs] Smoothing images\n",
      "[MultiNiftiMasker.transform_single_imgs] Extracting region signals\n",
      "[MultiNiftiMasker.transform_single_imgs] Cleaning extracted signals\n"
     ]
    },
    {
     "name": "stderr",
     "output_type": "stream",
     "text": [
      "/home/orco/anaconda3/envs/fmri/lib/python3.8/site-packages/nilearn/decomposition/base.py:219: UserWarning: Persisting input arguments took 1.48s to run.\n",
      "If this happens often in your code, it can cause performance problems \n",
      "(results will be correct in all cases). \n",
      "The reason for this is probably some large input arguments for a wrapped\n",
      " function (e.g. large strings).\n",
      "THIS IS A JOBLIB ISSUE. If you can, kindly provide the joblib's team with an\n",
      " example so that they can fix the problem.\n",
      "  U, S, V = cache(fast_svd, memory,\n"
     ]
    },
    {
     "name": "stdout",
     "output_type": "stream",
     "text": [
      "[MultiNiftiMasker.transform_single_imgs] Loading data from Nifti1Image('/media/2Tb/functional_analysis_jan2021/NeuroMet_fmriprep_conn/data/BIDS/dataset/sub-0078/func/sub-0078_run-01_bold.nii.gz')\n",
      "[MultiNiftiMasker.transform_single_imgs] Smoothing images\n",
      "[MultiNiftiMasker.transform_single_imgs] Extracting region signals\n",
      "[MultiNiftiMasker.transform_single_imgs] Cleaning extracted signals\n"
     ]
    },
    {
     "name": "stderr",
     "output_type": "stream",
     "text": [
      "/home/orco/anaconda3/envs/fmri/lib/python3.8/site-packages/nilearn/decomposition/base.py:219: UserWarning: Persisting input arguments took 1.47s to run.\n",
      "If this happens often in your code, it can cause performance problems \n",
      "(results will be correct in all cases). \n",
      "The reason for this is probably some large input arguments for a wrapped\n",
      " function (e.g. large strings).\n",
      "THIS IS A JOBLIB ISSUE. If you can, kindly provide the joblib's team with an\n",
      " example so that they can fix the problem.\n",
      "  U, S, V = cache(fast_svd, memory,\n"
     ]
    },
    {
     "name": "stdout",
     "output_type": "stream",
     "text": [
      "[MultiNiftiMasker.transform_single_imgs] Loading data from Nifti1Image('/media/2Tb/functional_analysis_jan2021/NeuroMet_fmriprep_conn/data/BIDS/dataset/sub-0053/func/sub-0053_run-01_bold.nii.gz')\n",
      "[MultiNiftiMasker.transform_single_imgs] Smoothing images\n",
      "[MultiNiftiMasker.transform_single_imgs] Extracting region signals\n",
      "[MultiNiftiMasker.transform_single_imgs] Cleaning extracted signals\n"
     ]
    },
    {
     "name": "stderr",
     "output_type": "stream",
     "text": [
      "/home/orco/anaconda3/envs/fmri/lib/python3.8/site-packages/nilearn/decomposition/base.py:219: UserWarning: Persisting input arguments took 1.49s to run.\n",
      "If this happens often in your code, it can cause performance problems \n",
      "(results will be correct in all cases). \n",
      "The reason for this is probably some large input arguments for a wrapped\n",
      " function (e.g. large strings).\n",
      "THIS IS A JOBLIB ISSUE. If you can, kindly provide the joblib's team with an\n",
      " example so that they can fix the problem.\n",
      "  U, S, V = cache(fast_svd, memory,\n"
     ]
    },
    {
     "name": "stdout",
     "output_type": "stream",
     "text": [
      "[MultiNiftiMasker.transform_single_imgs] Loading data from Nifti1Image('/media/2Tb/functional_analysis_jan2021/NeuroMet_fmriprep_conn/data/BIDS/dataset/sub-0035/func/sub-0035_run-01_bold.nii.gz')\n",
      "[MultiNiftiMasker.transform_single_imgs] Smoothing images\n",
      "[MultiNiftiMasker.transform_single_imgs] Extracting region signals\n",
      "[MultiNiftiMasker.transform_single_imgs] Cleaning extracted signals\n"
     ]
    },
    {
     "name": "stderr",
     "output_type": "stream",
     "text": [
      "/home/orco/anaconda3/envs/fmri/lib/python3.8/site-packages/nilearn/decomposition/base.py:219: UserWarning: Persisting input arguments took 1.43s to run.\n",
      "If this happens often in your code, it can cause performance problems \n",
      "(results will be correct in all cases). \n",
      "The reason for this is probably some large input arguments for a wrapped\n",
      " function (e.g. large strings).\n",
      "THIS IS A JOBLIB ISSUE. If you can, kindly provide the joblib's team with an\n",
      " example so that they can fix the problem.\n",
      "  U, S, V = cache(fast_svd, memory,\n"
     ]
    },
    {
     "name": "stdout",
     "output_type": "stream",
     "text": [
      "[MultiNiftiMasker.transform_single_imgs] Loading data from Nifti1Image('/media/2Tb/functional_analysis_jan2021/NeuroMet_fmriprep_conn/data/BIDS/dataset/sub-0070/func/sub-0070_run-01_bold.nii.gz')\n",
      "[MultiNiftiMasker.transform_single_imgs] Smoothing images\n",
      "[MultiNiftiMasker.transform_single_imgs] Extracting region signals\n",
      "[MultiNiftiMasker.transform_single_imgs] Cleaning extracted signals\n"
     ]
    },
    {
     "name": "stderr",
     "output_type": "stream",
     "text": [
      "/home/orco/anaconda3/envs/fmri/lib/python3.8/site-packages/nilearn/decomposition/base.py:219: UserWarning: Persisting input arguments took 1.52s to run.\n",
      "If this happens often in your code, it can cause performance problems \n",
      "(results will be correct in all cases). \n",
      "The reason for this is probably some large input arguments for a wrapped\n",
      " function (e.g. large strings).\n",
      "THIS IS A JOBLIB ISSUE. If you can, kindly provide the joblib's team with an\n",
      " example so that they can fix the problem.\n",
      "  U, S, V = cache(fast_svd, memory,\n"
     ]
    },
    {
     "name": "stdout",
     "output_type": "stream",
     "text": [
      "[MultiNiftiMasker.transform_single_imgs] Loading data from Nifti1Image('/media/2Tb/functional_analysis_jan2021/NeuroMet_fmriprep_conn/data/BIDS/dataset/sub-0047/func/sub-0047_run-01_bold.nii.gz')\n",
      "[MultiNiftiMasker.transform_single_imgs] Smoothing images\n",
      "[MultiNiftiMasker.transform_single_imgs] Extracting region signals\n",
      "[MultiNiftiMasker.transform_single_imgs] Cleaning extracted signals\n"
     ]
    },
    {
     "name": "stderr",
     "output_type": "stream",
     "text": [
      "/home/orco/anaconda3/envs/fmri/lib/python3.8/site-packages/nilearn/decomposition/base.py:219: UserWarning: Persisting input arguments took 1.50s to run.\n",
      "If this happens often in your code, it can cause performance problems \n",
      "(results will be correct in all cases). \n",
      "The reason for this is probably some large input arguments for a wrapped\n",
      " function (e.g. large strings).\n",
      "THIS IS A JOBLIB ISSUE. If you can, kindly provide the joblib's team with an\n",
      " example so that they can fix the problem.\n",
      "  U, S, V = cache(fast_svd, memory,\n"
     ]
    },
    {
     "name": "stdout",
     "output_type": "stream",
     "text": [
      "[MultiNiftiMasker.transform_single_imgs] Loading data from Nifti1Image('/media/2Tb/functional_analysis_jan2021/NeuroMet_fmriprep_conn/data/BIDS/dataset/sub-0027/func/sub-0027_run-01_bold.nii.gz')\n",
      "[MultiNiftiMasker.transform_single_imgs] Smoothing images\n",
      "[MultiNiftiMasker.transform_single_imgs] Extracting region signals\n",
      "[MultiNiftiMasker.transform_single_imgs] Cleaning extracted signals\n"
     ]
    },
    {
     "name": "stderr",
     "output_type": "stream",
     "text": [
      "/home/orco/anaconda3/envs/fmri/lib/python3.8/site-packages/nilearn/decomposition/base.py:219: UserWarning: Persisting input arguments took 1.50s to run.\n",
      "If this happens often in your code, it can cause performance problems \n",
      "(results will be correct in all cases). \n",
      "The reason for this is probably some large input arguments for a wrapped\n",
      " function (e.g. large strings).\n",
      "THIS IS A JOBLIB ISSUE. If you can, kindly provide the joblib's team with an\n",
      " example so that they can fix the problem.\n",
      "  U, S, V = cache(fast_svd, memory,\n"
     ]
    },
    {
     "name": "stdout",
     "output_type": "stream",
     "text": [
      "[MultiNiftiMasker.transform_single_imgs] Loading data from Nifti1Image('/media/2Tb/functional_analysis_jan2021/NeuroMet_fmriprep_conn/data/BIDS/dataset/sub-0077/func/sub-0077_run-01_bold.nii.gz')\n",
      "[MultiNiftiMasker.transform_single_imgs] Smoothing images\n",
      "[MultiNiftiMasker.transform_single_imgs] Extracting region signals\n",
      "[MultiNiftiMasker.transform_single_imgs] Cleaning extracted signals\n"
     ]
    },
    {
     "name": "stderr",
     "output_type": "stream",
     "text": [
      "/home/orco/anaconda3/envs/fmri/lib/python3.8/site-packages/nilearn/decomposition/base.py:219: UserWarning: Persisting input arguments took 1.49s to run.\n",
      "If this happens often in your code, it can cause performance problems \n",
      "(results will be correct in all cases). \n",
      "The reason for this is probably some large input arguments for a wrapped\n",
      " function (e.g. large strings).\n",
      "THIS IS A JOBLIB ISSUE. If you can, kindly provide the joblib's team with an\n",
      " example so that they can fix the problem.\n",
      "  U, S, V = cache(fast_svd, memory,\n"
     ]
    },
    {
     "name": "stdout",
     "output_type": "stream",
     "text": [
      "[MultiNiftiMasker.transform_single_imgs] Loading data from Nifti1Image('/media/2Tb/functional_analysis_jan2021/NeuroMet_fmriprep_conn/data/BIDS/dataset/sub-0084/func/sub-0084_run-01_bold.nii.gz')\n",
      "[MultiNiftiMasker.transform_single_imgs] Smoothing images\n",
      "[MultiNiftiMasker.transform_single_imgs] Extracting region signals\n",
      "[MultiNiftiMasker.transform_single_imgs] Cleaning extracted signals\n"
     ]
    },
    {
     "name": "stderr",
     "output_type": "stream",
     "text": [
      "/home/orco/anaconda3/envs/fmri/lib/python3.8/site-packages/nilearn/decomposition/base.py:219: UserWarning: Persisting input arguments took 1.49s to run.\n",
      "If this happens often in your code, it can cause performance problems \n",
      "(results will be correct in all cases). \n",
      "The reason for this is probably some large input arguments for a wrapped\n",
      " function (e.g. large strings).\n",
      "THIS IS A JOBLIB ISSUE. If you can, kindly provide the joblib's team with an\n",
      " example so that they can fix the problem.\n",
      "  U, S, V = cache(fast_svd, memory,\n"
     ]
    },
    {
     "name": "stdout",
     "output_type": "stream",
     "text": [
      "[MultiNiftiMasker.transform_single_imgs] Loading data from Nifti1Image('/media/2Tb/functional_analysis_jan2021/NeuroMet_fmriprep_conn/data/BIDS/dataset/sub-0044/func/sub-0044_run-01_bold.nii.gz')\n",
      "[MultiNiftiMasker.transform_single_imgs] Smoothing images\n",
      "[MultiNiftiMasker.transform_single_imgs] Extracting region signals\n",
      "[MultiNiftiMasker.transform_single_imgs] Cleaning extracted signals\n"
     ]
    },
    {
     "name": "stderr",
     "output_type": "stream",
     "text": [
      "/home/orco/anaconda3/envs/fmri/lib/python3.8/site-packages/nilearn/decomposition/base.py:219: UserWarning: Persisting input arguments took 1.50s to run.\n",
      "If this happens often in your code, it can cause performance problems \n",
      "(results will be correct in all cases). \n",
      "The reason for this is probably some large input arguments for a wrapped\n",
      " function (e.g. large strings).\n",
      "THIS IS A JOBLIB ISSUE. If you can, kindly provide the joblib's team with an\n",
      " example so that they can fix the problem.\n",
      "  U, S, V = cache(fast_svd, memory,\n"
     ]
    },
    {
     "name": "stdout",
     "output_type": "stream",
     "text": [
      "[MultiNiftiMasker.transform_single_imgs] Loading data from Nifti1Image('/media/2Tb/functional_analysis_jan2021/NeuroMet_fmriprep_conn/data/BIDS/dataset/sub-0052/func/sub-0052_run-01_bold.nii.gz')\n",
      "[MultiNiftiMasker.transform_single_imgs] Smoothing images\n",
      "[MultiNiftiMasker.transform_single_imgs] Extracting region signals\n",
      "[MultiNiftiMasker.transform_single_imgs] Cleaning extracted signals\n"
     ]
    },
    {
     "name": "stderr",
     "output_type": "stream",
     "text": [
      "/home/orco/anaconda3/envs/fmri/lib/python3.8/site-packages/nilearn/decomposition/base.py:219: UserWarning: Persisting input arguments took 1.50s to run.\n",
      "If this happens often in your code, it can cause performance problems \n",
      "(results will be correct in all cases). \n",
      "The reason for this is probably some large input arguments for a wrapped\n",
      " function (e.g. large strings).\n",
      "THIS IS A JOBLIB ISSUE. If you can, kindly provide the joblib's team with an\n",
      " example so that they can fix the problem.\n",
      "  U, S, V = cache(fast_svd, memory,\n"
     ]
    },
    {
     "name": "stdout",
     "output_type": "stream",
     "text": [
      "[MultiNiftiMasker.transform_single_imgs] Loading data from Nifti1Image('/media/2Tb/functional_analysis_jan2021/NeuroMet_fmriprep_conn/data/BIDS/dataset/sub-0058/func/sub-0058_run-01_bold.nii.gz')\n",
      "[MultiNiftiMasker.transform_single_imgs] Smoothing images\n",
      "[MultiNiftiMasker.transform_single_imgs] Extracting region signals\n",
      "[MultiNiftiMasker.transform_single_imgs] Cleaning extracted signals\n"
     ]
    },
    {
     "name": "stderr",
     "output_type": "stream",
     "text": [
      "/home/orco/anaconda3/envs/fmri/lib/python3.8/site-packages/nilearn/decomposition/base.py:219: UserWarning: Persisting input arguments took 1.49s to run.\n",
      "If this happens often in your code, it can cause performance problems \n",
      "(results will be correct in all cases). \n",
      "The reason for this is probably some large input arguments for a wrapped\n",
      " function (e.g. large strings).\n",
      "THIS IS A JOBLIB ISSUE. If you can, kindly provide the joblib's team with an\n",
      " example so that they can fix the problem.\n",
      "  U, S, V = cache(fast_svd, memory,\n"
     ]
    },
    {
     "name": "stdout",
     "output_type": "stream",
     "text": [
      "[MultiNiftiMasker.transform_single_imgs] Loading data from Nifti1Image('/media/2Tb/functional_analysis_jan2021/NeuroMet_fmriprep_conn/data/BIDS/dataset/sub-0040/func/sub-0040_run-01_bold.nii.gz')\n",
      "[MultiNiftiMasker.transform_single_imgs] Smoothing images\n",
      "[MultiNiftiMasker.transform_single_imgs] Extracting region signals\n",
      "[MultiNiftiMasker.transform_single_imgs] Cleaning extracted signals\n"
     ]
    },
    {
     "name": "stderr",
     "output_type": "stream",
     "text": [
      "/home/orco/anaconda3/envs/fmri/lib/python3.8/site-packages/nilearn/decomposition/base.py:219: UserWarning: Persisting input arguments took 1.44s to run.\n",
      "If this happens often in your code, it can cause performance problems \n",
      "(results will be correct in all cases). \n",
      "The reason for this is probably some large input arguments for a wrapped\n",
      " function (e.g. large strings).\n",
      "THIS IS A JOBLIB ISSUE. If you can, kindly provide the joblib's team with an\n",
      " example so that they can fix the problem.\n",
      "  U, S, V = cache(fast_svd, memory,\n"
     ]
    },
    {
     "name": "stdout",
     "output_type": "stream",
     "text": [
      "[MultiNiftiMasker.transform_single_imgs] Loading data from Nifti1Image('/media/2Tb/functional_analysis_jan2021/NeuroMet_fmriprep_conn/data/BIDS/dataset/sub-0021/func/sub-0021_run-01_bold.nii.gz')\n",
      "[MultiNiftiMasker.transform_single_imgs] Smoothing images\n",
      "[MultiNiftiMasker.transform_single_imgs] Extracting region signals\n",
      "[MultiNiftiMasker.transform_single_imgs] Cleaning extracted signals\n"
     ]
    },
    {
     "name": "stderr",
     "output_type": "stream",
     "text": [
      "/home/orco/anaconda3/envs/fmri/lib/python3.8/site-packages/nilearn/decomposition/base.py:219: UserWarning: Persisting input arguments took 1.49s to run.\n",
      "If this happens often in your code, it can cause performance problems \n",
      "(results will be correct in all cases). \n",
      "The reason for this is probably some large input arguments for a wrapped\n",
      " function (e.g. large strings).\n",
      "THIS IS A JOBLIB ISSUE. If you can, kindly provide the joblib's team with an\n",
      " example so that they can fix the problem.\n",
      "  U, S, V = cache(fast_svd, memory,\n"
     ]
    },
    {
     "name": "stdout",
     "output_type": "stream",
     "text": [
      "[MultiNiftiMasker.transform_single_imgs] Loading data from Nifti1Image('/media/2Tb/functional_analysis_jan2021/NeuroMet_fmriprep_conn/data/BIDS/dataset/sub-0005/func/sub-0005_run-01_bold.nii.gz')\n",
      "[MultiNiftiMasker.transform_single_imgs] Smoothing images\n",
      "[MultiNiftiMasker.transform_single_imgs] Extracting region signals\n",
      "[MultiNiftiMasker.transform_single_imgs] Cleaning extracted signals\n"
     ]
    },
    {
     "name": "stderr",
     "output_type": "stream",
     "text": [
      "/home/orco/anaconda3/envs/fmri/lib/python3.8/site-packages/nilearn/decomposition/base.py:219: UserWarning: Persisting input arguments took 1.50s to run.\n",
      "If this happens often in your code, it can cause performance problems \n",
      "(results will be correct in all cases). \n",
      "The reason for this is probably some large input arguments for a wrapped\n",
      " function (e.g. large strings).\n",
      "THIS IS A JOBLIB ISSUE. If you can, kindly provide the joblib's team with an\n",
      " example so that they can fix the problem.\n",
      "  U, S, V = cache(fast_svd, memory,\n"
     ]
    },
    {
     "name": "stdout",
     "output_type": "stream",
     "text": [
      "[MultiNiftiMasker.transform_single_imgs] Loading data from Nifti1Image('/media/2Tb/functional_analysis_jan2021/NeuroMet_fmriprep_conn/data/BIDS/dataset/sub-0003/func/sub-0003_run-01_bold.nii.gz')\n",
      "[MultiNiftiMasker.transform_single_imgs] Smoothing images\n",
      "[MultiNiftiMasker.transform_single_imgs] Extracting region signals\n",
      "[MultiNiftiMasker.transform_single_imgs] Cleaning extracted signals\n"
     ]
    },
    {
     "name": "stderr",
     "output_type": "stream",
     "text": [
      "/home/orco/anaconda3/envs/fmri/lib/python3.8/site-packages/nilearn/decomposition/base.py:219: UserWarning: Persisting input arguments took 1.50s to run.\n",
      "If this happens often in your code, it can cause performance problems \n",
      "(results will be correct in all cases). \n",
      "The reason for this is probably some large input arguments for a wrapped\n",
      " function (e.g. large strings).\n",
      "THIS IS A JOBLIB ISSUE. If you can, kindly provide the joblib's team with an\n",
      " example so that they can fix the problem.\n",
      "  U, S, V = cache(fast_svd, memory,\n"
     ]
    },
    {
     "name": "stdout",
     "output_type": "stream",
     "text": [
      "[MultiNiftiMasker.transform_single_imgs] Loading data from Nifti1Image('/media/2Tb/functional_analysis_jan2021/NeuroMet_fmriprep_conn/data/BIDS/dataset/sub-0033/func/sub-0033_run-01_bold.nii.gz')\n",
      "[MultiNiftiMasker.transform_single_imgs] Smoothing images\n",
      "[MultiNiftiMasker.transform_single_imgs] Extracting region signals\n",
      "[MultiNiftiMasker.transform_single_imgs] Cleaning extracted signals\n"
     ]
    },
    {
     "name": "stderr",
     "output_type": "stream",
     "text": [
      "/home/orco/anaconda3/envs/fmri/lib/python3.8/site-packages/nilearn/decomposition/base.py:219: UserWarning: Persisting input arguments took 1.48s to run.\n",
      "If this happens often in your code, it can cause performance problems \n",
      "(results will be correct in all cases). \n",
      "The reason for this is probably some large input arguments for a wrapped\n",
      " function (e.g. large strings).\n",
      "THIS IS A JOBLIB ISSUE. If you can, kindly provide the joblib's team with an\n",
      " example so that they can fix the problem.\n",
      "  U, S, V = cache(fast_svd, memory,\n"
     ]
    },
    {
     "name": "stdout",
     "output_type": "stream",
     "text": [
      "[MultiNiftiMasker.transform_single_imgs] Loading data from Nifti1Image('/media/2Tb/functional_analysis_jan2021/NeuroMet_fmriprep_conn/data/BIDS/dataset/sub-0023/func/sub-0023_run-01_bold.nii.gz')\n",
      "[MultiNiftiMasker.transform_single_imgs] Smoothing images\n",
      "[MultiNiftiMasker.transform_single_imgs] Extracting region signals\n",
      "[MultiNiftiMasker.transform_single_imgs] Cleaning extracted signals\n"
     ]
    },
    {
     "name": "stderr",
     "output_type": "stream",
     "text": [
      "/home/orco/anaconda3/envs/fmri/lib/python3.8/site-packages/nilearn/decomposition/base.py:219: UserWarning: Persisting input arguments took 1.50s to run.\n",
      "If this happens often in your code, it can cause performance problems \n",
      "(results will be correct in all cases). \n",
      "The reason for this is probably some large input arguments for a wrapped\n",
      " function (e.g. large strings).\n",
      "THIS IS A JOBLIB ISSUE. If you can, kindly provide the joblib's team with an\n",
      " example so that they can fix the problem.\n",
      "  U, S, V = cache(fast_svd, memory,\n"
     ]
    },
    {
     "name": "stdout",
     "output_type": "stream",
     "text": [
      "[MultiNiftiMasker.transform_single_imgs] Loading data from Nifti1Image('/media/2Tb/functional_analysis_jan2021/NeuroMet_fmriprep_conn/data/BIDS/dataset/sub-0068/func/sub-0068_run-01_bold.nii.gz')\n",
      "[MultiNiftiMasker.transform_single_imgs] Smoothing images\n",
      "[MultiNiftiMasker.transform_single_imgs] Extracting region signals\n",
      "[MultiNiftiMasker.transform_single_imgs] Cleaning extracted signals\n"
     ]
    },
    {
     "name": "stderr",
     "output_type": "stream",
     "text": [
      "/home/orco/anaconda3/envs/fmri/lib/python3.8/site-packages/nilearn/decomposition/base.py:219: UserWarning: Persisting input arguments took 1.49s to run.\n",
      "If this happens often in your code, it can cause performance problems \n",
      "(results will be correct in all cases). \n",
      "The reason for this is probably some large input arguments for a wrapped\n",
      " function (e.g. large strings).\n",
      "THIS IS A JOBLIB ISSUE. If you can, kindly provide the joblib's team with an\n",
      " example so that they can fix the problem.\n",
      "  U, S, V = cache(fast_svd, memory,\n"
     ]
    },
    {
     "name": "stdout",
     "output_type": "stream",
     "text": [
      "[MultiNiftiMasker.transform_single_imgs] Loading data from Nifti1Image('/media/2Tb/functional_analysis_jan2021/NeuroMet_fmriprep_conn/data/BIDS/dataset/sub-0059/func/sub-0059_run-01_bold.nii.gz')\n",
      "[MultiNiftiMasker.transform_single_imgs] Smoothing images\n",
      "[MultiNiftiMasker.transform_single_imgs] Extracting region signals\n",
      "[MultiNiftiMasker.transform_single_imgs] Cleaning extracted signals\n"
     ]
    },
    {
     "name": "stderr",
     "output_type": "stream",
     "text": [
      "/home/orco/anaconda3/envs/fmri/lib/python3.8/site-packages/nilearn/decomposition/base.py:219: UserWarning: Persisting input arguments took 1.50s to run.\n",
      "If this happens often in your code, it can cause performance problems \n",
      "(results will be correct in all cases). \n",
      "The reason for this is probably some large input arguments for a wrapped\n",
      " function (e.g. large strings).\n",
      "THIS IS A JOBLIB ISSUE. If you can, kindly provide the joblib's team with an\n",
      " example so that they can fix the problem.\n",
      "  U, S, V = cache(fast_svd, memory,\n"
     ]
    },
    {
     "name": "stdout",
     "output_type": "stream",
     "text": [
      "[MultiNiftiMasker.transform_single_imgs] Loading data from Nifti1Image('/media/2Tb/functional_analysis_jan2021/NeuroMet_fmriprep_conn/data/BIDS/dataset/sub-0001/func/sub-0001_run-01_bold.nii.gz')\n",
      "[MultiNiftiMasker.transform_single_imgs] Smoothing images\n",
      "[MultiNiftiMasker.transform_single_imgs] Extracting region signals\n",
      "[MultiNiftiMasker.transform_single_imgs] Cleaning extracted signals\n"
     ]
    },
    {
     "name": "stderr",
     "output_type": "stream",
     "text": [
      "/home/orco/anaconda3/envs/fmri/lib/python3.8/site-packages/nilearn/decomposition/base.py:219: UserWarning: Persisting input arguments took 1.49s to run.\n",
      "If this happens often in your code, it can cause performance problems \n",
      "(results will be correct in all cases). \n",
      "The reason for this is probably some large input arguments for a wrapped\n",
      " function (e.g. large strings).\n",
      "THIS IS A JOBLIB ISSUE. If you can, kindly provide the joblib's team with an\n",
      " example so that they can fix the problem.\n",
      "  U, S, V = cache(fast_svd, memory,\n"
     ]
    },
    {
     "name": "stdout",
     "output_type": "stream",
     "text": [
      "[MultiNiftiMasker.transform_single_imgs] Loading data from Nifti1Image('/media/2Tb/functional_analysis_jan2021/NeuroMet_fmriprep_conn/data/BIDS/dataset/sub-0065/func/sub-0065_run-01_bold.nii.gz')\n",
      "[MultiNiftiMasker.transform_single_imgs] Smoothing images\n",
      "[MultiNiftiMasker.transform_single_imgs] Extracting region signals\n",
      "[MultiNiftiMasker.transform_single_imgs] Cleaning extracted signals\n"
     ]
    },
    {
     "name": "stderr",
     "output_type": "stream",
     "text": [
      "/home/orco/anaconda3/envs/fmri/lib/python3.8/site-packages/nilearn/decomposition/base.py:219: UserWarning: Persisting input arguments took 1.50s to run.\n",
      "If this happens often in your code, it can cause performance problems \n",
      "(results will be correct in all cases). \n",
      "The reason for this is probably some large input arguments for a wrapped\n",
      " function (e.g. large strings).\n",
      "THIS IS A JOBLIB ISSUE. If you can, kindly provide the joblib's team with an\n",
      " example so that they can fix the problem.\n",
      "  U, S, V = cache(fast_svd, memory,\n"
     ]
    },
    {
     "name": "stdout",
     "output_type": "stream",
     "text": [
      "[MultiNiftiMasker.transform_single_imgs] Loading data from Nifti1Image('/media/2Tb/functional_analysis_jan2021/NeuroMet_fmriprep_conn/data/BIDS/dataset/sub-0029/func/sub-0029_run-01_bold.nii.gz')\n",
      "[MultiNiftiMasker.transform_single_imgs] Smoothing images\n",
      "[MultiNiftiMasker.transform_single_imgs] Extracting region signals\n",
      "[MultiNiftiMasker.transform_single_imgs] Cleaning extracted signals\n"
     ]
    },
    {
     "name": "stderr",
     "output_type": "stream",
     "text": [
      "/home/orco/anaconda3/envs/fmri/lib/python3.8/site-packages/nilearn/decomposition/base.py:219: UserWarning: Persisting input arguments took 1.43s to run.\n",
      "If this happens often in your code, it can cause performance problems \n",
      "(results will be correct in all cases). \n",
      "The reason for this is probably some large input arguments for a wrapped\n",
      " function (e.g. large strings).\n",
      "THIS IS A JOBLIB ISSUE. If you can, kindly provide the joblib's team with an\n",
      " example so that they can fix the problem.\n",
      "  U, S, V = cache(fast_svd, memory,\n"
     ]
    },
    {
     "name": "stdout",
     "output_type": "stream",
     "text": [
      "[MultiNiftiMasker.transform_single_imgs] Loading data from Nifti1Image('/media/2Tb/functional_analysis_jan2021/NeuroMet_fmriprep_conn/data/BIDS/dataset/sub-0067/func/sub-0067_run-01_bold.nii.gz')\n",
      "[MultiNiftiMasker.transform_single_imgs] Smoothing images\n",
      "[MultiNiftiMasker.transform_single_imgs] Extracting region signals\n",
      "[MultiNiftiMasker.transform_single_imgs] Cleaning extracted signals\n"
     ]
    },
    {
     "name": "stderr",
     "output_type": "stream",
     "text": [
      "/home/orco/anaconda3/envs/fmri/lib/python3.8/site-packages/nilearn/decomposition/base.py:219: UserWarning: Persisting input arguments took 1.42s to run.\n",
      "If this happens often in your code, it can cause performance problems \n",
      "(results will be correct in all cases). \n",
      "The reason for this is probably some large input arguments for a wrapped\n",
      " function (e.g. large strings).\n",
      "THIS IS A JOBLIB ISSUE. If you can, kindly provide the joblib's team with an\n",
      " example so that they can fix the problem.\n",
      "  U, S, V = cache(fast_svd, memory,\n"
     ]
    },
    {
     "name": "stdout",
     "output_type": "stream",
     "text": [
      "[MultiNiftiMasker.transform_single_imgs] Loading data from Nifti1Image('/media/2Tb/functional_analysis_jan2021/NeuroMet_fmriprep_conn/data/BIDS/dataset/sub-0024/func/sub-0024_run-01_bold.nii.gz')\n",
      "[MultiNiftiMasker.transform_single_imgs] Smoothing images\n",
      "[MultiNiftiMasker.transform_single_imgs] Extracting region signals\n",
      "[MultiNiftiMasker.transform_single_imgs] Cleaning extracted signals\n"
     ]
    },
    {
     "name": "stderr",
     "output_type": "stream",
     "text": [
      "/home/orco/anaconda3/envs/fmri/lib/python3.8/site-packages/nilearn/decomposition/base.py:219: UserWarning: Persisting input arguments took 1.43s to run.\n",
      "If this happens often in your code, it can cause performance problems \n",
      "(results will be correct in all cases). \n",
      "The reason for this is probably some large input arguments for a wrapped\n",
      " function (e.g. large strings).\n",
      "THIS IS A JOBLIB ISSUE. If you can, kindly provide the joblib's team with an\n",
      " example so that they can fix the problem.\n",
      "  U, S, V = cache(fast_svd, memory,\n"
     ]
    },
    {
     "name": "stdout",
     "output_type": "stream",
     "text": [
      "[MultiNiftiMasker.transform_single_imgs] Loading data from Nifti1Image('/media/2Tb/functional_analysis_jan2021/NeuroMet_fmriprep_conn/data/BIDS/dataset/sub-0072/func/sub-0072_run-01_bold.nii.gz')\n",
      "[MultiNiftiMasker.transform_single_imgs] Smoothing images\n",
      "[MultiNiftiMasker.transform_single_imgs] Extracting region signals\n",
      "[MultiNiftiMasker.transform_single_imgs] Cleaning extracted signals\n"
     ]
    },
    {
     "name": "stderr",
     "output_type": "stream",
     "text": [
      "/home/orco/anaconda3/envs/fmri/lib/python3.8/site-packages/nilearn/decomposition/base.py:219: UserWarning: Persisting input arguments took 1.42s to run.\n",
      "If this happens often in your code, it can cause performance problems \n",
      "(results will be correct in all cases). \n",
      "The reason for this is probably some large input arguments for a wrapped\n",
      " function (e.g. large strings).\n",
      "THIS IS A JOBLIB ISSUE. If you can, kindly provide the joblib's team with an\n",
      " example so that they can fix the problem.\n",
      "  U, S, V = cache(fast_svd, memory,\n"
     ]
    },
    {
     "name": "stdout",
     "output_type": "stream",
     "text": [
      "[MultiNiftiMasker.transform_single_imgs] Loading data from Nifti1Image('/media/2Tb/functional_analysis_jan2021/NeuroMet_fmriprep_conn/data/BIDS/dataset/sub-0022/func/sub-0022_run-01_bold.nii.gz')\n",
      "[MultiNiftiMasker.transform_single_imgs] Smoothing images\n",
      "[MultiNiftiMasker.transform_single_imgs] Extracting region signals\n",
      "[MultiNiftiMasker.transform_single_imgs] Cleaning extracted signals\n"
     ]
    },
    {
     "name": "stderr",
     "output_type": "stream",
     "text": [
      "/home/orco/anaconda3/envs/fmri/lib/python3.8/site-packages/nilearn/decomposition/base.py:219: UserWarning: Persisting input arguments took 1.49s to run.\n",
      "If this happens often in your code, it can cause performance problems \n",
      "(results will be correct in all cases). \n",
      "The reason for this is probably some large input arguments for a wrapped\n",
      " function (e.g. large strings).\n",
      "THIS IS A JOBLIB ISSUE. If you can, kindly provide the joblib's team with an\n",
      " example so that they can fix the problem.\n",
      "  U, S, V = cache(fast_svd, memory,\n"
     ]
    },
    {
     "name": "stdout",
     "output_type": "stream",
     "text": [
      "[MultiNiftiMasker.transform_single_imgs] Loading data from Nifti1Image('/media/2Tb/functional_analysis_jan2021/NeuroMet_fmriprep_conn/data/BIDS/dataset/sub-0060/func/sub-0060_run-01_bold.nii.gz')\n",
      "[MultiNiftiMasker.transform_single_imgs] Smoothing images\n",
      "[MultiNiftiMasker.transform_single_imgs] Extracting region signals\n",
      "[MultiNiftiMasker.transform_single_imgs] Cleaning extracted signals\n"
     ]
    },
    {
     "name": "stderr",
     "output_type": "stream",
     "text": [
      "/home/orco/anaconda3/envs/fmri/lib/python3.8/site-packages/nilearn/decomposition/base.py:219: UserWarning: Persisting input arguments took 1.50s to run.\n",
      "If this happens often in your code, it can cause performance problems \n",
      "(results will be correct in all cases). \n",
      "The reason for this is probably some large input arguments for a wrapped\n",
      " function (e.g. large strings).\n",
      "THIS IS A JOBLIB ISSUE. If you can, kindly provide the joblib's team with an\n",
      " example so that they can fix the problem.\n",
      "  U, S, V = cache(fast_svd, memory,\n"
     ]
    },
    {
     "name": "stdout",
     "output_type": "stream",
     "text": [
      "[MultiNiftiMasker.transform_single_imgs] Loading data from Nifti1Image('/media/2Tb/functional_analysis_jan2021/NeuroMet_fmriprep_conn/data/BIDS/dataset/sub-0028/func/sub-0028_run-01_bold.nii.gz')\n",
      "[MultiNiftiMasker.transform_single_imgs] Smoothing images\n",
      "[MultiNiftiMasker.transform_single_imgs] Extracting region signals\n",
      "[MultiNiftiMasker.transform_single_imgs] Cleaning extracted signals\n"
     ]
    },
    {
     "name": "stderr",
     "output_type": "stream",
     "text": [
      "/home/orco/anaconda3/envs/fmri/lib/python3.8/site-packages/nilearn/decomposition/base.py:219: UserWarning: Persisting input arguments took 1.49s to run.\n",
      "If this happens often in your code, it can cause performance problems \n",
      "(results will be correct in all cases). \n",
      "The reason for this is probably some large input arguments for a wrapped\n",
      " function (e.g. large strings).\n",
      "THIS IS A JOBLIB ISSUE. If you can, kindly provide the joblib's team with an\n",
      " example so that they can fix the problem.\n",
      "  U, S, V = cache(fast_svd, memory,\n"
     ]
    },
    {
     "name": "stdout",
     "output_type": "stream",
     "text": [
      "[MultiNiftiMasker.transform_single_imgs] Loading data from Nifti1Image('/media/2Tb/functional_analysis_jan2021/NeuroMet_fmriprep_conn/data/BIDS/dataset/sub-0045/func/sub-0045_run-01_bold.nii.gz')\n",
      "[MultiNiftiMasker.transform_single_imgs] Smoothing images\n",
      "[MultiNiftiMasker.transform_single_imgs] Extracting region signals\n",
      "[MultiNiftiMasker.transform_single_imgs] Cleaning extracted signals\n"
     ]
    },
    {
     "name": "stderr",
     "output_type": "stream",
     "text": [
      "/home/orco/anaconda3/envs/fmri/lib/python3.8/site-packages/nilearn/decomposition/base.py:219: UserWarning: Persisting input arguments took 1.49s to run.\n",
      "If this happens often in your code, it can cause performance problems \n",
      "(results will be correct in all cases). \n",
      "The reason for this is probably some large input arguments for a wrapped\n",
      " function (e.g. large strings).\n",
      "THIS IS A JOBLIB ISSUE. If you can, kindly provide the joblib's team with an\n",
      " example so that they can fix the problem.\n",
      "  U, S, V = cache(fast_svd, memory,\n"
     ]
    },
    {
     "name": "stdout",
     "output_type": "stream",
     "text": [
      "[MultiNiftiMasker.transform_single_imgs] Loading data from Nifti1Image('/media/2Tb/functional_analysis_jan2021/NeuroMet_fmriprep_conn/data/BIDS/dataset/sub-0014/func/sub-0014_run-01_bold.nii.gz')\n",
      "[MultiNiftiMasker.transform_single_imgs] Smoothing images\n",
      "[MultiNiftiMasker.transform_single_imgs] Extracting region signals\n",
      "[MultiNiftiMasker.transform_single_imgs] Cleaning extracted signals\n"
     ]
    },
    {
     "name": "stderr",
     "output_type": "stream",
     "text": [
      "/home/orco/anaconda3/envs/fmri/lib/python3.8/site-packages/nilearn/decomposition/base.py:219: UserWarning: Persisting input arguments took 1.50s to run.\n",
      "If this happens often in your code, it can cause performance problems \n",
      "(results will be correct in all cases). \n",
      "The reason for this is probably some large input arguments for a wrapped\n",
      " function (e.g. large strings).\n",
      "THIS IS A JOBLIB ISSUE. If you can, kindly provide the joblib's team with an\n",
      " example so that they can fix the problem.\n",
      "  U, S, V = cache(fast_svd, memory,\n"
     ]
    },
    {
     "name": "stdout",
     "output_type": "stream",
     "text": [
      "[MultiNiftiMasker.transform_single_imgs] Loading data from Nifti1Image('/media/2Tb/functional_analysis_jan2021/NeuroMet_fmriprep_conn/data/BIDS/dataset/sub-0051/func/sub-0051_run-01_bold.nii.gz')\n",
      "[MultiNiftiMasker.transform_single_imgs] Smoothing images\n",
      "[MultiNiftiMasker.transform_single_imgs] Extracting region signals\n",
      "[MultiNiftiMasker.transform_single_imgs] Cleaning extracted signals\n"
     ]
    },
    {
     "name": "stderr",
     "output_type": "stream",
     "text": [
      "/home/orco/anaconda3/envs/fmri/lib/python3.8/site-packages/nilearn/decomposition/base.py:219: UserWarning: Persisting input arguments took 1.50s to run.\n",
      "If this happens often in your code, it can cause performance problems \n",
      "(results will be correct in all cases). \n",
      "The reason for this is probably some large input arguments for a wrapped\n",
      " function (e.g. large strings).\n",
      "THIS IS A JOBLIB ISSUE. If you can, kindly provide the joblib's team with an\n",
      " example so that they can fix the problem.\n",
      "  U, S, V = cache(fast_svd, memory,\n"
     ]
    },
    {
     "name": "stdout",
     "output_type": "stream",
     "text": [
      "[MultiNiftiMasker.transform_single_imgs] Loading data from Nifti1Image('/media/2Tb/functional_analysis_jan2021/NeuroMet_fmriprep_conn/data/BIDS/dataset/sub-0063/func/sub-0063_run-01_bold.nii.gz')\n",
      "[MultiNiftiMasker.transform_single_imgs] Smoothing images\n",
      "[MultiNiftiMasker.transform_single_imgs] Extracting region signals\n",
      "[MultiNiftiMasker.transform_single_imgs] Cleaning extracted signals\n",
      "[MultiNiftiMasker.transform_single_imgs] Loading data from Nifti1Image('/media/2Tb/functional_analysis_jan2021/NeuroMet_fmriprep_conn/data/BIDS/dataset/sub-0057/func/sub-0057_run-01_bold.nii.gz')\n",
      "[MultiNiftiMasker.transform_single_imgs] Smoothing images\n",
      "[MultiNiftiMasker.transform_single_imgs] Extracting region signals\n",
      "[MultiNiftiMasker.transform_single_imgs] Cleaning extracted signals\n"
     ]
    },
    {
     "name": "stderr",
     "output_type": "stream",
     "text": [
      "/home/orco/anaconda3/envs/fmri/lib/python3.8/site-packages/nilearn/decomposition/base.py:219: UserWarning: Persisting input arguments took 1.49s to run.\n",
      "If this happens often in your code, it can cause performance problems \n",
      "(results will be correct in all cases). \n",
      "The reason for this is probably some large input arguments for a wrapped\n",
      " function (e.g. large strings).\n",
      "THIS IS A JOBLIB ISSUE. If you can, kindly provide the joblib's team with an\n",
      " example so that they can fix the problem.\n",
      "  U, S, V = cache(fast_svd, memory,\n"
     ]
    },
    {
     "name": "stdout",
     "output_type": "stream",
     "text": [
      "[MultiNiftiMasker.transform_single_imgs] Loading data from Nifti1Image('/media/2Tb/functional_analysis_jan2021/NeuroMet_fmriprep_conn/data/BIDS/dataset/sub-0066/func/sub-0066_run-01_bold.nii.gz')\n",
      "[MultiNiftiMasker.transform_single_imgs] Smoothing images\n",
      "[MultiNiftiMasker.transform_single_imgs] Extracting region signals\n",
      "[MultiNiftiMasker.transform_single_imgs] Cleaning extracted signals\n"
     ]
    },
    {
     "name": "stderr",
     "output_type": "stream",
     "text": [
      "/home/orco/anaconda3/envs/fmri/lib/python3.8/site-packages/nilearn/decomposition/base.py:219: UserWarning: Persisting input arguments took 1.50s to run.\n",
      "If this happens often in your code, it can cause performance problems \n",
      "(results will be correct in all cases). \n",
      "The reason for this is probably some large input arguments for a wrapped\n",
      " function (e.g. large strings).\n",
      "THIS IS A JOBLIB ISSUE. If you can, kindly provide the joblib's team with an\n",
      " example so that they can fix the problem.\n",
      "  U, S, V = cache(fast_svd, memory,\n"
     ]
    },
    {
     "name": "stdout",
     "output_type": "stream",
     "text": [
      "[MultiNiftiMasker.transform_single_imgs] Loading data from Nifti1Image('/media/2Tb/functional_analysis_jan2021/NeuroMet_fmriprep_conn/data/BIDS/dataset/sub-0041/func/sub-0041_run-01_bold.nii.gz')\n",
      "[MultiNiftiMasker.transform_single_imgs] Smoothing images\n",
      "[MultiNiftiMasker.transform_single_imgs] Extracting region signals\n",
      "[MultiNiftiMasker.transform_single_imgs] Cleaning extracted signals\n"
     ]
    },
    {
     "name": "stderr",
     "output_type": "stream",
     "text": [
      "/home/orco/anaconda3/envs/fmri/lib/python3.8/site-packages/nilearn/decomposition/base.py:219: UserWarning: Persisting input arguments took 1.50s to run.\n",
      "If this happens often in your code, it can cause performance problems \n",
      "(results will be correct in all cases). \n",
      "The reason for this is probably some large input arguments for a wrapped\n",
      " function (e.g. large strings).\n",
      "THIS IS A JOBLIB ISSUE. If you can, kindly provide the joblib's team with an\n",
      " example so that they can fix the problem.\n",
      "  U, S, V = cache(fast_svd, memory,\n"
     ]
    },
    {
     "name": "stdout",
     "output_type": "stream",
     "text": [
      "[MultiNiftiMasker.transform_single_imgs] Loading data from Nifti1Image('/media/2Tb/functional_analysis_jan2021/NeuroMet_fmriprep_conn/data/BIDS/dataset/sub-0056/func/sub-0056_run-01_bold.nii.gz')\n",
      "[MultiNiftiMasker.transform_single_imgs] Smoothing images\n",
      "[MultiNiftiMasker.transform_single_imgs] Extracting region signals\n",
      "[MultiNiftiMasker.transform_single_imgs] Cleaning extracted signals\n"
     ]
    },
    {
     "name": "stderr",
     "output_type": "stream",
     "text": [
      "/home/orco/anaconda3/envs/fmri/lib/python3.8/site-packages/nilearn/decomposition/base.py:219: UserWarning: Persisting input arguments took 1.50s to run.\n",
      "If this happens often in your code, it can cause performance problems \n",
      "(results will be correct in all cases). \n",
      "The reason for this is probably some large input arguments for a wrapped\n",
      " function (e.g. large strings).\n",
      "THIS IS A JOBLIB ISSUE. If you can, kindly provide the joblib's team with an\n",
      " example so that they can fix the problem.\n",
      "  U, S, V = cache(fast_svd, memory,\n"
     ]
    },
    {
     "name": "stdout",
     "output_type": "stream",
     "text": [
      "[MultiNiftiMasker.transform_single_imgs] Loading data from Nifti1Image('/media/2Tb/functional_analysis_jan2021/NeuroMet_fmriprep_conn/data/BIDS/dataset/sub-0083/func/sub-0083_run-01_bold.nii.gz')\n",
      "[MultiNiftiMasker.transform_single_imgs] Smoothing images\n",
      "[MultiNiftiMasker.transform_single_imgs] Extracting region signals\n",
      "[MultiNiftiMasker.transform_single_imgs] Cleaning extracted signals\n"
     ]
    },
    {
     "name": "stderr",
     "output_type": "stream",
     "text": [
      "/home/orco/anaconda3/envs/fmri/lib/python3.8/site-packages/nilearn/decomposition/base.py:219: UserWarning: Persisting input arguments took 1.50s to run.\n",
      "If this happens often in your code, it can cause performance problems \n",
      "(results will be correct in all cases). \n",
      "The reason for this is probably some large input arguments for a wrapped\n",
      " function (e.g. large strings).\n",
      "THIS IS A JOBLIB ISSUE. If you can, kindly provide the joblib's team with an\n",
      " example so that they can fix the problem.\n",
      "  U, S, V = cache(fast_svd, memory,\n"
     ]
    },
    {
     "name": "stdout",
     "output_type": "stream",
     "text": [
      "[MultiNiftiMasker.transform_single_imgs] Loading data from Nifti1Image('/media/2Tb/functional_analysis_jan2021/NeuroMet_fmriprep_conn/data/BIDS/dataset/sub-0082/func/sub-0082_run-01_bold.nii.gz')\n",
      "[MultiNiftiMasker.transform_single_imgs] Smoothing images\n",
      "[MultiNiftiMasker.transform_single_imgs] Extracting region signals\n",
      "[MultiNiftiMasker.transform_single_imgs] Cleaning extracted signals\n"
     ]
    },
    {
     "name": "stderr",
     "output_type": "stream",
     "text": [
      "/home/orco/anaconda3/envs/fmri/lib/python3.8/site-packages/nilearn/decomposition/base.py:219: UserWarning: Persisting input arguments took 1.50s to run.\n",
      "If this happens often in your code, it can cause performance problems \n",
      "(results will be correct in all cases). \n",
      "The reason for this is probably some large input arguments for a wrapped\n",
      " function (e.g. large strings).\n",
      "THIS IS A JOBLIB ISSUE. If you can, kindly provide the joblib's team with an\n",
      " example so that they can fix the problem.\n",
      "  U, S, V = cache(fast_svd, memory,\n"
     ]
    },
    {
     "name": "stdout",
     "output_type": "stream",
     "text": [
      "[MultiNiftiMasker.transform_single_imgs] Loading data from Nifti1Image('/media/2Tb/functional_analysis_jan2021/NeuroMet_fmriprep_conn/data/BIDS/dataset/sub-0087/func/sub-0087_run-01_bold.nii.gz')\n",
      "[MultiNiftiMasker.transform_single_imgs] Smoothing images\n",
      "[MultiNiftiMasker.transform_single_imgs] Extracting region signals\n",
      "[MultiNiftiMasker.transform_single_imgs] Cleaning extracted signals\n"
     ]
    },
    {
     "name": "stderr",
     "output_type": "stream",
     "text": [
      "/home/orco/anaconda3/envs/fmri/lib/python3.8/site-packages/nilearn/decomposition/base.py:219: UserWarning: Persisting input arguments took 1.49s to run.\n",
      "If this happens often in your code, it can cause performance problems \n",
      "(results will be correct in all cases). \n",
      "The reason for this is probably some large input arguments for a wrapped\n",
      " function (e.g. large strings).\n",
      "THIS IS A JOBLIB ISSUE. If you can, kindly provide the joblib's team with an\n",
      " example so that they can fix the problem.\n",
      "  U, S, V = cache(fast_svd, memory,\n"
     ]
    },
    {
     "name": "stdout",
     "output_type": "stream",
     "text": [
      "[MultiNiftiMasker.transform_single_imgs] Loading data from Nifti1Image('/media/2Tb/functional_analysis_jan2021/NeuroMet_fmriprep_conn/data/BIDS/dataset/sub-0085/func/sub-0085_run-01_bold.nii.gz')\n",
      "[MultiNiftiMasker.transform_single_imgs] Smoothing images\n",
      "[MultiNiftiMasker.transform_single_imgs] Extracting region signals\n",
      "[MultiNiftiMasker.transform_single_imgs] Cleaning extracted signals\n"
     ]
    },
    {
     "name": "stderr",
     "output_type": "stream",
     "text": [
      "/home/orco/anaconda3/envs/fmri/lib/python3.8/site-packages/nilearn/decomposition/base.py:219: UserWarning: Persisting input arguments took 1.50s to run.\n",
      "If this happens often in your code, it can cause performance problems \n",
      "(results will be correct in all cases). \n",
      "The reason for this is probably some large input arguments for a wrapped\n",
      " function (e.g. large strings).\n",
      "THIS IS A JOBLIB ISSUE. If you can, kindly provide the joblib's team with an\n",
      " example so that they can fix the problem.\n",
      "  U, S, V = cache(fast_svd, memory,\n"
     ]
    },
    {
     "name": "stdout",
     "output_type": "stream",
     "text": [
      "[MultiNiftiMasker.transform_single_imgs] Loading data from Nifti1Image('/media/2Tb/functional_analysis_jan2021/NeuroMet_fmriprep_conn/data/BIDS/dataset/sub-0049/func/sub-0049_run-01_bold.nii.gz')\n",
      "[MultiNiftiMasker.transform_single_imgs] Smoothing images\n",
      "[MultiNiftiMasker.transform_single_imgs] Extracting region signals\n",
      "[MultiNiftiMasker.transform_single_imgs] Cleaning extracted signals\n"
     ]
    },
    {
     "name": "stderr",
     "output_type": "stream",
     "text": [
      "/home/orco/anaconda3/envs/fmri/lib/python3.8/site-packages/nilearn/decomposition/base.py:219: UserWarning: Persisting input arguments took 1.49s to run.\n",
      "If this happens often in your code, it can cause performance problems \n",
      "(results will be correct in all cases). \n",
      "The reason for this is probably some large input arguments for a wrapped\n",
      " function (e.g. large strings).\n",
      "THIS IS A JOBLIB ISSUE. If you can, kindly provide the joblib's team with an\n",
      " example so that they can fix the problem.\n",
      "  U, S, V = cache(fast_svd, memory,\n"
     ]
    },
    {
     "name": "stdout",
     "output_type": "stream",
     "text": [
      "[MultiNiftiMasker.transform_single_imgs] Loading data from Nifti1Image('/media/2Tb/functional_analysis_jan2021/NeuroMet_fmriprep_conn/data/BIDS/dataset/sub-0006/func/sub-0006_run-01_bold.nii.gz')\n",
      "[MultiNiftiMasker.transform_single_imgs] Smoothing images\n",
      "[MultiNiftiMasker.transform_single_imgs] Extracting region signals\n",
      "[MultiNiftiMasker.transform_single_imgs] Cleaning extracted signals\n"
     ]
    },
    {
     "name": "stderr",
     "output_type": "stream",
     "text": [
      "/home/orco/anaconda3/envs/fmri/lib/python3.8/site-packages/nilearn/decomposition/base.py:219: UserWarning: Persisting input arguments took 1.48s to run.\n",
      "If this happens often in your code, it can cause performance problems \n",
      "(results will be correct in all cases). \n",
      "The reason for this is probably some large input arguments for a wrapped\n",
      " function (e.g. large strings).\n",
      "THIS IS A JOBLIB ISSUE. If you can, kindly provide the joblib's team with an\n",
      " example so that they can fix the problem.\n",
      "  U, S, V = cache(fast_svd, memory,\n"
     ]
    },
    {
     "name": "stdout",
     "output_type": "stream",
     "text": [
      "[MultiNiftiMasker.transform_single_imgs] Loading data from Nifti1Image('/media/2Tb/functional_analysis_jan2021/NeuroMet_fmriprep_conn/data/BIDS/dataset/sub-0010/func/sub-0010_run-01_bold.nii.gz')\n",
      "[MultiNiftiMasker.transform_single_imgs] Smoothing images\n",
      "[MultiNiftiMasker.transform_single_imgs] Extracting region signals\n",
      "[MultiNiftiMasker.transform_single_imgs] Cleaning extracted signals\n"
     ]
    },
    {
     "name": "stderr",
     "output_type": "stream",
     "text": [
      "/home/orco/anaconda3/envs/fmri/lib/python3.8/site-packages/nilearn/decomposition/base.py:219: UserWarning: Persisting input arguments took 1.49s to run.\n",
      "If this happens often in your code, it can cause performance problems \n",
      "(results will be correct in all cases). \n",
      "The reason for this is probably some large input arguments for a wrapped\n",
      " function (e.g. large strings).\n",
      "THIS IS A JOBLIB ISSUE. If you can, kindly provide the joblib's team with an\n",
      " example so that they can fix the problem.\n",
      "  U, S, V = cache(fast_svd, memory,\n"
     ]
    },
    {
     "name": "stdout",
     "output_type": "stream",
     "text": [
      "[MultiNiftiMasker.transform_single_imgs] Loading data from Nifti1Image('/media/2Tb/functional_analysis_jan2021/NeuroMet_fmriprep_conn/data/BIDS/dataset/sub-0004/func/sub-0004_run-01_bold.nii.gz')\n",
      "[MultiNiftiMasker.transform_single_imgs] Smoothing images\n",
      "[MultiNiftiMasker.transform_single_imgs] Extracting region signals\n",
      "[MultiNiftiMasker.transform_single_imgs] Cleaning extracted signals\n"
     ]
    },
    {
     "name": "stderr",
     "output_type": "stream",
     "text": [
      "/home/orco/anaconda3/envs/fmri/lib/python3.8/site-packages/nilearn/decomposition/base.py:219: UserWarning: Persisting input arguments took 1.49s to run.\n",
      "If this happens often in your code, it can cause performance problems \n",
      "(results will be correct in all cases). \n",
      "The reason for this is probably some large input arguments for a wrapped\n",
      " function (e.g. large strings).\n",
      "THIS IS A JOBLIB ISSUE. If you can, kindly provide the joblib's team with an\n",
      " example so that they can fix the problem.\n",
      "  U, S, V = cache(fast_svd, memory,\n"
     ]
    },
    {
     "name": "stdout",
     "output_type": "stream",
     "text": [
      "[MultiNiftiMasker.transform_single_imgs] Loading data from Nifti1Image('/media/2Tb/functional_analysis_jan2021/NeuroMet_fmriprep_conn/data/BIDS/dataset/sub-0030/func/sub-0030_run-01_bold.nii.gz')\n",
      "[MultiNiftiMasker.transform_single_imgs] Smoothing images\n",
      "[MultiNiftiMasker.transform_single_imgs] Extracting region signals\n",
      "[MultiNiftiMasker.transform_single_imgs] Cleaning extracted signals\n"
     ]
    },
    {
     "name": "stderr",
     "output_type": "stream",
     "text": [
      "/home/orco/anaconda3/envs/fmri/lib/python3.8/site-packages/nilearn/decomposition/base.py:219: UserWarning: Persisting input arguments took 1.50s to run.\n",
      "If this happens often in your code, it can cause performance problems \n",
      "(results will be correct in all cases). \n",
      "The reason for this is probably some large input arguments for a wrapped\n",
      " function (e.g. large strings).\n",
      "THIS IS A JOBLIB ISSUE. If you can, kindly provide the joblib's team with an\n",
      " example so that they can fix the problem.\n",
      "  U, S, V = cache(fast_svd, memory,\n"
     ]
    },
    {
     "name": "stdout",
     "output_type": "stream",
     "text": [
      "[MultiNiftiMasker.transform_single_imgs] Loading data from Nifti1Image('/media/2Tb/functional_analysis_jan2021/NeuroMet_fmriprep_conn/data/BIDS/dataset/sub-0008/func/sub-0008_run-01_bold.nii.gz')\n",
      "[MultiNiftiMasker.transform_single_imgs] Smoothing images\n",
      "[MultiNiftiMasker.transform_single_imgs] Extracting region signals\n",
      "[MultiNiftiMasker.transform_single_imgs] Cleaning extracted signals\n"
     ]
    },
    {
     "name": "stderr",
     "output_type": "stream",
     "text": [
      "/home/orco/anaconda3/envs/fmri/lib/python3.8/site-packages/nilearn/decomposition/base.py:219: UserWarning: Persisting input arguments took 1.50s to run.\n",
      "If this happens often in your code, it can cause performance problems \n",
      "(results will be correct in all cases). \n",
      "The reason for this is probably some large input arguments for a wrapped\n",
      " function (e.g. large strings).\n",
      "THIS IS A JOBLIB ISSUE. If you can, kindly provide the joblib's team with an\n",
      " example so that they can fix the problem.\n",
      "  U, S, V = cache(fast_svd, memory,\n"
     ]
    },
    {
     "name": "stdout",
     "output_type": "stream",
     "text": [
      "[MultiNiftiMasker.transform_single_imgs] Loading data from Nifti1Image('/media/2Tb/functional_analysis_jan2021/NeuroMet_fmriprep_conn/data/BIDS/dataset/sub-0038/func/sub-0038_run-01_bold.nii.gz')\n",
      "[MultiNiftiMasker.transform_single_imgs] Smoothing images\n",
      "[MultiNiftiMasker.transform_single_imgs] Extracting region signals\n",
      "[MultiNiftiMasker.transform_single_imgs] Cleaning extracted signals\n"
     ]
    },
    {
     "name": "stderr",
     "output_type": "stream",
     "text": [
      "/home/orco/anaconda3/envs/fmri/lib/python3.8/site-packages/nilearn/decomposition/base.py:219: UserWarning: Persisting input arguments took 1.51s to run.\n",
      "If this happens often in your code, it can cause performance problems \n",
      "(results will be correct in all cases). \n",
      "The reason for this is probably some large input arguments for a wrapped\n",
      " function (e.g. large strings).\n",
      "THIS IS A JOBLIB ISSUE. If you can, kindly provide the joblib's team with an\n",
      " example so that they can fix the problem.\n",
      "  U, S, V = cache(fast_svd, memory,\n"
     ]
    },
    {
     "name": "stdout",
     "output_type": "stream",
     "text": [
      "[MultiNiftiMasker.transform_single_imgs] Loading data from Nifti1Image('/media/2Tb/functional_analysis_jan2021/NeuroMet_fmriprep_conn/data/BIDS/dataset/sub-0090/func/sub-0090_run-01_bold.nii.gz')\n",
      "[MultiNiftiMasker.transform_single_imgs] Smoothing images\n",
      "[MultiNiftiMasker.transform_single_imgs] Extracting region signals\n",
      "[MultiNiftiMasker.transform_single_imgs] Cleaning extracted signals\n"
     ]
    },
    {
     "name": "stderr",
     "output_type": "stream",
     "text": [
      "/home/orco/anaconda3/envs/fmri/lib/python3.8/site-packages/nilearn/decomposition/base.py:219: UserWarning: Persisting input arguments took 1.50s to run.\n",
      "If this happens often in your code, it can cause performance problems \n",
      "(results will be correct in all cases). \n",
      "The reason for this is probably some large input arguments for a wrapped\n",
      " function (e.g. large strings).\n",
      "THIS IS A JOBLIB ISSUE. If you can, kindly provide the joblib's team with an\n",
      " example so that they can fix the problem.\n",
      "  U, S, V = cache(fast_svd, memory,\n"
     ]
    },
    {
     "name": "stdout",
     "output_type": "stream",
     "text": [
      "[MultiNiftiMasker.transform_single_imgs] Loading data from Nifti1Image('/media/2Tb/functional_analysis_jan2021/NeuroMet_fmriprep_conn/data/BIDS/dataset/sub-0079/func/sub-0079_run-01_bold.nii.gz')\n",
      "[MultiNiftiMasker.transform_single_imgs] Smoothing images\n",
      "[MultiNiftiMasker.transform_single_imgs] Extracting region signals\n",
      "[MultiNiftiMasker.transform_single_imgs] Cleaning extracted signals\n"
     ]
    },
    {
     "name": "stderr",
     "output_type": "stream",
     "text": [
      "/home/orco/anaconda3/envs/fmri/lib/python3.8/site-packages/nilearn/decomposition/base.py:219: UserWarning: Persisting input arguments took 1.50s to run.\n",
      "If this happens often in your code, it can cause performance problems \n",
      "(results will be correct in all cases). \n",
      "The reason for this is probably some large input arguments for a wrapped\n",
      " function (e.g. large strings).\n",
      "THIS IS A JOBLIB ISSUE. If you can, kindly provide the joblib's team with an\n",
      " example so that they can fix the problem.\n",
      "  U, S, V = cache(fast_svd, memory,\n"
     ]
    },
    {
     "name": "stdout",
     "output_type": "stream",
     "text": [
      "[MultiNiftiMasker.transform_single_imgs] Loading data from Nifti1Image('/media/2Tb/functional_analysis_jan2021/NeuroMet_fmriprep_conn/data/BIDS/dataset/sub-0012/func/sub-0012_run-01_bold.nii.gz')\n",
      "[MultiNiftiMasker.transform_single_imgs] Smoothing images\n",
      "[MultiNiftiMasker.transform_single_imgs] Extracting region signals\n",
      "[MultiNiftiMasker.transform_single_imgs] Cleaning extracted signals\n"
     ]
    },
    {
     "name": "stderr",
     "output_type": "stream",
     "text": [
      "/home/orco/anaconda3/envs/fmri/lib/python3.8/site-packages/nilearn/decomposition/base.py:219: UserWarning: Persisting input arguments took 1.50s to run.\n",
      "If this happens often in your code, it can cause performance problems \n",
      "(results will be correct in all cases). \n",
      "The reason for this is probably some large input arguments for a wrapped\n",
      " function (e.g. large strings).\n",
      "THIS IS A JOBLIB ISSUE. If you can, kindly provide the joblib's team with an\n",
      " example so that they can fix the problem.\n",
      "  U, S, V = cache(fast_svd, memory,\n"
     ]
    },
    {
     "name": "stdout",
     "output_type": "stream",
     "text": [
      "[MultiNiftiMasker.transform_single_imgs] Loading data from Nifti1Image('/media/2Tb/functional_analysis_jan2021/NeuroMet_fmriprep_conn/data/BIDS/dataset/sub-0037/func/sub-0037_run-01_bold.nii.gz')\n",
      "[MultiNiftiMasker.transform_single_imgs] Smoothing images\n",
      "[MultiNiftiMasker.transform_single_imgs] Extracting region signals\n",
      "[MultiNiftiMasker.transform_single_imgs] Cleaning extracted signals\n"
     ]
    },
    {
     "name": "stderr",
     "output_type": "stream",
     "text": [
      "/home/orco/anaconda3/envs/fmri/lib/python3.8/site-packages/nilearn/decomposition/base.py:219: UserWarning: Persisting input arguments took 1.50s to run.\n",
      "If this happens often in your code, it can cause performance problems \n",
      "(results will be correct in all cases). \n",
      "The reason for this is probably some large input arguments for a wrapped\n",
      " function (e.g. large strings).\n",
      "THIS IS A JOBLIB ISSUE. If you can, kindly provide the joblib's team with an\n",
      " example so that they can fix the problem.\n",
      "  U, S, V = cache(fast_svd, memory,\n"
     ]
    },
    {
     "name": "stdout",
     "output_type": "stream",
     "text": [
      "[MultiNiftiMasker.transform_single_imgs] Loading data from Nifti1Image('/media/2Tb/functional_analysis_jan2021/NeuroMet_fmriprep_conn/data/BIDS/dataset/sub-0073/func/sub-0073_run-01_bold.nii.gz')\n",
      "[MultiNiftiMasker.transform_single_imgs] Smoothing images\n",
      "[MultiNiftiMasker.transform_single_imgs] Extracting region signals\n",
      "[MultiNiftiMasker.transform_single_imgs] Cleaning extracted signals\n"
     ]
    },
    {
     "name": "stderr",
     "output_type": "stream",
     "text": [
      "/home/orco/anaconda3/envs/fmri/lib/python3.8/site-packages/nilearn/decomposition/base.py:219: UserWarning: Persisting input arguments took 1.48s to run.\n",
      "If this happens often in your code, it can cause performance problems \n",
      "(results will be correct in all cases). \n",
      "The reason for this is probably some large input arguments for a wrapped\n",
      " function (e.g. large strings).\n",
      "THIS IS A JOBLIB ISSUE. If you can, kindly provide the joblib's team with an\n",
      " example so that they can fix the problem.\n",
      "  U, S, V = cache(fast_svd, memory,\n"
     ]
    },
    {
     "name": "stdout",
     "output_type": "stream",
     "text": [
      "[MultiNiftiMasker.transform_single_imgs] Loading data from Nifti1Image('/media/2Tb/functional_analysis_jan2021/NeuroMet_fmriprep_conn/data/BIDS/dataset/sub-0095/func/sub-0095_run-01_bold.nii.gz')\n",
      "[MultiNiftiMasker.transform_single_imgs] Smoothing images\n",
      "[MultiNiftiMasker.transform_single_imgs] Extracting region signals\n",
      "[MultiNiftiMasker.transform_single_imgs] Cleaning extracted signals\n"
     ]
    },
    {
     "name": "stderr",
     "output_type": "stream",
     "text": [
      "/home/orco/anaconda3/envs/fmri/lib/python3.8/site-packages/nilearn/decomposition/base.py:219: UserWarning: Persisting input arguments took 1.50s to run.\n",
      "If this happens often in your code, it can cause performance problems \n",
      "(results will be correct in all cases). \n",
      "The reason for this is probably some large input arguments for a wrapped\n",
      " function (e.g. large strings).\n",
      "THIS IS A JOBLIB ISSUE. If you can, kindly provide the joblib's team with an\n",
      " example so that they can fix the problem.\n",
      "  U, S, V = cache(fast_svd, memory,\n"
     ]
    },
    {
     "name": "stdout",
     "output_type": "stream",
     "text": [
      "[MultiNiftiMasker.transform_single_imgs] Loading data from Nifti1Image('/media/2Tb/functional_analysis_jan2021/NeuroMet_fmriprep_conn/data/BIDS/dataset/sub-0076/func/sub-0076_run-01_bold.nii.gz')\n",
      "[MultiNiftiMasker.transform_single_imgs] Smoothing images\n",
      "[MultiNiftiMasker.transform_single_imgs] Extracting region signals\n",
      "[MultiNiftiMasker.transform_single_imgs] Cleaning extracted signals\n"
     ]
    },
    {
     "name": "stderr",
     "output_type": "stream",
     "text": [
      "/home/orco/anaconda3/envs/fmri/lib/python3.8/site-packages/nilearn/decomposition/base.py:219: UserWarning: Persisting input arguments took 1.50s to run.\n",
      "If this happens often in your code, it can cause performance problems \n",
      "(results will be correct in all cases). \n",
      "The reason for this is probably some large input arguments for a wrapped\n",
      " function (e.g. large strings).\n",
      "THIS IS A JOBLIB ISSUE. If you can, kindly provide the joblib's team with an\n",
      " example so that they can fix the problem.\n",
      "  U, S, V = cache(fast_svd, memory,\n"
     ]
    },
    {
     "name": "stdout",
     "output_type": "stream",
     "text": [
      "[MultiNiftiMasker.transform_single_imgs] Loading data from Nifti1Image('/media/2Tb/functional_analysis_jan2021/NeuroMet_fmriprep_conn/data/BIDS/dataset/sub-0091/func/sub-0091_run-01_bold.nii.gz')\n",
      "[MultiNiftiMasker.transform_single_imgs] Smoothing images\n",
      "[MultiNiftiMasker.transform_single_imgs] Extracting region signals\n",
      "[MultiNiftiMasker.transform_single_imgs] Cleaning extracted signals\n"
     ]
    },
    {
     "name": "stderr",
     "output_type": "stream",
     "text": [
      "/home/orco/anaconda3/envs/fmri/lib/python3.8/site-packages/nilearn/decomposition/base.py:219: UserWarning: Persisting input arguments took 1.43s to run.\n",
      "If this happens often in your code, it can cause performance problems \n",
      "(results will be correct in all cases). \n",
      "The reason for this is probably some large input arguments for a wrapped\n",
      " function (e.g. large strings).\n",
      "THIS IS A JOBLIB ISSUE. If you can, kindly provide the joblib's team with an\n",
      " example so that they can fix the problem.\n",
      "  U, S, V = cache(fast_svd, memory,\n"
     ]
    },
    {
     "name": "stdout",
     "output_type": "stream",
     "text": [
      "[MultiNiftiMasker.transform_single_imgs] Loading data from Nifti1Image('/media/2Tb/functional_analysis_jan2021/NeuroMet_fmriprep_conn/data/BIDS/dataset/sub-0096/func/sub-0096_run-01_bold.nii.gz')\n",
      "[MultiNiftiMasker.transform_single_imgs] Smoothing images\n",
      "[MultiNiftiMasker.transform_single_imgs] Extracting region signals\n",
      "[MultiNiftiMasker.transform_single_imgs] Cleaning extracted signals\n"
     ]
    },
    {
     "name": "stderr",
     "output_type": "stream",
     "text": [
      "/home/orco/anaconda3/envs/fmri/lib/python3.8/site-packages/nilearn/decomposition/base.py:219: UserWarning: Persisting input arguments took 1.43s to run.\n",
      "If this happens often in your code, it can cause performance problems \n",
      "(results will be correct in all cases). \n",
      "The reason for this is probably some large input arguments for a wrapped\n",
      " function (e.g. large strings).\n",
      "THIS IS A JOBLIB ISSUE. If you can, kindly provide the joblib's team with an\n",
      " example so that they can fix the problem.\n",
      "  U, S, V = cache(fast_svd, memory,\n"
     ]
    },
    {
     "name": "stdout",
     "output_type": "stream",
     "text": [
      "[MultiNiftiMasker.transform_single_imgs] Loading data from Nifti1Image('/media/2Tb/functional_analysis_jan2021/NeuroMet_fmriprep_conn/data/BIDS/dataset/sub-0048/func/sub-0048_run-01_bold.nii.gz')\n",
      "[MultiNiftiMasker.transform_single_imgs] Smoothing images\n",
      "[MultiNiftiMasker.transform_single_imgs] Extracting region signals\n",
      "[MultiNiftiMasker.transform_single_imgs] Cleaning extracted signals\n"
     ]
    },
    {
     "name": "stderr",
     "output_type": "stream",
     "text": [
      "/home/orco/anaconda3/envs/fmri/lib/python3.8/site-packages/nilearn/decomposition/base.py:219: UserWarning: Persisting input arguments took 1.43s to run.\n",
      "If this happens often in your code, it can cause performance problems \n",
      "(results will be correct in all cases). \n",
      "The reason for this is probably some large input arguments for a wrapped\n",
      " function (e.g. large strings).\n",
      "THIS IS A JOBLIB ISSUE. If you can, kindly provide the joblib's team with an\n",
      " example so that they can fix the problem.\n",
      "  U, S, V = cache(fast_svd, memory,\n"
     ]
    },
    {
     "name": "stdout",
     "output_type": "stream",
     "text": [
      "[MultiNiftiMasker.transform_single_imgs] Loading data from Nifti1Image('/media/2Tb/functional_analysis_jan2021/NeuroMet_fmriprep_conn/data/BIDS/dataset/sub-0069/func/sub-0069_run-01_bold.nii.gz')\n",
      "[MultiNiftiMasker.transform_single_imgs] Smoothing images\n",
      "[MultiNiftiMasker.transform_single_imgs] Extracting region signals\n",
      "[MultiNiftiMasker.transform_single_imgs] Cleaning extracted signals\n"
     ]
    },
    {
     "name": "stderr",
     "output_type": "stream",
     "text": [
      "/home/orco/anaconda3/envs/fmri/lib/python3.8/site-packages/nilearn/decomposition/base.py:219: UserWarning: Persisting input arguments took 1.43s to run.\n",
      "If this happens often in your code, it can cause performance problems \n",
      "(results will be correct in all cases). \n",
      "The reason for this is probably some large input arguments for a wrapped\n",
      " function (e.g. large strings).\n",
      "THIS IS A JOBLIB ISSUE. If you can, kindly provide the joblib's team with an\n",
      " example so that they can fix the problem.\n",
      "  U, S, V = cache(fast_svd, memory,\n"
     ]
    },
    {
     "name": "stdout",
     "output_type": "stream",
     "text": [
      "[MultiNiftiMasker.transform_single_imgs] Loading data from Nifti1Image('/media/2Tb/functional_analysis_jan2021/NeuroMet_fmriprep_conn/data/BIDS/dataset/sub-0061/func/sub-0061_run-01_bold.nii.gz')\n",
      "[MultiNiftiMasker.transform_single_imgs] Smoothing images\n",
      "[MultiNiftiMasker.transform_single_imgs] Extracting region signals\n",
      "[MultiNiftiMasker.transform_single_imgs] Cleaning extracted signals\n"
     ]
    },
    {
     "name": "stderr",
     "output_type": "stream",
     "text": [
      "/home/orco/anaconda3/envs/fmri/lib/python3.8/site-packages/nilearn/decomposition/base.py:219: UserWarning: Persisting input arguments took 1.49s to run.\n",
      "If this happens often in your code, it can cause performance problems \n",
      "(results will be correct in all cases). \n",
      "The reason for this is probably some large input arguments for a wrapped\n",
      " function (e.g. large strings).\n",
      "THIS IS A JOBLIB ISSUE. If you can, kindly provide the joblib's team with an\n",
      " example so that they can fix the problem.\n",
      "  U, S, V = cache(fast_svd, memory,\n"
     ]
    },
    {
     "name": "stdout",
     "output_type": "stream",
     "text": [
      "[MultiNiftiMasker.transform_single_imgs] Loading data from Nifti1Image('/media/2Tb/functional_analysis_jan2021/NeuroMet_fmriprep_conn/data/BIDS/dataset/sub-0034/func/sub-0034_run-01_bold.nii.gz')\n",
      "[MultiNiftiMasker.transform_single_imgs] Smoothing images\n",
      "[MultiNiftiMasker.transform_single_imgs] Extracting region signals\n",
      "[MultiNiftiMasker.transform_single_imgs] Cleaning extracted signals\n"
     ]
    },
    {
     "name": "stderr",
     "output_type": "stream",
     "text": [
      "/home/orco/anaconda3/envs/fmri/lib/python3.8/site-packages/nilearn/decomposition/base.py:219: UserWarning: Persisting input arguments took 1.50s to run.\n",
      "If this happens often in your code, it can cause performance problems \n",
      "(results will be correct in all cases). \n",
      "The reason for this is probably some large input arguments for a wrapped\n",
      " function (e.g. large strings).\n",
      "THIS IS A JOBLIB ISSUE. If you can, kindly provide the joblib's team with an\n",
      " example so that they can fix the problem.\n",
      "  U, S, V = cache(fast_svd, memory,\n"
     ]
    },
    {
     "name": "stdout",
     "output_type": "stream",
     "text": [
      "[MultiNiftiMasker.transform_single_imgs] Loading data from Nifti1Image('/media/2Tb/functional_analysis_jan2021/NeuroMet_fmriprep_conn/data/BIDS/dataset/sub-0088/func/sub-0088_run-01_bold.nii.gz')\n",
      "[MultiNiftiMasker.transform_single_imgs] Smoothing images\n",
      "[MultiNiftiMasker.transform_single_imgs] Extracting region signals\n",
      "[MultiNiftiMasker.transform_single_imgs] Cleaning extracted signals\n"
     ]
    },
    {
     "name": "stderr",
     "output_type": "stream",
     "text": [
      "/home/orco/anaconda3/envs/fmri/lib/python3.8/site-packages/nilearn/decomposition/base.py:219: UserWarning: Persisting input arguments took 1.50s to run.\n",
      "If this happens often in your code, it can cause performance problems \n",
      "(results will be correct in all cases). \n",
      "The reason for this is probably some large input arguments for a wrapped\n",
      " function (e.g. large strings).\n",
      "THIS IS A JOBLIB ISSUE. If you can, kindly provide the joblib's team with an\n",
      " example so that they can fix the problem.\n",
      "  U, S, V = cache(fast_svd, memory,\n"
     ]
    },
    {
     "name": "stdout",
     "output_type": "stream",
     "text": [
      "[MultiNiftiMasker.transform_single_imgs] Loading data from Nifti1Image('/media/2Tb/functional_analysis_jan2021/NeuroMet_fmriprep_conn/data/BIDS/dataset/sub-0025/func/sub-0025_run-01_bold.nii.gz')\n",
      "[MultiNiftiMasker.transform_single_imgs] Smoothing images\n",
      "[MultiNiftiMasker.transform_single_imgs] Extracting region signals\n",
      "[MultiNiftiMasker.transform_single_imgs] Cleaning extracted signals\n"
     ]
    },
    {
     "name": "stderr",
     "output_type": "stream",
     "text": [
      "/home/orco/anaconda3/envs/fmri/lib/python3.8/site-packages/nilearn/decomposition/base.py:219: UserWarning: Persisting input arguments took 1.50s to run.\n",
      "If this happens often in your code, it can cause performance problems \n",
      "(results will be correct in all cases). \n",
      "The reason for this is probably some large input arguments for a wrapped\n",
      " function (e.g. large strings).\n",
      "THIS IS A JOBLIB ISSUE. If you can, kindly provide the joblib's team with an\n",
      " example so that they can fix the problem.\n",
      "  U, S, V = cache(fast_svd, memory,\n"
     ]
    },
    {
     "name": "stdout",
     "output_type": "stream",
     "text": [
      "[MultiNiftiMasker.transform_single_imgs] Loading data from Nifti1Image('/media/2Tb/functional_analysis_jan2021/NeuroMet_fmriprep_conn/data/BIDS/dataset/sub-0050/func/sub-0050_run-01_bold.nii.gz')\n",
      "[MultiNiftiMasker.transform_single_imgs] Smoothing images\n",
      "[MultiNiftiMasker.transform_single_imgs] Extracting region signals\n",
      "[MultiNiftiMasker.transform_single_imgs] Cleaning extracted signals\n"
     ]
    },
    {
     "name": "stderr",
     "output_type": "stream",
     "text": [
      "/home/orco/anaconda3/envs/fmri/lib/python3.8/site-packages/nilearn/decomposition/base.py:219: UserWarning: Persisting input arguments took 1.48s to run.\n",
      "If this happens often in your code, it can cause performance problems \n",
      "(results will be correct in all cases). \n",
      "The reason for this is probably some large input arguments for a wrapped\n",
      " function (e.g. large strings).\n",
      "THIS IS A JOBLIB ISSUE. If you can, kindly provide the joblib's team with an\n",
      " example so that they can fix the problem.\n",
      "  U, S, V = cache(fast_svd, memory,\n"
     ]
    },
    {
     "name": "stdout",
     "output_type": "stream",
     "text": [
      "[MultiNiftiMasker.transform_single_imgs] Loading data from Nifti1Image('/media/2Tb/functional_analysis_jan2021/NeuroMet_fmriprep_conn/data/BIDS/dataset/sub-0013/func/sub-0013_run-01_bold.nii.gz')\n",
      "[MultiNiftiMasker.transform_single_imgs] Smoothing images\n",
      "[MultiNiftiMasker.transform_single_imgs] Extracting region signals\n",
      "[MultiNiftiMasker.transform_single_imgs] Cleaning extracted signals\n"
     ]
    },
    {
     "name": "stderr",
     "output_type": "stream",
     "text": [
      "/home/orco/anaconda3/envs/fmri/lib/python3.8/site-packages/nilearn/decomposition/base.py:219: UserWarning: Persisting input arguments took 1.50s to run.\n",
      "If this happens often in your code, it can cause performance problems \n",
      "(results will be correct in all cases). \n",
      "The reason for this is probably some large input arguments for a wrapped\n",
      " function (e.g. large strings).\n",
      "THIS IS A JOBLIB ISSUE. If you can, kindly provide the joblib's team with an\n",
      " example so that they can fix the problem.\n",
      "  U, S, V = cache(fast_svd, memory,\n"
     ]
    },
    {
     "name": "stdout",
     "output_type": "stream",
     "text": [
      "[MultiNiftiMasker.transform_single_imgs] Loading data from Nifti1Image('/media/2Tb/functional_analysis_jan2021/NeuroMet_fmriprep_conn/data/BIDS/dataset/sub-0017/func/sub-0017_run-01_bold.nii.gz')\n",
      "[MultiNiftiMasker.transform_single_imgs] Smoothing images\n",
      "[MultiNiftiMasker.transform_single_imgs] Extracting region signals\n",
      "[MultiNiftiMasker.transform_single_imgs] Cleaning extracted signals\n"
     ]
    },
    {
     "name": "stderr",
     "output_type": "stream",
     "text": [
      "/home/orco/anaconda3/envs/fmri/lib/python3.8/site-packages/nilearn/decomposition/base.py:219: UserWarning: Persisting input arguments took 1.50s to run.\n",
      "If this happens often in your code, it can cause performance problems \n",
      "(results will be correct in all cases). \n",
      "The reason for this is probably some large input arguments for a wrapped\n",
      " function (e.g. large strings).\n",
      "THIS IS A JOBLIB ISSUE. If you can, kindly provide the joblib's team with an\n",
      " example so that they can fix the problem.\n",
      "  U, S, V = cache(fast_svd, memory,\n"
     ]
    },
    {
     "name": "stdout",
     "output_type": "stream",
     "text": [
      "[MultiNiftiMasker.transform_single_imgs] Loading data from Nifti1Image('/media/2Tb/functional_analysis_jan2021/NeuroMet_fmriprep_conn/data/BIDS/dataset/sub-0016/func/sub-0016_run-01_bold.nii.gz')\n",
      "[MultiNiftiMasker.transform_single_imgs] Smoothing images\n",
      "[MultiNiftiMasker.transform_single_imgs] Extracting region signals\n",
      "[MultiNiftiMasker.transform_single_imgs] Cleaning extracted signals\n"
     ]
    },
    {
     "name": "stderr",
     "output_type": "stream",
     "text": [
      "/home/orco/anaconda3/envs/fmri/lib/python3.8/site-packages/nilearn/decomposition/base.py:219: UserWarning: Persisting input arguments took 1.50s to run.\n",
      "If this happens often in your code, it can cause performance problems \n",
      "(results will be correct in all cases). \n",
      "The reason for this is probably some large input arguments for a wrapped\n",
      " function (e.g. large strings).\n",
      "THIS IS A JOBLIB ISSUE. If you can, kindly provide the joblib's team with an\n",
      " example so that they can fix the problem.\n",
      "  U, S, V = cache(fast_svd, memory,\n"
     ]
    },
    {
     "name": "stdout",
     "output_type": "stream",
     "text": [
      "[MultiNiftiMasker.transform_single_imgs] Loading data from Nifti1Image('/media/2Tb/functional_analysis_jan2021/NeuroMet_fmriprep_conn/data/BIDS/dataset/sub-0074/func/sub-0074_run-01_bold.nii.gz')\n",
      "[MultiNiftiMasker.transform_single_imgs] Smoothing images\n",
      "[MultiNiftiMasker.transform_single_imgs] Extracting region signals\n",
      "[MultiNiftiMasker.transform_single_imgs] Cleaning extracted signals\n"
     ]
    },
    {
     "name": "stderr",
     "output_type": "stream",
     "text": [
      "/home/orco/anaconda3/envs/fmri/lib/python3.8/site-packages/nilearn/decomposition/base.py:219: UserWarning: Persisting input arguments took 1.49s to run.\n",
      "If this happens often in your code, it can cause performance problems \n",
      "(results will be correct in all cases). \n",
      "The reason for this is probably some large input arguments for a wrapped\n",
      " function (e.g. large strings).\n",
      "THIS IS A JOBLIB ISSUE. If you can, kindly provide the joblib's team with an\n",
      " example so that they can fix the problem.\n",
      "  U, S, V = cache(fast_svd, memory,\n"
     ]
    },
    {
     "name": "stdout",
     "output_type": "stream",
     "text": [
      "[MultiNiftiMasker.transform_single_imgs] Loading data from Nifti1Image('/media/2Tb/functional_analysis_jan2021/NeuroMet_fmriprep_conn/data/BIDS/dataset/sub-0015/func/sub-0015_run-01_bold.nii.gz')\n",
      "[MultiNiftiMasker.transform_single_imgs] Smoothing images\n",
      "[MultiNiftiMasker.transform_single_imgs] Extracting region signals\n",
      "[MultiNiftiMasker.transform_single_imgs] Cleaning extracted signals\n"
     ]
    },
    {
     "name": "stderr",
     "output_type": "stream",
     "text": [
      "/home/orco/anaconda3/envs/fmri/lib/python3.8/site-packages/nilearn/decomposition/base.py:219: UserWarning: Persisting input arguments took 1.50s to run.\n",
      "If this happens often in your code, it can cause performance problems \n",
      "(results will be correct in all cases). \n",
      "The reason for this is probably some large input arguments for a wrapped\n",
      " function (e.g. large strings).\n",
      "THIS IS A JOBLIB ISSUE. If you can, kindly provide the joblib's team with an\n",
      " example so that they can fix the problem.\n",
      "  U, S, V = cache(fast_svd, memory,\n"
     ]
    },
    {
     "name": "stdout",
     "output_type": "stream",
     "text": [
      "[MultiNiftiMasker.transform_single_imgs] Loading data from Nifti1Image('/media/2Tb/functional_analysis_jan2021/NeuroMet_fmriprep_conn/data/BIDS/dataset/sub-0009/func/sub-0009_run-01_bold.nii.gz')\n",
      "[MultiNiftiMasker.transform_single_imgs] Smoothing images\n",
      "[MultiNiftiMasker.transform_single_imgs] Extracting region signals\n",
      "[MultiNiftiMasker.transform_single_imgs] Cleaning extracted signals\n"
     ]
    },
    {
     "name": "stderr",
     "output_type": "stream",
     "text": [
      "/home/orco/anaconda3/envs/fmri/lib/python3.8/site-packages/nilearn/decomposition/base.py:219: UserWarning: Persisting input arguments took 1.50s to run.\n",
      "If this happens often in your code, it can cause performance problems \n",
      "(results will be correct in all cases). \n",
      "The reason for this is probably some large input arguments for a wrapped\n",
      " function (e.g. large strings).\n",
      "THIS IS A JOBLIB ISSUE. If you can, kindly provide the joblib's team with an\n",
      " example so that they can fix the problem.\n",
      "  U, S, V = cache(fast_svd, memory,\n"
     ]
    },
    {
     "name": "stdout",
     "output_type": "stream",
     "text": [
      "[MultiNiftiMasker.transform_single_imgs] Loading data from Nifti1Image('/media/2Tb/functional_analysis_jan2021/NeuroMet_fmriprep_conn/data/BIDS/dataset/sub-0093/func/sub-0093_run-01_bold.nii.gz')\n",
      "[MultiNiftiMasker.transform_single_imgs] Smoothing images\n",
      "[MultiNiftiMasker.transform_single_imgs] Extracting region signals\n",
      "[MultiNiftiMasker.transform_single_imgs] Cleaning extracted signals\n"
     ]
    },
    {
     "name": "stderr",
     "output_type": "stream",
     "text": [
      "/home/orco/anaconda3/envs/fmri/lib/python3.8/site-packages/nilearn/decomposition/base.py:219: UserWarning: Persisting input arguments took 1.50s to run.\n",
      "If this happens often in your code, it can cause performance problems \n",
      "(results will be correct in all cases). \n",
      "The reason for this is probably some large input arguments for a wrapped\n",
      " function (e.g. large strings).\n",
      "THIS IS A JOBLIB ISSUE. If you can, kindly provide the joblib's team with an\n",
      " example so that they can fix the problem.\n",
      "  U, S, V = cache(fast_svd, memory,\n"
     ]
    },
    {
     "name": "stdout",
     "output_type": "stream",
     "text": [
      "[MultiNiftiMasker.transform_single_imgs] Loading data from Nifti1Image('/media/2Tb/functional_analysis_jan2021/NeuroMet_fmriprep_conn/data/BIDS/dataset/sub-0039/func/sub-0039_run-01_bold.nii.gz')\n",
      "[MultiNiftiMasker.transform_single_imgs] Smoothing images\n",
      "[MultiNiftiMasker.transform_single_imgs] Extracting region signals\n",
      "[MultiNiftiMasker.transform_single_imgs] Cleaning extracted signals\n"
     ]
    },
    {
     "name": "stderr",
     "output_type": "stream",
     "text": [
      "/home/orco/anaconda3/envs/fmri/lib/python3.8/site-packages/nilearn/decomposition/base.py:219: UserWarning: Persisting input arguments took 1.50s to run.\n",
      "If this happens often in your code, it can cause performance problems \n",
      "(results will be correct in all cases). \n",
      "The reason for this is probably some large input arguments for a wrapped\n",
      " function (e.g. large strings).\n",
      "THIS IS A JOBLIB ISSUE. If you can, kindly provide the joblib's team with an\n",
      " example so that they can fix the problem.\n",
      "  U, S, V = cache(fast_svd, memory,\n"
     ]
    },
    {
     "name": "stdout",
     "output_type": "stream",
     "text": [
      "[MultiNiftiMasker.transform_single_imgs] Loading data from Nifti1Image('/media/2Tb/functional_analysis_jan2021/NeuroMet_fmriprep_conn/data/BIDS/dataset/sub-0018/func/sub-0018_run-01_bold.nii.gz')\n",
      "[MultiNiftiMasker.transform_single_imgs] Smoothing images\n",
      "[MultiNiftiMasker.transform_single_imgs] Extracting region signals\n",
      "[MultiNiftiMasker.transform_single_imgs] Cleaning extracted signals\n"
     ]
    },
    {
     "name": "stderr",
     "output_type": "stream",
     "text": [
      "/home/orco/anaconda3/envs/fmri/lib/python3.8/site-packages/nilearn/decomposition/base.py:219: UserWarning: Persisting input arguments took 1.43s to run.\n",
      "If this happens often in your code, it can cause performance problems \n",
      "(results will be correct in all cases). \n",
      "The reason for this is probably some large input arguments for a wrapped\n",
      " function (e.g. large strings).\n",
      "THIS IS A JOBLIB ISSUE. If you can, kindly provide the joblib's team with an\n",
      " example so that they can fix the problem.\n",
      "  U, S, V = cache(fast_svd, memory,\n"
     ]
    },
    {
     "name": "stdout",
     "output_type": "stream",
     "text": [
      "[MultiNiftiMasker.transform_single_imgs] Loading data from Nifti1Image('/media/2Tb/functional_analysis_jan2021/NeuroMet_fmriprep_conn/data/BIDS/dataset/sub-0042/func/sub-0042_run-01_bold.nii.gz')\n",
      "[MultiNiftiMasker.transform_single_imgs] Smoothing images\n",
      "[MultiNiftiMasker.transform_single_imgs] Extracting region signals\n",
      "[MultiNiftiMasker.transform_single_imgs] Cleaning extracted signals\n"
     ]
    },
    {
     "name": "stderr",
     "output_type": "stream",
     "text": [
      "/home/orco/anaconda3/envs/fmri/lib/python3.8/site-packages/nilearn/decomposition/base.py:219: UserWarning: Persisting input arguments took 1.42s to run.\n",
      "If this happens often in your code, it can cause performance problems \n",
      "(results will be correct in all cases). \n",
      "The reason for this is probably some large input arguments for a wrapped\n",
      " function (e.g. large strings).\n",
      "THIS IS A JOBLIB ISSUE. If you can, kindly provide the joblib's team with an\n",
      " example so that they can fix the problem.\n",
      "  U, S, V = cache(fast_svd, memory,\n"
     ]
    },
    {
     "name": "stdout",
     "output_type": "stream",
     "text": [
      "[MultiNiftiMasker.transform_single_imgs] Loading data from Nifti1Image('/media/2Tb/functional_analysis_jan2021/NeuroMet_fmriprep_conn/data/BIDS/dataset/sub-0055/func/sub-0055_run-01_bold.nii.gz')\n",
      "[MultiNiftiMasker.transform_single_imgs] Smoothing images\n",
      "[MultiNiftiMasker.transform_single_imgs] Extracting region signals\n",
      "[MultiNiftiMasker.transform_single_imgs] Cleaning extracted signals\n"
     ]
    },
    {
     "name": "stderr",
     "output_type": "stream",
     "text": [
      "/home/orco/anaconda3/envs/fmri/lib/python3.8/site-packages/nilearn/decomposition/base.py:219: UserWarning: Persisting input arguments took 1.44s to run.\n",
      "If this happens often in your code, it can cause performance problems \n",
      "(results will be correct in all cases). \n",
      "The reason for this is probably some large input arguments for a wrapped\n",
      " function (e.g. large strings).\n",
      "THIS IS A JOBLIB ISSUE. If you can, kindly provide the joblib's team with an\n",
      " example so that they can fix the problem.\n",
      "  U, S, V = cache(fast_svd, memory,\n"
     ]
    },
    {
     "name": "stdout",
     "output_type": "stream",
     "text": [
      "[MultiNiftiMasker.transform_single_imgs] Loading data from Nifti1Image('/media/2Tb/functional_analysis_jan2021/NeuroMet_fmriprep_conn/data/BIDS/dataset/sub-0092/func/sub-0092_run-01_bold.nii.gz')\n",
      "[MultiNiftiMasker.transform_single_imgs] Smoothing images\n",
      "[MultiNiftiMasker.transform_single_imgs] Extracting region signals\n",
      "[MultiNiftiMasker.transform_single_imgs] Cleaning extracted signals\n"
     ]
    },
    {
     "name": "stderr",
     "output_type": "stream",
     "text": [
      "/home/orco/anaconda3/envs/fmri/lib/python3.8/site-packages/nilearn/decomposition/base.py:219: UserWarning: Persisting input arguments took 1.42s to run.\n",
      "If this happens often in your code, it can cause performance problems \n",
      "(results will be correct in all cases). \n",
      "The reason for this is probably some large input arguments for a wrapped\n",
      " function (e.g. large strings).\n",
      "THIS IS A JOBLIB ISSUE. If you can, kindly provide the joblib's team with an\n",
      " example so that they can fix the problem.\n",
      "  U, S, V = cache(fast_svd, memory,\n"
     ]
    },
    {
     "name": "stdout",
     "output_type": "stream",
     "text": [
      "[MultiNiftiMasker.transform_single_imgs] Loading data from Nifti1Image('/media/2Tb/functional_analysis_jan2021/NeuroMet_fmriprep_conn/data/BIDS/dataset/sub-0064/func/sub-0064_run-01_bold.nii.gz')\n",
      "[MultiNiftiMasker.transform_single_imgs] Smoothing images\n",
      "[MultiNiftiMasker.transform_single_imgs] Extracting region signals\n",
      "[MultiNiftiMasker.transform_single_imgs] Cleaning extracted signals\n"
     ]
    },
    {
     "name": "stderr",
     "output_type": "stream",
     "text": [
      "/home/orco/anaconda3/envs/fmri/lib/python3.8/site-packages/nilearn/decomposition/base.py:219: UserWarning: Persisting input arguments took 1.50s to run.\n",
      "If this happens often in your code, it can cause performance problems \n",
      "(results will be correct in all cases). \n",
      "The reason for this is probably some large input arguments for a wrapped\n",
      " function (e.g. large strings).\n",
      "THIS IS A JOBLIB ISSUE. If you can, kindly provide the joblib's team with an\n",
      " example so that they can fix the problem.\n",
      "  U, S, V = cache(fast_svd, memory,\n"
     ]
    },
    {
     "name": "stdout",
     "output_type": "stream",
     "text": [
      "[MultiNiftiMasker.transform_single_imgs] Loading data from Nifti1Image('/media/2Tb/functional_analysis_jan2021/NeuroMet_fmriprep_conn/data/BIDS/dataset/sub-0089/func/sub-0089_run-01_bold.nii.gz')\n",
      "[MultiNiftiMasker.transform_single_imgs] Smoothing images\n",
      "[MultiNiftiMasker.transform_single_imgs] Extracting region signals\n",
      "[MultiNiftiMasker.transform_single_imgs] Cleaning extracted signals\n"
     ]
    },
    {
     "name": "stderr",
     "output_type": "stream",
     "text": [
      "/home/orco/anaconda3/envs/fmri/lib/python3.8/site-packages/nilearn/decomposition/base.py:219: UserWarning: Persisting input arguments took 1.50s to run.\n",
      "If this happens often in your code, it can cause performance problems \n",
      "(results will be correct in all cases). \n",
      "The reason for this is probably some large input arguments for a wrapped\n",
      " function (e.g. large strings).\n",
      "THIS IS A JOBLIB ISSUE. If you can, kindly provide the joblib's team with an\n",
      " example so that they can fix the problem.\n",
      "  U, S, V = cache(fast_svd, memory,\n"
     ]
    },
    {
     "name": "stdout",
     "output_type": "stream",
     "text": [
      "[MultiNiftiMasker.transform_single_imgs] Loading data from Nifti1Image('/media/2Tb/functional_analysis_jan2021/NeuroMet_fmriprep_conn/data/BIDS/dataset/sub-0094/func/sub-0094_run-01_bold.nii.gz')\n",
      "[MultiNiftiMasker.transform_single_imgs] Smoothing images\n",
      "[MultiNiftiMasker.transform_single_imgs] Extracting region signals\n",
      "[MultiNiftiMasker.transform_single_imgs] Cleaning extracted signals\n"
     ]
    },
    {
     "name": "stderr",
     "output_type": "stream",
     "text": [
      "/home/orco/anaconda3/envs/fmri/lib/python3.8/site-packages/nilearn/decomposition/base.py:219: UserWarning: Persisting input arguments took 1.50s to run.\n",
      "If this happens often in your code, it can cause performance problems \n",
      "(results will be correct in all cases). \n",
      "The reason for this is probably some large input arguments for a wrapped\n",
      " function (e.g. large strings).\n",
      "THIS IS A JOBLIB ISSUE. If you can, kindly provide the joblib's team with an\n",
      " example so that they can fix the problem.\n",
      "  U, S, V = cache(fast_svd, memory,\n"
     ]
    },
    {
     "name": "stdout",
     "output_type": "stream",
     "text": [
      "[MultiNiftiMasker.transform_single_imgs] Loading data from Nifti1Image('/media/2Tb/functional_analysis_jan2021/NeuroMet_fmriprep_conn/data/BIDS/dataset/sub-0007/func/sub-0007_run-01_bold.nii.gz')\n",
      "[MultiNiftiMasker.transform_single_imgs] Smoothing images\n",
      "[MultiNiftiMasker.transform_single_imgs] Extracting region signals\n",
      "[MultiNiftiMasker.transform_single_imgs] Cleaning extracted signals\n"
     ]
    },
    {
     "name": "stderr",
     "output_type": "stream",
     "text": [
      "/home/orco/anaconda3/envs/fmri/lib/python3.8/site-packages/nilearn/decomposition/base.py:219: UserWarning: Persisting input arguments took 1.50s to run.\n",
      "If this happens often in your code, it can cause performance problems \n",
      "(results will be correct in all cases). \n",
      "The reason for this is probably some large input arguments for a wrapped\n",
      " function (e.g. large strings).\n",
      "THIS IS A JOBLIB ISSUE. If you can, kindly provide the joblib's team with an\n",
      " example so that they can fix the problem.\n",
      "  U, S, V = cache(fast_svd, memory,\n"
     ]
    },
    {
     "name": "stdout",
     "output_type": "stream",
     "text": [
      "[MultiNiftiMasker.transform_single_imgs] Loading data from Nifti1Image('/media/2Tb/functional_analysis_jan2021/NeuroMet_fmriprep_conn/data/BIDS/dataset/sub-0080/func/sub-0080_run-01_bold.nii.gz')\n",
      "[MultiNiftiMasker.transform_single_imgs] Smoothing images\n",
      "[MultiNiftiMasker.transform_single_imgs] Extracting region signals\n",
      "[MultiNiftiMasker.transform_single_imgs] Cleaning extracted signals\n"
     ]
    },
    {
     "name": "stderr",
     "output_type": "stream",
     "text": [
      "/home/orco/anaconda3/envs/fmri/lib/python3.8/site-packages/nilearn/decomposition/base.py:219: UserWarning: Persisting input arguments took 1.50s to run.\n",
      "If this happens often in your code, it can cause performance problems \n",
      "(results will be correct in all cases). \n",
      "The reason for this is probably some large input arguments for a wrapped\n",
      " function (e.g. large strings).\n",
      "THIS IS A JOBLIB ISSUE. If you can, kindly provide the joblib's team with an\n",
      " example so that they can fix the problem.\n",
      "  U, S, V = cache(fast_svd, memory,\n"
     ]
    },
    {
     "name": "stdout",
     "output_type": "stream",
     "text": [
      "[MultiNiftiMasker.transform_single_imgs] Loading data from Nifti1Image('/media/2Tb/functional_analysis_jan2021/NeuroMet_fmriprep_conn/data/BIDS/dataset/sub-0062/func/sub-0062_run-01_bold.nii.gz')\n",
      "[MultiNiftiMasker.transform_single_imgs] Smoothing images\n",
      "[MultiNiftiMasker.transform_single_imgs] Extracting region signals\n",
      "[MultiNiftiMasker.transform_single_imgs] Cleaning extracted signals\n"
     ]
    },
    {
     "name": "stderr",
     "output_type": "stream",
     "text": [
      "/home/orco/anaconda3/envs/fmri/lib/python3.8/site-packages/nilearn/decomposition/base.py:219: UserWarning: Persisting input arguments took 1.50s to run.\n",
      "If this happens often in your code, it can cause performance problems \n",
      "(results will be correct in all cases). \n",
      "The reason for this is probably some large input arguments for a wrapped\n",
      " function (e.g. large strings).\n",
      "THIS IS A JOBLIB ISSUE. If you can, kindly provide the joblib's team with an\n",
      " example so that they can fix the problem.\n",
      "  U, S, V = cache(fast_svd, memory,\n"
     ]
    },
    {
     "name": "stdout",
     "output_type": "stream",
     "text": [
      "[MultiNiftiMasker.transform_single_imgs] Loading data from Nifti1Image('/media/2Tb/functional_analysis_jan2021/NeuroMet_fmriprep_conn/data/BIDS/dataset/sub-0081/func/sub-0081_run-01_bold.nii.gz')\n",
      "[MultiNiftiMasker.transform_single_imgs] Smoothing images\n",
      "[MultiNiftiMasker.transform_single_imgs] Extracting region signals\n",
      "[MultiNiftiMasker.transform_single_imgs] Cleaning extracted signals\n"
     ]
    },
    {
     "name": "stderr",
     "output_type": "stream",
     "text": [
      "/home/orco/anaconda3/envs/fmri/lib/python3.8/site-packages/nilearn/decomposition/base.py:219: UserWarning: Persisting input arguments took 1.49s to run.\n",
      "If this happens often in your code, it can cause performance problems \n",
      "(results will be correct in all cases). \n",
      "The reason for this is probably some large input arguments for a wrapped\n",
      " function (e.g. large strings).\n",
      "THIS IS A JOBLIB ISSUE. If you can, kindly provide the joblib's team with an\n",
      " example so that they can fix the problem.\n",
      "  U, S, V = cache(fast_svd, memory,\n"
     ]
    },
    {
     "name": "stdout",
     "output_type": "stream",
     "text": [
      "[MultiNiftiMasker.transform_single_imgs] Loading data from Nifti1Image('/media/2Tb/functional_analysis_jan2021/NeuroMet_fmriprep_conn/data/BIDS/dataset/sub-0031/func/sub-0031_run-01_bold.nii.gz')\n",
      "[MultiNiftiMasker.transform_single_imgs] Smoothing images\n",
      "[MultiNiftiMasker.transform_single_imgs] Extracting region signals\n",
      "[MultiNiftiMasker.transform_single_imgs] Cleaning extracted signals\n"
     ]
    },
    {
     "name": "stderr",
     "output_type": "stream",
     "text": [
      "/home/orco/anaconda3/envs/fmri/lib/python3.8/site-packages/nilearn/decomposition/base.py:219: UserWarning: Persisting input arguments took 1.50s to run.\n",
      "If this happens often in your code, it can cause performance problems \n",
      "(results will be correct in all cases). \n",
      "The reason for this is probably some large input arguments for a wrapped\n",
      " function (e.g. large strings).\n",
      "THIS IS A JOBLIB ISSUE. If you can, kindly provide the joblib's team with an\n",
      " example so that they can fix the problem.\n",
      "  U, S, V = cache(fast_svd, memory,\n"
     ]
    },
    {
     "name": "stdout",
     "output_type": "stream",
     "text": [
      "[MultiNiftiMasker.transform_single_imgs] Loading data from Nifti1Image('/media/2Tb/functional_analysis_jan2021/NeuroMet_fmriprep_conn/data/BIDS/dataset/sub-0097/func/sub-0097_run-01_bold.nii.gz')\n",
      "[MultiNiftiMasker.transform_single_imgs] Smoothing images\n",
      "[MultiNiftiMasker.transform_single_imgs] Extracting region signals\n",
      "[MultiNiftiMasker.transform_single_imgs] Cleaning extracted signals\n"
     ]
    },
    {
     "name": "stderr",
     "output_type": "stream",
     "text": [
      "/home/orco/anaconda3/envs/fmri/lib/python3.8/site-packages/nilearn/decomposition/base.py:219: UserWarning: Persisting input arguments took 1.50s to run.\n",
      "If this happens often in your code, it can cause performance problems \n",
      "(results will be correct in all cases). \n",
      "The reason for this is probably some large input arguments for a wrapped\n",
      " function (e.g. large strings).\n",
      "THIS IS A JOBLIB ISSUE. If you can, kindly provide the joblib's team with an\n",
      " example so that they can fix the problem.\n",
      "  U, S, V = cache(fast_svd, memory,\n"
     ]
    },
    {
     "name": "stdout",
     "output_type": "stream",
     "text": [
      "[MultiNiftiMasker.transform_single_imgs] Loading data from Nifti1Image('/media/2Tb/functional_analysis_jan2021/NeuroMet_fmriprep_conn/data/BIDS/dataset/sub-0011/func/sub-0011_run-01_bold.nii.gz')\n",
      "[MultiNiftiMasker.transform_single_imgs] Smoothing images\n",
      "[MultiNiftiMasker.transform_single_imgs] Extracting region signals\n",
      "[MultiNiftiMasker.transform_single_imgs] Cleaning extracted signals\n"
     ]
    },
    {
     "name": "stderr",
     "output_type": "stream",
     "text": [
      "/home/orco/anaconda3/envs/fmri/lib/python3.8/site-packages/nilearn/decomposition/base.py:219: UserWarning: Persisting input arguments took 1.50s to run.\n",
      "If this happens often in your code, it can cause performance problems \n",
      "(results will be correct in all cases). \n",
      "The reason for this is probably some large input arguments for a wrapped\n",
      " function (e.g. large strings).\n",
      "THIS IS A JOBLIB ISSUE. If you can, kindly provide the joblib's team with an\n",
      " example so that they can fix the problem.\n",
      "  U, S, V = cache(fast_svd, memory,\n"
     ]
    },
    {
     "name": "stdout",
     "output_type": "stream",
     "text": [
      "[MultiNiftiMasker.transform_single_imgs] Loading data from Nifti1Image('/media/2Tb/functional_analysis_jan2021/NeuroMet_fmriprep_conn/data/BIDS/dataset/sub-0020/func/sub-0020_run-01_bold.nii.gz')\n",
      "[MultiNiftiMasker.transform_single_imgs] Smoothing images\n",
      "[MultiNiftiMasker.transform_single_imgs] Extracting region signals\n",
      "[MultiNiftiMasker.transform_single_imgs] Cleaning extracted signals\n"
     ]
    },
    {
     "name": "stderr",
     "output_type": "stream",
     "text": [
      "/home/orco/anaconda3/envs/fmri/lib/python3.8/site-packages/nilearn/decomposition/base.py:219: UserWarning: Persisting input arguments took 1.50s to run.\n",
      "If this happens often in your code, it can cause performance problems \n",
      "(results will be correct in all cases). \n",
      "The reason for this is probably some large input arguments for a wrapped\n",
      " function (e.g. large strings).\n",
      "THIS IS A JOBLIB ISSUE. If you can, kindly provide the joblib's team with an\n",
      " example so that they can fix the problem.\n",
      "  U, S, V = cache(fast_svd, memory,\n"
     ]
    },
    {
     "name": "stdout",
     "output_type": "stream",
     "text": [
      "[MultiNiftiMasker.transform_single_imgs] Loading data from Nifti1Image('/media/2Tb/functional_analysis_jan2021/NeuroMet_fmriprep_conn/data/BIDS/dataset/sub-0071/func/sub-0071_run-01_bold.nii.gz')\n",
      "[MultiNiftiMasker.transform_single_imgs] Smoothing images\n",
      "[MultiNiftiMasker.transform_single_imgs] Extracting region signals\n",
      "[MultiNiftiMasker.transform_single_imgs] Cleaning extracted signals\n"
     ]
    },
    {
     "name": "stderr",
     "output_type": "stream",
     "text": [
      "/home/orco/anaconda3/envs/fmri/lib/python3.8/site-packages/nilearn/decomposition/base.py:219: UserWarning: Persisting input arguments took 1.50s to run.\n",
      "If this happens often in your code, it can cause performance problems \n",
      "(results will be correct in all cases). \n",
      "The reason for this is probably some large input arguments for a wrapped\n",
      " function (e.g. large strings).\n",
      "THIS IS A JOBLIB ISSUE. If you can, kindly provide the joblib's team with an\n",
      " example so that they can fix the problem.\n",
      "  U, S, V = cache(fast_svd, memory,\n"
     ]
    },
    {
     "name": "stdout",
     "output_type": "stream",
     "text": [
      "[MultiNiftiMasker.transform_single_imgs] Loading data from Nifti1Image('/media/2Tb/functional_analysis_jan2021/NeuroMet_fmriprep_conn/data/BIDS/dataset/sub-0075/func/sub-0075_run-01_bold.nii.gz')\n",
      "[MultiNiftiMasker.transform_single_imgs] Smoothing images\n",
      "[MultiNiftiMasker.transform_single_imgs] Extracting region signals\n",
      "[MultiNiftiMasker.transform_single_imgs] Cleaning extracted signals\n"
     ]
    },
    {
     "name": "stderr",
     "output_type": "stream",
     "text": [
      "/home/orco/anaconda3/envs/fmri/lib/python3.8/site-packages/nilearn/decomposition/base.py:219: UserWarning: Persisting input arguments took 1.50s to run.\n",
      "If this happens often in your code, it can cause performance problems \n",
      "(results will be correct in all cases). \n",
      "The reason for this is probably some large input arguments for a wrapped\n",
      " function (e.g. large strings).\n",
      "THIS IS A JOBLIB ISSUE. If you can, kindly provide the joblib's team with an\n",
      " example so that they can fix the problem.\n",
      "  U, S, V = cache(fast_svd, memory,\n"
     ]
    },
    {
     "name": "stdout",
     "output_type": "stream",
     "text": [
      "[MultiNiftiMasker.transform_single_imgs] Loading data from Nifti1Image('/media/2Tb/functional_analysis_jan2021/NeuroMet_fmriprep_conn/data/BIDS/dataset/sub-0019/func/sub-0019_run-01_bold.nii.gz')\n",
      "[MultiNiftiMasker.transform_single_imgs] Smoothing images\n",
      "[MultiNiftiMasker.transform_single_imgs] Extracting region signals\n",
      "[MultiNiftiMasker.transform_single_imgs] Cleaning extracted signals\n"
     ]
    },
    {
     "name": "stderr",
     "output_type": "stream",
     "text": [
      "/home/orco/anaconda3/envs/fmri/lib/python3.8/site-packages/nilearn/decomposition/base.py:219: UserWarning: Persisting input arguments took 1.50s to run.\n",
      "If this happens often in your code, it can cause performance problems \n",
      "(results will be correct in all cases). \n",
      "The reason for this is probably some large input arguments for a wrapped\n",
      " function (e.g. large strings).\n",
      "THIS IS A JOBLIB ISSUE. If you can, kindly provide the joblib's team with an\n",
      " example so that they can fix the problem.\n",
      "  U, S, V = cache(fast_svd, memory,\n"
     ]
    },
    {
     "name": "stdout",
     "output_type": "stream",
     "text": [
      "________________________________________________________________________________\n",
      "[Memory] Calling sklearn.utils.extmath.randomized_svd...\n",
      "randomized_svd(array([[ 0.000749, ..., -0.0016  ],\n",
      "       ...,\n",
      "       [ 0.001185, ..., -0.002211]]), n_components=15, transpose=True, random_state=0, n_iter=3)\n"
     ]
    },
    {
     "name": "stderr",
     "output_type": "stream",
     "text": [
      "/home/orco/anaconda3/envs/fmri/lib/python3.8/site-packages/nilearn/decomposition/multi_pca.py:171: UserWarning: Persisting input arguments took 7.09s to run.\n",
      "If this happens often in your code, it can cause performance problems \n",
      "(results will be correct in all cases). \n",
      "The reason for this is probably some large input arguments for a wrapped\n",
      " function (e.g. large strings).\n",
      "THIS IS A JOBLIB ISSUE. If you can, kindly provide the joblib's team with an\n",
      " example so that they can fix the problem.\n",
      "  components_, self.variance_, _ = self._cache(\n"
     ]
    },
    {
     "name": "stdout",
     "output_type": "stream",
     "text": [
      "__________________________________________________randomized_svd - 17.1s, 0.3min\n"
     ]
    },
    {
     "name": "stderr",
     "output_type": "stream",
     "text": [
      "[Parallel(n_jobs=1)]: Using backend SequentialBackend with 1 concurrent workers.\n"
     ]
    },
    {
     "name": "stdout",
     "output_type": "stream",
     "text": [
      "________________________________________________________________________________\n",
      "[Memory] Calling sklearn.decomposition._fastica.fastica...\n",
      "fastica(array([[0.001055, ..., 0.001222],\n",
      "       ...,\n",
      "       [0.001084, ..., 0.001442]]), whiten=True, fun='cube', random_state=209652396)\n"
     ]
    },
    {
     "name": "stderr",
     "output_type": "stream",
     "text": [
      "/home/orco/anaconda3/envs/fmri/lib/python3.8/site-packages/sklearn/decomposition/_fastica.py:118: ConvergenceWarning: FastICA did not converge. Consider increasing tolerance or the maximum number of iterations.\n",
      "  warnings.warn('FastICA did not converge. Consider increasing '\n"
     ]
    },
    {
     "name": "stdout",
     "output_type": "stream",
     "text": [
      "_________________________________________________________fastica - 95.5s, 1.6min\n",
      "________________________________________________________________________________\n",
      "[Memory] Calling sklearn.decomposition._fastica.fastica...\n",
      "fastica(array([[0.001055, ..., 0.001222],\n",
      "       ...,\n",
      "       [0.001084, ..., 0.001442]]), whiten=True, fun='cube', random_state=398764591)\n"
     ]
    },
    {
     "name": "stderr",
     "output_type": "stream",
     "text": [
      "/home/orco/anaconda3/envs/fmri/lib/python3.8/site-packages/sklearn/decomposition/_fastica.py:118: ConvergenceWarning: FastICA did not converge. Consider increasing tolerance or the maximum number of iterations.\n",
      "  warnings.warn('FastICA did not converge. Consider increasing '\n"
     ]
    },
    {
     "name": "stdout",
     "output_type": "stream",
     "text": [
      "_________________________________________________________fastica - 95.8s, 1.6min\n",
      "________________________________________________________________________________\n",
      "[Memory] Calling sklearn.decomposition._fastica.fastica...\n",
      "fastica(array([[0.001055, ..., 0.001222],\n",
      "       ...,\n",
      "       [0.001084, ..., 0.001442]]), whiten=True, fun='cube', random_state=924231285)\n"
     ]
    },
    {
     "name": "stderr",
     "output_type": "stream",
     "text": [
      "/home/orco/anaconda3/envs/fmri/lib/python3.8/site-packages/sklearn/decomposition/_fastica.py:118: ConvergenceWarning: FastICA did not converge. Consider increasing tolerance or the maximum number of iterations.\n",
      "  warnings.warn('FastICA did not converge. Consider increasing '\n"
     ]
    },
    {
     "name": "stdout",
     "output_type": "stream",
     "text": [
      "_________________________________________________________fastica - 96.0s, 1.6min\n",
      "________________________________________________________________________________\n",
      "[Memory] Calling sklearn.decomposition._fastica.fastica...\n",
      "fastica(array([[0.001055, ..., 0.001222],\n",
      "       ...,\n",
      "       [0.001084, ..., 0.001442]]), whiten=True, fun='cube', random_state=1478610112)\n"
     ]
    },
    {
     "name": "stderr",
     "output_type": "stream",
     "text": [
      "/home/orco/anaconda3/envs/fmri/lib/python3.8/site-packages/sklearn/decomposition/_fastica.py:118: ConvergenceWarning: FastICA did not converge. Consider increasing tolerance or the maximum number of iterations.\n",
      "  warnings.warn('FastICA did not converge. Consider increasing '\n"
     ]
    },
    {
     "name": "stdout",
     "output_type": "stream",
     "text": [
      "_________________________________________________________fastica - 95.9s, 1.6min\n",
      "________________________________________________________________________________\n",
      "[Memory] Calling sklearn.decomposition._fastica.fastica...\n",
      "fastica(array([[0.001055, ..., 0.001222],\n",
      "       ...,\n",
      "       [0.001084, ..., 0.001442]]), whiten=True, fun='cube', random_state=441365315)\n"
     ]
    },
    {
     "name": "stderr",
     "output_type": "stream",
     "text": [
      "/home/orco/anaconda3/envs/fmri/lib/python3.8/site-packages/sklearn/decomposition/_fastica.py:118: ConvergenceWarning: FastICA did not converge. Consider increasing tolerance or the maximum number of iterations.\n",
      "  warnings.warn('FastICA did not converge. Consider increasing '\n"
     ]
    },
    {
     "name": "stdout",
     "output_type": "stream",
     "text": [
      "_________________________________________________________fastica - 95.1s, 1.6min\n",
      "________________________________________________________________________________\n",
      "[Memory] Calling sklearn.decomposition._fastica.fastica...\n",
      "fastica(array([[0.001055, ..., 0.001222],\n",
      "       ...,\n",
      "       [0.001084, ..., 0.001442]]), whiten=True, fun='cube', random_state=1537364731)\n"
     ]
    },
    {
     "name": "stderr",
     "output_type": "stream",
     "text": [
      "/home/orco/anaconda3/envs/fmri/lib/python3.8/site-packages/sklearn/decomposition/_fastica.py:118: ConvergenceWarning: FastICA did not converge. Consider increasing tolerance or the maximum number of iterations.\n",
      "  warnings.warn('FastICA did not converge. Consider increasing '\n"
     ]
    },
    {
     "name": "stdout",
     "output_type": "stream",
     "text": [
      "_________________________________________________________fastica - 96.3s, 1.6min\n",
      "________________________________________________________________________________\n",
      "[Memory] Calling sklearn.decomposition._fastica.fastica...\n",
      "fastica(array([[0.001055, ..., 0.001222],\n",
      "       ...,\n",
      "       [0.001084, ..., 0.001442]]), whiten=True, fun='cube', random_state=192771779)\n"
     ]
    },
    {
     "name": "stderr",
     "output_type": "stream",
     "text": [
      "/home/orco/anaconda3/envs/fmri/lib/python3.8/site-packages/sklearn/decomposition/_fastica.py:118: ConvergenceWarning: FastICA did not converge. Consider increasing tolerance or the maximum number of iterations.\n",
      "  warnings.warn('FastICA did not converge. Consider increasing '\n"
     ]
    },
    {
     "name": "stdout",
     "output_type": "stream",
     "text": [
      "_________________________________________________________fastica - 95.5s, 1.6min\n",
      "________________________________________________________________________________\n",
      "[Memory] Calling sklearn.decomposition._fastica.fastica...\n",
      "fastica(array([[0.001055, ..., 0.001222],\n",
      "       ...,\n",
      "       [0.001084, ..., 0.001442]]), whiten=True, fun='cube', random_state=1491434855)\n"
     ]
    },
    {
     "name": "stderr",
     "output_type": "stream",
     "text": [
      "/home/orco/anaconda3/envs/fmri/lib/python3.8/site-packages/sklearn/decomposition/_fastica.py:118: ConvergenceWarning: FastICA did not converge. Consider increasing tolerance or the maximum number of iterations.\n",
      "  warnings.warn('FastICA did not converge. Consider increasing '\n"
     ]
    },
    {
     "name": "stdout",
     "output_type": "stream",
     "text": [
      "_________________________________________________________fastica - 96.1s, 1.6min\n",
      "________________________________________________________________________________\n",
      "[Memory] Calling sklearn.decomposition._fastica.fastica...\n",
      "fastica(array([[0.001055, ..., 0.001222],\n",
      "       ...,\n",
      "       [0.001084, ..., 0.001442]]), whiten=True, fun='cube', random_state=1819583497)\n"
     ]
    },
    {
     "name": "stderr",
     "output_type": "stream",
     "text": [
      "/home/orco/anaconda3/envs/fmri/lib/python3.8/site-packages/sklearn/decomposition/_fastica.py:118: ConvergenceWarning: FastICA did not converge. Consider increasing tolerance or the maximum number of iterations.\n",
      "  warnings.warn('FastICA did not converge. Consider increasing '\n"
     ]
    },
    {
     "name": "stdout",
     "output_type": "stream",
     "text": [
      "_________________________________________________________fastica - 95.9s, 1.6min\n",
      "________________________________________________________________________________\n",
      "[Memory] Calling sklearn.decomposition._fastica.fastica...\n",
      "fastica(array([[0.001055, ..., 0.001222],\n",
      "       ...,\n",
      "       [0.001084, ..., 0.001442]]), whiten=True, fun='cube', random_state=530702035)\n"
     ]
    },
    {
     "name": "stderr",
     "output_type": "stream",
     "text": [
      "/home/orco/anaconda3/envs/fmri/lib/python3.8/site-packages/sklearn/decomposition/_fastica.py:118: ConvergenceWarning: FastICA did not converge. Consider increasing tolerance or the maximum number of iterations.\n",
      "  warnings.warn('FastICA did not converge. Consider increasing '\n",
      "[Parallel(n_jobs=1)]: Done  10 out of  10 | elapsed: 16.0min finished\n"
     ]
    },
    {
     "name": "stdout",
     "output_type": "stream",
     "text": [
      "_________________________________________________________fastica - 96.2s, 1.6min\n"
     ]
    }
   ],
   "source": [
    "from nilearn.decomposition import CanICA\n",
    "canica = CanICA(n_components=15,\n",
    "                memory=\"/home/WorkFlowTemp/nilearn_cache/CanICA15\", memory_level=2,\n",
    "                threshold='auto',\n",
    "                mask_strategy='epi',\n",
    "                random_state=0,\n",
    "                verbose=1,\n",
    "                n_jobs=1,)\n",
    "canica.fit(raw_bold_filenames)\n",
    "\n",
    "# Retrieve the independent components in brain space. Directly\n",
    "# accesible through attribute `components_img_`.\n",
    "canica_components_img = canica.components_img_\n",
    "# components_img is a Nifti Image object, and can be saved to a file with\n",
    "# the following line:\n",
    "canica_components_img.to_filename('canica_15component.nii.gz')"
   ]
  },
  {
   "cell_type": "code",
   "execution_count": 41,
   "metadata": {
    "collapsed": true,
    "jupyter": {
     "outputs_hidden": true
    }
   },
   "outputs": [
    {
     "name": "stdout",
     "output_type": "stream",
     "text": [
      "[MultiNiftiMasker.fit] Loading data from [/media/2Tb/functional_analysis_jan2021/NeuroMet_fmriprep_conn/data/BIDS/dataset/sub-0054/func/sub-0054_run-01_bold.nii.gz, /media/2Tb/functional_analysis_jan2021/NeuroMet_fmriprep_conn/data/BIDS/data\n",
      "[MultiNiftiMasker.fit] Computing mask\n",
      "[MultiNiftiMasker.transform] Resampling mask\n",
      "[CanICA] Loading data\n"
     ]
    },
    {
     "name": "stderr",
     "output_type": "stream",
     "text": [
      "/home/orco/anaconda3/envs/fmri/lib/python3.8/site-packages/nilearn/decomposition/base.py:219: UserWarning: Persisting input arguments took 1.49s to run.\n",
      "If this happens often in your code, it can cause performance problems \n",
      "(results will be correct in all cases). \n",
      "The reason for this is probably some large input arguments for a wrapped\n",
      " function (e.g. large strings).\n",
      "THIS IS A JOBLIB ISSUE. If you can, kindly provide the joblib's team with an\n",
      " example so that they can fix the problem.\n",
      "  U, S, V = cache(fast_svd, memory,\n",
      "/home/orco/anaconda3/envs/fmri/lib/python3.8/site-packages/nilearn/decomposition/base.py:219: UserWarning: Persisting input arguments took 1.50s to run.\n",
      "If this happens often in your code, it can cause performance problems \n",
      "(results will be correct in all cases). \n",
      "The reason for this is probably some large input arguments for a wrapped\n",
      " function (e.g. large strings).\n",
      "THIS IS A JOBLIB ISSUE. If you can, kindly provide the joblib's team with an\n",
      " example so that they can fix the problem.\n",
      "  U, S, V = cache(fast_svd, memory,\n",
      "/home/orco/anaconda3/envs/fmri/lib/python3.8/site-packages/nilearn/decomposition/base.py:219: UserWarning: Persisting input arguments took 1.52s to run.\n",
      "If this happens often in your code, it can cause performance problems \n",
      "(results will be correct in all cases). \n",
      "The reason for this is probably some large input arguments for a wrapped\n",
      " function (e.g. large strings).\n",
      "THIS IS A JOBLIB ISSUE. If you can, kindly provide the joblib's team with an\n",
      " example so that they can fix the problem.\n",
      "  U, S, V = cache(fast_svd, memory,\n",
      "/home/orco/anaconda3/envs/fmri/lib/python3.8/site-packages/nilearn/decomposition/base.py:219: UserWarning: Persisting input arguments took 1.47s to run.\n",
      "If this happens often in your code, it can cause performance problems \n",
      "(results will be correct in all cases). \n",
      "The reason for this is probably some large input arguments for a wrapped\n",
      " function (e.g. large strings).\n",
      "THIS IS A JOBLIB ISSUE. If you can, kindly provide the joblib's team with an\n",
      " example so that they can fix the problem.\n",
      "  U, S, V = cache(fast_svd, memory,\n",
      "/home/orco/anaconda3/envs/fmri/lib/python3.8/site-packages/nilearn/decomposition/base.py:219: UserWarning: Persisting input arguments took 1.48s to run.\n",
      "If this happens often in your code, it can cause performance problems \n",
      "(results will be correct in all cases). \n",
      "The reason for this is probably some large input arguments for a wrapped\n",
      " function (e.g. large strings).\n",
      "THIS IS A JOBLIB ISSUE. If you can, kindly provide the joblib's team with an\n",
      " example so that they can fix the problem.\n",
      "  U, S, V = cache(fast_svd, memory,\n",
      "/home/orco/anaconda3/envs/fmri/lib/python3.8/site-packages/nilearn/decomposition/base.py:219: UserWarning: Persisting input arguments took 1.43s to run.\n",
      "If this happens often in your code, it can cause performance problems \n",
      "(results will be correct in all cases). \n",
      "The reason for this is probably some large input arguments for a wrapped\n",
      " function (e.g. large strings).\n",
      "THIS IS A JOBLIB ISSUE. If you can, kindly provide the joblib's team with an\n",
      " example so that they can fix the problem.\n",
      "  U, S, V = cache(fast_svd, memory,\n",
      "/home/orco/anaconda3/envs/fmri/lib/python3.8/site-packages/nilearn/decomposition/base.py:219: UserWarning: Persisting input arguments took 1.46s to run.\n",
      "If this happens often in your code, it can cause performance problems \n",
      "(results will be correct in all cases). \n",
      "The reason for this is probably some large input arguments for a wrapped\n",
      " function (e.g. large strings).\n",
      "THIS IS A JOBLIB ISSUE. If you can, kindly provide the joblib's team with an\n",
      " example so that they can fix the problem.\n",
      "  U, S, V = cache(fast_svd, memory,\n",
      "/home/orco/anaconda3/envs/fmri/lib/python3.8/site-packages/nilearn/decomposition/base.py:219: UserWarning: Persisting input arguments took 1.53s to run.\n",
      "If this happens often in your code, it can cause performance problems \n",
      "(results will be correct in all cases). \n",
      "The reason for this is probably some large input arguments for a wrapped\n",
      " function (e.g. large strings).\n",
      "THIS IS A JOBLIB ISSUE. If you can, kindly provide the joblib's team with an\n",
      " example so that they can fix the problem.\n",
      "  U, S, V = cache(fast_svd, memory,\n",
      "/home/orco/anaconda3/envs/fmri/lib/python3.8/site-packages/nilearn/decomposition/base.py:219: UserWarning: Persisting input arguments took 1.51s to run.\n",
      "If this happens often in your code, it can cause performance problems \n",
      "(results will be correct in all cases). \n",
      "The reason for this is probably some large input arguments for a wrapped\n",
      " function (e.g. large strings).\n",
      "THIS IS A JOBLIB ISSUE. If you can, kindly provide the joblib's team with an\n",
      " example so that they can fix the problem.\n",
      "  U, S, V = cache(fast_svd, memory,\n",
      "/home/orco/anaconda3/envs/fmri/lib/python3.8/site-packages/nilearn/decomposition/base.py:219: UserWarning: Persisting input arguments took 1.45s to run.\n",
      "If this happens often in your code, it can cause performance problems \n",
      "(results will be correct in all cases). \n",
      "The reason for this is probably some large input arguments for a wrapped\n",
      " function (e.g. large strings).\n",
      "THIS IS A JOBLIB ISSUE. If you can, kindly provide the joblib's team with an\n",
      " example so that they can fix the problem.\n",
      "  U, S, V = cache(fast_svd, memory,\n"
     ]
    },
    {
     "name": "stdout",
     "output_type": "stream",
     "text": [
      "________________________________________________________________________________\n",
      "[Memory] Calling sklearn.utils.extmath.randomized_svd...\n",
      "randomized_svd(array([[0.000749, ..., 0.00011 ],\n",
      "       ...,\n",
      "       [0.001185, ..., 0.001842]]), n_components=20, transpose=True, random_state=0, n_iter=3)\n"
     ]
    },
    {
     "name": "stderr",
     "output_type": "stream",
     "text": [
      "/home/orco/anaconda3/envs/fmri/lib/python3.8/site-packages/nilearn/decomposition/multi_pca.py:171: UserWarning: Persisting input arguments took 9.60s to run.\n",
      "If this happens often in your code, it can cause performance problems \n",
      "(results will be correct in all cases). \n",
      "The reason for this is probably some large input arguments for a wrapped\n",
      " function (e.g. large strings).\n",
      "THIS IS A JOBLIB ISSUE. If you can, kindly provide the joblib's team with an\n",
      " example so that they can fix the problem.\n",
      "  components_, self.variance_, _ = self._cache(\n"
     ]
    },
    {
     "name": "stdout",
     "output_type": "stream",
     "text": [
      "__________________________________________________randomized_svd - 23.2s, 0.4min\n"
     ]
    },
    {
     "name": "stderr",
     "output_type": "stream",
     "text": [
      "[Parallel(n_jobs=1)]: Using backend SequentialBackend with 1 concurrent workers.\n"
     ]
    },
    {
     "name": "stdout",
     "output_type": "stream",
     "text": [
      "________________________________________________________________________________\n",
      "[Memory] Calling sklearn.decomposition._fastica.fastica...\n",
      "fastica(array([[ 0.001065, ..., -0.001544],\n",
      "       ...,\n",
      "       [ 0.001083, ..., -0.00029 ]]), whiten=True, fun='cube', random_state=209652396)\n",
      "_________________________________________________________fastica - 21.7s, 0.4min\n",
      "________________________________________________________________________________\n",
      "[Memory] Calling sklearn.decomposition._fastica.fastica...\n",
      "fastica(array([[ 0.001065, ..., -0.001544],\n",
      "       ...,\n",
      "       [ 0.001083, ..., -0.00029 ]]), whiten=True, fun='cube', random_state=398764591)\n",
      "_________________________________________________________fastica - 20.5s, 0.3min\n",
      "________________________________________________________________________________\n",
      "[Memory] Calling sklearn.decomposition._fastica.fastica...\n",
      "fastica(array([[ 0.001065, ..., -0.001544],\n",
      "       ...,\n",
      "       [ 0.001083, ..., -0.00029 ]]), whiten=True, fun='cube', random_state=924231285)\n",
      "_________________________________________________________fastica - 19.3s, 0.3min\n",
      "________________________________________________________________________________\n",
      "[Memory] Calling sklearn.decomposition._fastica.fastica...\n",
      "fastica(array([[ 0.001065, ..., -0.001544],\n",
      "       ...,\n",
      "       [ 0.001083, ..., -0.00029 ]]), whiten=True, fun='cube', random_state=1478610112)\n",
      "_________________________________________________________fastica - 53.8s, 0.9min\n",
      "________________________________________________________________________________\n",
      "[Memory] Calling sklearn.decomposition._fastica.fastica...\n",
      "fastica(array([[ 0.001065, ..., -0.001544],\n",
      "       ...,\n",
      "       [ 0.001083, ..., -0.00029 ]]), whiten=True, fun='cube', random_state=441365315)\n",
      "_________________________________________________________fastica - 19.9s, 0.3min\n",
      "________________________________________________________________________________\n",
      "[Memory] Calling sklearn.decomposition._fastica.fastica...\n",
      "fastica(array([[ 0.001065, ..., -0.001544],\n",
      "       ...,\n",
      "       [ 0.001083, ..., -0.00029 ]]), whiten=True, fun='cube', random_state=1537364731)\n",
      "_________________________________________________________fastica - 19.7s, 0.3min\n",
      "________________________________________________________________________________\n",
      "[Memory] Calling sklearn.decomposition._fastica.fastica...\n",
      "fastica(array([[ 0.001065, ..., -0.001544],\n",
      "       ...,\n",
      "       [ 0.001083, ..., -0.00029 ]]), whiten=True, fun='cube', random_state=192771779)\n",
      "_________________________________________________________fastica - 20.9s, 0.3min\n",
      "________________________________________________________________________________\n",
      "[Memory] Calling sklearn.decomposition._fastica.fastica...\n",
      "fastica(array([[ 0.001065, ..., -0.001544],\n",
      "       ...,\n",
      "       [ 0.001083, ..., -0.00029 ]]), whiten=True, fun='cube', random_state=1491434855)\n",
      "_________________________________________________________fastica - 26.3s, 0.4min\n",
      "________________________________________________________________________________\n",
      "[Memory] Calling sklearn.decomposition._fastica.fastica...\n",
      "fastica(array([[ 0.001065, ..., -0.001544],\n",
      "       ...,\n",
      "       [ 0.001083, ..., -0.00029 ]]), whiten=True, fun='cube', random_state=1819583497)\n",
      "_________________________________________________________fastica - 36.3s, 0.6min\n",
      "________________________________________________________________________________\n",
      "[Memory] Calling sklearn.decomposition._fastica.fastica...\n",
      "fastica(array([[ 0.001065, ..., -0.001544],\n",
      "       ...,\n",
      "       [ 0.001083, ..., -0.00029 ]]), whiten=True, fun='cube', random_state=530702035)\n",
      "_________________________________________________________fastica - 32.0s, 0.5min\n"
     ]
    },
    {
     "name": "stderr",
     "output_type": "stream",
     "text": [
      "[Parallel(n_jobs=1)]: Done  10 out of  10 | elapsed:  4.5min finished\n"
     ]
    }
   ],
   "source": [
    "canica = CanICA(n_components=20,\n",
    "                memory=\"/home/WorkFlowTemp/nilearn_cache/CanICA15\", memory_level=2,\n",
    "                threshold='auto',\n",
    "                mask_strategy='epi',\n",
    "                random_state=0,\n",
    "                verbose=1,\n",
    "                n_jobs=1,)\n",
    "canica.fit(raw_bold_filenames)\n",
    "\n",
    "# Retrieve the independent components in brain space. Directly\n",
    "# accesible through attribute `components_img_`.\n",
    "canica_components_img = canica.components_img_\n",
    "# components_img is a Nifti Image object, and can be saved to a file with\n",
    "# the following line:\n",
    "canica_components_img.to_filename('canica_20component.nii.gz')"
   ]
  },
  {
   "cell_type": "code",
   "execution_count": null,
   "metadata": {},
   "outputs": [],
   "source": [
    "from nilearn.decomposition import CanICA\n",
    "try:\n",
    "    canica = CanICA(n_components=5,\n",
    "                    memory=\"/home/WorkFlowTemp/nilearn_cache/CanICA5\", memory_level=2,\n",
    "                    threshold='auto',\n",
    "                    mask_strategy='epi',\n",
    "                    random_state=0,\n",
    "                    verbose=1,\n",
    "                    n_jobs=3,)\n",
    "    canica.fit(func_filenamesd)\n",
    "\n",
    "    # Retrieve the independent components in brain space. Directly\n",
    "    # accesible through attribute `components_img_`.\n",
    "    canica_components_img = canica.components_img_\n",
    "    # components_img is a Nifti Image object, and can be saved to a file with\n",
    "    # the following line:\n",
    "    canica_components_img.to_filename('canica_5component.nii.gz')\n",
    "except:\n",
    "    pass"
   ]
  },
  {
   "cell_type": "code",
   "execution_count": 23,
   "metadata": {},
   "outputs": [
    {
     "name": "stdout",
     "output_type": "stream",
     "text": [
      "The history saving thread hit an unexpected error (OperationalError('unable to open database file')).History will not be written to the database.\n"
     ]
    }
   ],
   "source": [
    "from nilearn.decomposition import CanICA\n",
    "try:\n",
    "    canica = CanICA(n_components=10,\n",
    "                    memory=\"/home/WorkFlowTemp/nilearn_cache/CanICA10\", memory_level=2,\n",
    "                    threshold='auto',\n",
    "                    mask_strategy='epi',\n",
    "                    random_state=0,\n",
    "                    verbose=1,\n",
    "                    n_jobs=3,)\n",
    "    canica.fit(func_filenames)\n",
    "\n",
    "    # Retrieve the independent components in brain space. Directly\n",
    "    # accesible through attribute `components_img_`.\n",
    "    canica_components_img = canica.components_img_\n",
    "    # components_img is a Nifti Image object, and can be saved to a file with\n",
    "    # the following line:\n",
    "    canica_components_img.to_filename('canica_10component.nii.gz')\n",
    "except:\n",
    "    pass"
   ]
  },
  {
   "cell_type": "code",
   "execution_count": 24,
   "metadata": {},
   "outputs": [
    {
     "name": "stdout",
     "output_type": "stream",
     "text": [
      "[MultiNiftiMasker.fit] Loading data from [/media/2Tb/functional_analysis_jan2021/NeuroMet_fmriprep_conn/data/BIDS/dataset/sub-0001/func/dssub-0001_run-01_bold.nii, /media/2Tb/functional_analysis_jan2021/NeuroMet_fmriprep_conn/data/BIDS/datas\n",
      "[MultiNiftiMasker.fit] Computing mask\n",
      "[MultiNiftiMasker.transform] Resampling mask\n"
     ]
    }
   ],
   "source": []
  },
  {
   "cell_type": "code",
   "execution_count": null,
   "metadata": {},
   "outputs": [],
   "source": []
  },
  {
   "cell_type": "code",
   "execution_count": null,
   "metadata": {},
   "outputs": [],
   "source": []
  },
  {
   "cell_type": "code",
   "execution_count": 15,
   "metadata": {},
   "outputs": [],
   "source": [
    "# Make spheres"
   ]
  },
  {
   "cell_type": "code",
   "execution_count": 1,
   "metadata": {},
   "outputs": [],
   "source": [
    "import nibabel as nib"
   ]
  },
  {
   "cell_type": "code",
   "execution_count": 131,
   "metadata": {},
   "outputs": [],
   "source": [
    "mni_std = '/media/drive_s/AG/AG-Floeel-Imaging/02-User/AndreaDellOrco/templateflow/tpl-MNI152NLin2009cAsym/tpl-MNI152NLin2009cAsym_res-01_T1w.nii.gz'"
   ]
  },
  {
   "cell_type": "code",
   "execution_count": 52,
   "metadata": {},
   "outputs": [],
   "source": [
    "ica_file = 'canica_15component.nii.gz'"
   ]
  },
  {
   "cell_type": "code",
   "execution_count": 53,
   "metadata": {},
   "outputs": [],
   "source": [
    "ica = nib.load(ica_file)"
   ]
  },
  {
   "cell_type": "code",
   "execution_count": 54,
   "metadata": {},
   "outputs": [],
   "source": [
    "ica_arr = ica.get_fdata()"
   ]
  },
  {
   "cell_type": "code",
   "execution_count": 55,
   "metadata": {},
   "outputs": [
    {
     "data": {
      "text/plain": [
       "(129, 153, 129, 15)"
      ]
     },
     "execution_count": 55,
     "metadata": {},
     "output_type": "execute_result"
    }
   ],
   "source": [
    "ica_arr.shape"
   ]
  },
  {
   "cell_type": "code",
   "execution_count": 56,
   "metadata": {},
   "outputs": [],
   "source": [
    "dmn = ica_arr[:,:,:,1]"
   ]
  },
  {
   "cell_type": "code",
   "execution_count": 57,
   "metadata": {},
   "outputs": [],
   "source": [
    "dmn[dmn < 0] = 0"
   ]
  },
  {
   "cell_type": "code",
   "execution_count": null,
   "metadata": {
    "collapsed": true,
    "jupyter": {
     "outputs_hidden": true
    }
   },
   "outputs": [],
   "source": []
  },
  {
   "cell_type": "code",
   "execution_count": 159,
   "metadata": {},
   "outputs": [],
   "source": [
    "dmn_img = nib.Nifti1Image(dmn, ica.affine)"
   ]
  },
  {
   "cell_type": "code",
   "execution_count": 160,
   "metadata": {},
   "outputs": [],
   "source": [
    "from nilearn import plotting\n",
    "import numpy as np"
   ]
  },
  {
   "cell_type": "code",
   "execution_count": 161,
   "metadata": {},
   "outputs": [
    {
     "data": {
      "text/plain": [
       "(129, 153, 129)"
      ]
     },
     "execution_count": 161,
     "metadata": {},
     "output_type": "execute_result"
    }
   ],
   "source": [
    "dmn_img.get_fdata().shape"
   ]
  },
  {
   "cell_type": "code",
   "execution_count": 162,
   "metadata": {},
   "outputs": [
    {
     "data": {
      "text/plain": [
       "<nilearn.plotting.displays.OrthoProjector at 0x7f6a97ad0190>"
      ]
     },
     "execution_count": 162,
     "metadata": {},
     "output_type": "execute_result"
    },
    {
     "data": {
      "image/png": "[encoded data removed]",
      "text/plain": [
       "<Figure size 475.2x187.2 with 4 Axes>"
      ]
     },
     "metadata": {},
     "output_type": "display_data"
    }
   ],
   "source": [
    "plotting.plot_glass_brain(dmn_img)"
   ]
  },
  {
   "cell_type": "code",
   "execution_count": 62,
   "metadata": {},
   "outputs": [],
   "source": [
    "nib.save(dmn_img,'dmn_15comp.nii.gz')"
   ]
  },
  {
   "cell_type": "code",
   "execution_count": 76,
   "metadata": {},
   "outputs": [],
   "source": [
    "dmn4d = ica_arr[:,:,:,1:2]"
   ]
  },
  {
   "cell_type": "code",
   "execution_count": 80,
   "metadata": {},
   "outputs": [],
   "source": [
    "dmn4d_img = nib.Nifti1Image(dmn4d, ica.affine)"
   ]
  },
  {
   "cell_type": "code",
   "execution_count": 81,
   "metadata": {},
   "outputs": [
    {
     "data": {
      "text/plain": [
       "<nilearn.plotting.displays.OrthoProjector at 0x7f6aa11edf10>"
      ]
     },
     "execution_count": 81,
     "metadata": {},
     "output_type": "execute_result"
    },
    {
     "data": {
      "image/png": "[encoded data removed]",
      "text/plain": [
       "<Figure size 475.2x187.2 with 4 Axes>"
      ]
     },
     "metadata": {},
     "output_type": "display_data"
    }
   ],
   "source": [
    "plotting.plot_glass_brain(dmn4d_img)"
   ]
  },
  {
   "cell_type": "code",
   "execution_count": 82,
   "metadata": {},
   "outputs": [],
   "source": [
    "from nilearn.regions import RegionExtractor"
   ]
  },
  {
   "cell_type": "code",
   "execution_count": 85,
   "metadata": {},
   "outputs": [],
   "source": [
    "extractor = RegionExtractor(dmn4d_img)"
   ]
  },
  {
   "cell_type": "code",
   "execution_count": 86,
   "metadata": {},
   "outputs": [
    {
     "data": {
      "text/plain": [
       "RegionExtractor(maps_img=<nibabel.nifti1.Nifti1Image object at 0x7f6aa10b00a0>)"
      ]
     },
     "execution_count": 86,
     "metadata": {},
     "output_type": "execute_result"
    }
   ],
   "source": [
    "extractor.fit()"
   ]
  },
  {
   "cell_type": "code",
   "execution_count": 89,
   "metadata": {},
   "outputs": [
    {
     "data": {
      "text/plain": [
       "5"
      ]
     },
     "execution_count": 89,
     "metadata": {},
     "output_type": "execute_result"
    }
   ],
   "source": [
    "# n. regions extractes\n",
    "regions_extracted_img = extractor.regions_img_\n",
    "regions_extracted_img.shape[-1]"
   ]
  },
  {
   "cell_type": "code",
   "execution_count": 112,
   "metadata": {},
   "outputs": [
    {
     "data": {
      "text/plain": [
       "(129, 153, 129)"
      ]
     },
     "execution_count": 112,
     "metadata": {},
     "output_type": "execute_result"
    }
   ],
   "source": [
    "regions_extracted_img.slicer[:,:,:,0].shape"
   ]
  },
  {
   "cell_type": "code",
   "execution_count": 117,
   "metadata": {},
   "outputs": [
    {
     "data": {
      "text/plain": [
       "<nilearn.plotting.displays.OrthoProjector at 0x7f6a993f8b20>"
      ]
     },
     "execution_count": 117,
     "metadata": {},
     "output_type": "execute_result"
    },
    {
     "data": {
      "image/png": "[encoded data removed]",
      "text/plain": [
       "<Figure size 475.2x187.2 with 4 Axes>"
      ]
     },
     "metadata": {},
     "output_type": "display_data"
    }
   ],
   "source": [
    "plotting.plot_glass_brain(regions_extracted_img.slicer[:,:,:,4])"
   ]
  },
  {
   "cell_type": "code",
   "execution_count": 121,
   "metadata": {},
   "outputs": [],
   "source": [
    "regions = { 0 : 'LIPL',\n",
    "            1 : 'PCC',\n",
    "            2 : 'MPFC',\n",
    "            4 : 'RIPL'}"
   ]
  },
  {
   "cell_type": "code",
   "execution_count": 343,
   "metadata": {},
   "outputs": [
    {
     "name": "stdout",
     "output_type": "stream",
     "text": [
      "0\n",
      "1\n",
      "2\n",
      "4\n"
     ]
    }
   ],
   "source": [
    "# Save ROIS\n",
    "for i in list(regions.keys()):\n",
    "    print(i)\n",
    "    nib.save(regions_extracted_img.slicer[:,:,:,i],'dmn_{}.nii.gz'.format(regions[i]))"
   ]
  },
  {
   "cell_type": "code",
   "execution_count": null,
   "metadata": {},
   "outputs": [],
   "source": [
    "# Take Maxima"
   ]
  },
  {
   "cell_type": "code",
   "execution_count": 492,
   "metadata": {},
   "outputs": [],
   "source": [
    "mni_std_img = nib.load(mni_std)"
   ]
  },
  {
   "cell_type": "code",
   "execution_count": 493,
   "metadata": {},
   "outputs": [],
   "source": [
    "add_inv = np.linalg.inv(mni_std_img.affine)"
   ]
  },
  {
   "cell_type": "code",
   "execution_count": 503,
   "metadata": {},
   "outputs": [],
   "source": [
    "maxs = dict()\n",
    "maxs_mni = dict()\n",
    "maxs_mni_vox = dict()\n",
    "for i in list(regions.keys()):\n",
    "    img = nib.load('dmn_{}.nii.gz'.format(regions[i]))\n",
    "    max_coords = np.argwhere(img.get_fdata() == img.get_fdata().max())\n",
    "    max_coords_mni = img.affine.dot(list(max_coords[0]) + [1])\n",
    "    maxs[regions[i]] = max_coords\n",
    "    maxs_mni[regions[i]] = max_coords_mni\n",
    "    maxs_mni_vox[regions[i]] = add_inv.dot(max_coords_mni.astype(int))"
   ]
  },
  {
   "cell_type": "code",
   "execution_count": 504,
   "metadata": {},
   "outputs": [
    {
     "data": {
      "text/plain": [
       "{'LIPL': array([[34, 39, 73]]),\n",
       " 'PCC': array([[67, 51, 66]]),\n",
       " 'MPFC': array([[ 68, 130,  48]]),\n",
       " 'RIPL': array([[97, 44, 73]])}"
      ]
     },
     "execution_count": 504,
     "metadata": {},
     "output_type": "execute_result"
    }
   ],
   "source": [
    "maxs"
   ]
  },
  {
   "cell_type": "code",
   "execution_count": 505,
   "metadata": {},
   "outputs": [
    {
     "data": {
      "text/plain": [
       "{'LIPL': array([-45.5, -74. ,  31. ,   1. ]),\n",
       " 'PCC': array([  4. , -56. ,  20.5,   1. ]),\n",
       " 'MPFC': array([ 5.5, 62.5, -6.5,  1. ]),\n",
       " 'RIPL': array([ 49. , -66.5,  31. ,   1. ])}"
      ]
     },
     "execution_count": 505,
     "metadata": {},
     "output_type": "execute_result"
    }
   ],
   "source": [
    "maxs_mni"
   ]
  },
  {
   "cell_type": "code",
   "execution_count": 506,
   "metadata": {},
   "outputs": [
    {
     "data": {
      "text/plain": [
       "{'LIPL': array([ 51.,  58., 109.,   1.]),\n",
       " 'PCC': array([100.,  76.,  98.,   1.]),\n",
       " 'MPFC': array([101., 194.,  72.,   1.]),\n",
       " 'RIPL': array([145.,  66., 109.,   1.])}"
      ]
     },
     "execution_count": 506,
     "metadata": {},
     "output_type": "execute_result"
    }
   ],
   "source": [
    "maxs_mni_vox"
   ]
  },
  {
   "cell_type": "code",
   "execution_count": 454,
   "metadata": {},
   "outputs": [],
   "source": [
    "# Make spheres"
   ]
  },
  {
   "cell_type": "code",
   "execution_count": 476,
   "metadata": {},
   "outputs": [],
   "source": [
    "# Credits NLTools: https://github.com/cosanlab/nltools\n",
    "def sphere1(nii, r, p):\n",
    "    \"\"\" create a sphere of given radius at some point p in the brain mask\n",
    "    Args:\n",
    "        r: radius of the sphere\n",
    "        p: point (in coordinates of the brain mask) of the center of the sphere\n",
    "    \"\"\"\n",
    "    #nii = nib.load(nii_path)\n",
    "    dims = nii.shape\n",
    "\n",
    "    x, y, z = np.ogrid[-p[0]:dims[0]-p[0], -p[1]:dims[1]-p[1], -p[2]:dims[2]-p[2]]\n",
    "    mask = x*x + y*y + z*z <= r*r\n",
    "\n",
    "    activation = np.zeros(dims)\n",
    "    #print(activation.sum())\n",
    "    activation[mask] = 1\n",
    "    #print(activation.sum())\n",
    "    #activation = np.multiply(activation, nii.get_fdata())\n",
    "    activation = activation + nii.get_fdata()\n",
    "    #print(activation.sum())\n",
    "    activation = nib.Nifti1Image(activation, nii.affine, nii.header)\n",
    "\n",
    "    # return the 3D numpy matrix of zeros containing the sphere as a region of ones\n",
    "    return activation"
   ]
  },
  {
   "cell_type": "code",
   "execution_count": 474,
   "metadata": {},
   "outputs": [],
   "source": [
    "mni_std_z = nib.Nifti1Image(np.zeros(mni_std_img.get_fdata().shape), mni_std_img.affine, mni_std_img.header)"
   ]
  },
  {
   "cell_type": "code",
   "execution_count": 479,
   "metadata": {},
   "outputs": [],
   "source": [
    "s = sphere1(mni_std_z, 100, [  4. , -56. ,  20.5])"
   ]
  },
  {
   "cell_type": "code",
   "execution_count": 481,
   "metadata": {},
   "outputs": [
    {
     "data": {
      "text/plain": [
       "(193, 229, 193)"
      ]
     },
     "execution_count": 481,
     "metadata": {},
     "output_type": "execute_result"
    }
   ],
   "source": [
    "mni_std_img.shape"
   ]
  },
  {
   "cell_type": "code",
   "execution_count": 482,
   "metadata": {},
   "outputs": [
    {
     "data": {
      "text/plain": [
       "(129, 153, 129)"
      ]
     },
     "execution_count": 482,
     "metadata": {},
     "output_type": "execute_result"
    }
   ],
   "source": [
    "img.shape"
   ]
  },
  {
   "cell_type": "code",
   "execution_count": 480,
   "metadata": {},
   "outputs": [
    {
     "data": {
      "text/plain": [
       "<nilearn.plotting.displays.OrthoSlicer at 0x7f6a5815eb20>"
      ]
     },
     "execution_count": 480,
     "metadata": {},
     "output_type": "execute_result"
    },
    {
     "data": {
      "image/png": "[encoded data removed]",
      "text/plain": [
       "<Figure size 475.2x187.2 with 4 Axes>"
      ]
     },
     "metadata": {},
     "output_type": "display_data"
    }
   ],
   "source": [
    "plotting.plot_roi(s)"
   ]
  },
  {
   "cell_type": "code",
   "execution_count": 456,
   "metadata": {},
   "outputs": [],
   "source": [
    "def sphere(shape, radius, position):\n",
    "    # assume shape and position are both a 3-tuple of int or float\n",
    "    # the units are pixels / voxels (px for short)\n",
    "    # radius is a int or float in px\n",
    "    semisizes = (radius,) * 3\n",
    "\n",
    "    # genereate the grid for the support points\n",
    "    # centered at the position indicated by position\n",
    "    grid = [slice(-x0, dim - x0) for x0, dim in zip(position, shape)]\n",
    "    position = np.ogrid[grid]\n",
    "    # calculate the distance of all points from `position` center\n",
    "    # scaled by the radius\n",
    "    arr = np.zeros(shape, dtype=float)\n",
    "    for x_i, semisize in zip(position, semisizes):\n",
    "        # this can be generalized for exponent != 2\n",
    "        # in which case `(x_i / semisize)`\n",
    "        # would become `np.abs(x_i / semisize)`\n",
    "        arr += (x_i / semisize) ** 2\n",
    "\n",
    "    # the inner part of the sphere will have distance below 1\n",
    "    return arr <= 1.0\n"
   ]
  },
  {
   "cell_type": "code",
   "execution_count": null,
   "metadata": {},
   "outputs": [],
   "source": []
  },
  {
   "cell_type": "code",
   "execution_count": 535,
   "metadata": {},
   "outputs": [],
   "source": [
    "radius = 6 # 6 mm radius"
   ]
  },
  {
   "cell_type": "code",
   "execution_count": 536,
   "metadata": {},
   "outputs": [
    {
     "name": "stdout",
     "output_type": "stream",
     "text": [
      "<class 'nibabel.nifti1.Nifti1Header'> object, endian='<'\n",
      "sizeof_hdr      : 348\n",
      "data_type       : b''\n",
      "db_name         : b''\n",
      "extents         : 0\n",
      "session_error   : 0\n",
      "regular         : b'r'\n",
      "dim_info        : 0\n",
      "dim             : [  3 193 229 193   1   1   0   0]\n",
      "intent_p1       : 0.0\n",
      "intent_p2       : 0.0\n",
      "intent_p3       : 0.0\n",
      "intent_code     : none\n",
      "datatype        : int16\n",
      "bitpix          : 16\n",
      "slice_start     : 0\n",
      "pixdim          : [1. 1. 1. 1. 0. 1. 0. 0.]\n",
      "vox_offset      : 0.0\n",
      "scl_slope       : nan\n",
      "scl_inter       : nan\n",
      "slice_end       : 0\n",
      "slice_code      : unknown\n",
      "xyzt_units      : 10\n",
      "cal_max         : 10000.0\n",
      "cal_min         : 0.0\n",
      "slice_duration  : 0.0\n",
      "toffset         : 0.0\n",
      "glmax           : 0\n",
      "glmin           : 0\n",
      "descrip         : b'mnc2nii mni_icbm152_nlin_asym_09c/mni_icbm152_t1_tal_nlin_asym_09c.mnc mni_icbm'\n",
      "aux_file        : b''\n",
      "qform_code      : mni\n",
      "sform_code      : mni\n",
      "quatern_b       : 0.0\n",
      "quatern_c       : 0.0\n",
      "quatern_d       : 0.0\n",
      "qoffset_x       : -96.0\n",
      "qoffset_y       : -132.0\n",
      "qoffset_z       : -78.0\n",
      "srow_x          : [  1.   0.   0. -96.]\n",
      "srow_y          : [   0.    1.    0. -132.]\n",
      "srow_z          : [  0.   0.   1. -78.]\n",
      "intent_name     : b''\n",
      "magic           : b'n+1'\n"
     ]
    }
   ],
   "source": [
    "print(mni_std_img.header)"
   ]
  },
  {
   "cell_type": "code",
   "execution_count": 537,
   "metadata": {},
   "outputs": [],
   "source": [
    "spheres = dict()\n",
    "for i in maxs_mni_vox:\n",
    "    m = maxs_mni_vox[i]\n",
    "    s = sphere(mni_std_img.shape, radius, m)\n",
    "    spheres[i] = s\n",
    "    nii = nib.Nifti1Image(s.astype(int), mni_std_img.affine)\n",
    "    nib.save(nii, '{}_sphere.nii.gz'.format(i))"
   ]
  },
  {
   "cell_type": "code",
   "execution_count": 538,
   "metadata": {},
   "outputs": [],
   "source": [
    "targets = spheres['MPFC'] + spheres['LIPL'] + spheres['RIPL']\n",
    "targets_nii = nib.Nifti1Image(targets.astype(int), mni_std_img.affine)\n",
    "nib.save(targets_nii, 'targets_nii.nii.gz')"
   ]
  },
  {
   "cell_type": "code",
   "execution_count": 539,
   "metadata": {},
   "outputs": [
    {
     "data": {
      "text/plain": [
       "<nilearn.plotting.displays.OrthoProjector at 0x7f6a50c45700>"
      ]
     },
     "execution_count": 539,
     "metadata": {},
     "output_type": "execute_result"
    },
    {
     "data": {
      "image/png": "[encoded data removed]",
      "text/plain": [
       "<Figure size 475.2x187.2 with 4 Axes>"
      ]
     },
     "metadata": {},
     "output_type": "display_data"
    }
   ],
   "source": [
    "plotting.plot_glass_brain('targets_nii.nii.gz')"
   ]
  },
  {
   "cell_type": "code",
   "execution_count": 540,
   "metadata": {},
   "outputs": [],
   "source": [
    "targets_atlas = spheres['MPFC'].astype(int) + spheres['LIPL'].astype(int)*2 + spheres['RIPL'].astype(int)*3\n",
    "targets_atlas_nii = nib.Nifti1Image(targets_atlas, mni_std_img.affine)\n",
    "nib.save(targets_atlas_nii, 'targets_atlas.nii.gz')"
   ]
  },
  {
   "cell_type": "code",
   "execution_count": 541,
   "metadata": {},
   "outputs": [
    {
     "data": {
      "text/plain": [
       "<nilearn.plotting.displays.OrthoProjector at 0x7f6a5059ba00>"
      ]
     },
     "execution_count": 541,
     "metadata": {},
     "output_type": "execute_result"
    },
    {
     "data": {
      "image/png": "[encoded data removed]",
      "text/plain": [
       "<Figure size 475.2x187.2 with 4 Axes>"
      ]
     },
     "metadata": {},
     "output_type": "display_data"
    }
   ],
   "source": [
    "plotting.plot_glass_brain('targets_atlas.nii.gz')"
   ]
  },
  {
   "cell_type": "code",
   "execution_count": 486,
   "metadata": {},
   "outputs": [],
   "source": [
    "import os\n",
    "sphs = [i for i in os.listdir() if 'sphere' in i]"
   ]
  },
  {
   "cell_type": "code",
   "execution_count": 487,
   "metadata": {},
   "outputs": [
    {
     "data": {
      "text/plain": [
       "['RIPL_sphere.nii.gz',\n",
       " 'PCC_sphere.nii.gz',\n",
       " 'LIPL_sphere.nii.gz',\n",
       " 'MPFC_sphere.nii.gz']"
      ]
     },
     "execution_count": 487,
     "metadata": {},
     "output_type": "execute_result"
    }
   ],
   "source": [
    "sphs"
   ]
  },
  {
   "cell_type": "code",
   "execution_count": null,
   "metadata": {},
   "outputs": [],
   "source": []
  }
 ],
 "metadata": {
  "kernelspec": {
   "display_name": "Python 3",
   "language": "python",
   "name": "python3"
  },
  "language_info": {
   "codemirror_mode": {
    "name": "ipython",
    "version": 3
   },
   "file_extension": ".py",
   "mimetype": "text/x-python",
   "name": "python",
   "nbconvert_exporter": "python",
   "pygments_lexer": "ipython3",
   "version": "3.8.6"
  }
 },
 "nbformat": 4,
 "nbformat_minor": 4
}
