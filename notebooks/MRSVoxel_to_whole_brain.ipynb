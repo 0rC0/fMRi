{
 "cells": [
  {
   "cell_type": "markdown",
   "metadata": {},
   "source": [
    "# MRS_Voxel-to-Voxel\n",
    "\n",
    "Prefixes:\n",
    "=========\n",
    "-) BETA_ nii the BETA files contain the Fisher transformed coefficients ( z=atanh(r) ). When the Analyses.measure is set to 3 (regression) or 4 (multivariate regression), then the BETA files contain the regression coefficients (beta values) and the corr files should be disregarded (they actually contain tanh(beta) but these are not particularly meaningful measures). \n",
    "\n",
    "-) corr_ nii When the Analyses.measure field is set to 1 (bivariate correlation) or 2 (semi-partial correlation) the corr fles contain the correlation coefficients (r) (or semi-partial correlation coefficients when Analyses.measure is set to 2)..... corr_* files are only generated if you select the corresponding option in the Setup->Options tab ('Create first-level seed-to-voxel r-maps').\n",
    "\n",
    "-) p_corr nii the p_corr and pFDR images simply contain the uncorrected and FDR-corrected p-values, respectively\n",
    "\n",
    "-) pFDR nii the p_corr and pFDR images simply contain the uncorrected and FDR-corrected p-values, respectively\n",
    "\n",
    "-) resultsROI mat\n",
    "\n",
    "-) se nii\n",
    "-) "
   ]
  },
  {
   "cell_type": "markdown",
   "metadata": {},
   "source": [
    "## Sources"
   ]
  },
  {
   "cell_type": "code",
   "execution_count": 1,
   "metadata": {},
   "outputs": [],
   "source": [
    "import glob\n",
    "import nibabel as nib\n",
    "import pandas as pd\n",
    "import seaborn as sns\n",
    "from nilearn import plotting\n",
    "import numpy as np\n",
    "from scipy.io import loadmat\n",
    "from scipy import stats\n",
    "import multiprocess as mp"
   ]
  },
  {
   "cell_type": "code",
   "execution_count": 2,
   "metadata": {},
   "outputs": [],
   "source": [
    "mat = loadmat('/media/veracrypt1/NeuroMet_fmri/MRS_Voxel/_list_sources.mat')"
   ]
  },
  {
   "cell_type": "code",
   "execution_count": 3,
   "metadata": {},
   "outputs": [
    {
     "data": {
      "text/plain": [
       "array([[array(['DMN_alldiag_LRPCC_gmmasked'], dtype='<U26'),\n",
       "        array(['DMN_anatomical_gmmasked'], dtype='<U23'),\n",
       "        array(['DMN_alldiag_targets_gmmasked.cluster001'], dtype='<U39'),\n",
       "        array(['DMN_alldiag_targets_gmmasked.cluster002'], dtype='<U39'),\n",
       "        array(['DMN_alldiag_targets_gmmasked.cluster003'], dtype='<U39'),\n",
       "        array(['MRS_Voxel'], dtype='<U9')]], dtype=object)"
      ]
     },
     "execution_count": 3,
     "metadata": {},
     "output_type": "execute_result"
    }
   ],
   "source": [
    "mat['sourcenames']"
   ]
  },
  {
   "cell_type": "code",
   "execution_count": 4,
   "metadata": {},
   "outputs": [],
   "source": [
    "# MRS Voxel is source 6"
   ]
  },
  {
   "cell_type": "code",
   "execution_count": null,
   "metadata": {},
   "outputs": [],
   "source": []
  },
  {
   "cell_type": "code",
   "execution_count": 5,
   "metadata": {},
   "outputs": [
    {
     "data": {
      "text/plain": [
       "72"
      ]
     },
     "execution_count": 5,
     "metadata": {},
     "output_type": "execute_result"
    }
   ],
   "source": [
    "# Grab all MRS-Voxel-to-whole-Brain connectivity maps niftis\n",
    "s1_beta_path = glob.glob('/media/veracrypt1/NeuroMet_fmri/MRS_Voxel/BETA_Subject0*_Condition001_Source006.nii')\n",
    "len(s1_beta_path)"
   ]
  },
  {
   "cell_type": "code",
   "execution_count": 6,
   "metadata": {},
   "outputs": [],
   "source": [
    "example_img = nib.load(s1_beta_path[0])"
   ]
  },
  {
   "cell_type": "code",
   "execution_count": 7,
   "metadata": {},
   "outputs": [],
   "source": [
    "subnumber = len(s1_beta_path)"
   ]
  },
  {
   "cell_type": "code",
   "execution_count": 8,
   "metadata": {},
   "outputs": [],
   "source": [
    "# sort them\n",
    "s1_beta_path = sorted(s1_beta_path, key=(lambda x: x.split('_')[-3][-3:]))"
   ]
  },
  {
   "cell_type": "code",
   "execution_count": 9,
   "metadata": {},
   "outputs": [],
   "source": [
    "# Load Subjects' data"
   ]
  },
  {
   "cell_type": "code",
   "execution_count": 10,
   "metadata": {},
   "outputs": [],
   "source": [
    "cov_path = '/home/orco/Dokumente/Charitè/fmri/conn_covs_jun_SCD.csv'\n",
    "data = pd.read_csv(cov_path)"
   ]
  },
  {
   "cell_type": "code",
   "execution_count": 11,
   "metadata": {},
   "outputs": [
    {
     "data": {
      "text/html": [
       "<div>\n",
       "<style scoped>\n",
       "    .dataframe tbody tr th:only-of-type {\n",
       "        vertical-align: middle;\n",
       "    }\n",
       "\n",
       "    .dataframe tbody tr th {\n",
       "        vertical-align: top;\n",
       "    }\n",
       "\n",
       "    .dataframe thead th {\n",
       "        text-align: right;\n",
       "    }\n",
       "</style>\n",
       "<table border=\"1\" class=\"dataframe\">\n",
       "  <thead>\n",
       "    <tr style=\"text-align: right;\">\n",
       "      <th></th>\n",
       "      <th>Unnamed: 0</th>\n",
       "      <th>Conn_Nr</th>\n",
       "      <th>NeuroMet_Nr</th>\n",
       "      <th>Age_All</th>\n",
       "      <th>VLMT_Dg7</th>\n",
       "      <th>NeuroMET_MS</th>\n",
       "      <th>Diagnosis</th>\n",
       "      <th>diag2</th>\n",
       "      <th>GSH_All</th>\n",
       "      <th>CRLB</th>\n",
       "      <th>pcc2dmn</th>\n",
       "      <th>pcc2dmn_gm</th>\n",
       "      <th>pcc2gm</th>\n",
       "      <th>pcc2c1</th>\n",
       "      <th>pcc2c2</th>\n",
       "      <th>pcc2c3</th>\n",
       "      <th>pcc2c1_gm</th>\n",
       "      <th>pcc2c2_gm</th>\n",
       "      <th>pcc2c3_gm</th>\n",
       "    </tr>\n",
       "  </thead>\n",
       "  <tbody>\n",
       "    <tr>\n",
       "      <th>0</th>\n",
       "      <td>0</td>\n",
       "      <td>1</td>\n",
       "      <td>3</td>\n",
       "      <td>79</td>\n",
       "      <td>6</td>\n",
       "      <td>0.54</td>\n",
       "      <td>1</td>\n",
       "      <td>2</td>\n",
       "      <td>1094</td>\n",
       "      <td>8</td>\n",
       "      <td>0.762273</td>\n",
       "      <td>0.756705</td>\n",
       "      <td>0.257774</td>\n",
       "      <td>0.184026</td>\n",
       "      <td>0.848625</td>\n",
       "      <td>0.344404</td>\n",
       "      <td>0.198947</td>\n",
       "      <td>0.649464</td>\n",
       "      <td>0.565006</td>\n",
       "    </tr>\n",
       "    <tr>\n",
       "      <th>1</th>\n",
       "      <td>1</td>\n",
       "      <td>2</td>\n",
       "      <td>4</td>\n",
       "      <td>72</td>\n",
       "      <td>14</td>\n",
       "      <td>1.02</td>\n",
       "      <td>0</td>\n",
       "      <td>0</td>\n",
       "      <td>934</td>\n",
       "      <td>12</td>\n",
       "      <td>0.931346</td>\n",
       "      <td>0.860219</td>\n",
       "      <td>0.282091</td>\n",
       "      <td>0.522359</td>\n",
       "      <td>1.085046</td>\n",
       "      <td>0.614115</td>\n",
       "      <td>0.418012</td>\n",
       "      <td>1.038114</td>\n",
       "      <td>0.550157</td>\n",
       "    </tr>\n",
       "    <tr>\n",
       "      <th>2</th>\n",
       "      <td>2</td>\n",
       "      <td>3</td>\n",
       "      <td>6</td>\n",
       "      <td>74</td>\n",
       "      <td>11</td>\n",
       "      <td>1.74</td>\n",
       "      <td>0</td>\n",
       "      <td>0</td>\n",
       "      <td>1238</td>\n",
       "      <td>10</td>\n",
       "      <td>0.548219</td>\n",
       "      <td>0.590011</td>\n",
       "      <td>0.329610</td>\n",
       "      <td>0.266047</td>\n",
       "      <td>0.805199</td>\n",
       "      <td>0.119476</td>\n",
       "      <td>0.230188</td>\n",
       "      <td>0.756401</td>\n",
       "      <td>0.184789</td>\n",
       "    </tr>\n",
       "    <tr>\n",
       "      <th>3</th>\n",
       "      <td>3</td>\n",
       "      <td>4</td>\n",
       "      <td>7</td>\n",
       "      <td>69</td>\n",
       "      <td>8</td>\n",
       "      <td>1.02</td>\n",
       "      <td>-1</td>\n",
       "      <td>1</td>\n",
       "      <td>941</td>\n",
       "      <td>13</td>\n",
       "      <td>1.093036</td>\n",
       "      <td>1.128538</td>\n",
       "      <td>0.602832</td>\n",
       "      <td>0.347373</td>\n",
       "      <td>1.087209</td>\n",
       "      <td>0.979453</td>\n",
       "      <td>0.274833</td>\n",
       "      <td>1.031719</td>\n",
       "      <td>1.039667</td>\n",
       "    </tr>\n",
       "    <tr>\n",
       "      <th>4</th>\n",
       "      <td>4</td>\n",
       "      <td>5</td>\n",
       "      <td>8</td>\n",
       "      <td>68</td>\n",
       "      <td>14</td>\n",
       "      <td>1.53</td>\n",
       "      <td>0</td>\n",
       "      <td>0</td>\n",
       "      <td>1576</td>\n",
       "      <td>8</td>\n",
       "      <td>1.283464</td>\n",
       "      <td>1.264611</td>\n",
       "      <td>0.486241</td>\n",
       "      <td>0.680216</td>\n",
       "      <td>1.074172</td>\n",
       "      <td>0.913704</td>\n",
       "      <td>0.859424</td>\n",
       "      <td>0.958173</td>\n",
       "      <td>0.941854</td>\n",
       "    </tr>\n",
       "  </tbody>\n",
       "</table>\n",
       "</div>"
      ],
      "text/plain": [
       "   Unnamed: 0  Conn_Nr  NeuroMet_Nr  Age_All  VLMT_Dg7  NeuroMET_MS  \\\n",
       "0           0        1            3       79         6         0.54   \n",
       "1           1        2            4       72        14         1.02   \n",
       "2           2        3            6       74        11         1.74   \n",
       "3           3        4            7       69         8         1.02   \n",
       "4           4        5            8       68        14         1.53   \n",
       "\n",
       "   Diagnosis diag2  GSH_All  CRLB   pcc2dmn  pcc2dmn_gm    pcc2gm    pcc2c1  \\\n",
       "0          1     2     1094     8  0.762273    0.756705  0.257774  0.184026   \n",
       "1          0     0      934    12  0.931346    0.860219  0.282091  0.522359   \n",
       "2          0     0     1238    10  0.548219    0.590011  0.329610  0.266047   \n",
       "3         -1     1      941    13  1.093036    1.128538  0.602832  0.347373   \n",
       "4          0     0     1576     8  1.283464    1.264611  0.486241  0.680216   \n",
       "\n",
       "     pcc2c2    pcc2c3  pcc2c1_gm  pcc2c2_gm  pcc2c3_gm  \n",
       "0  0.848625  0.344404   0.198947   0.649464   0.565006  \n",
       "1  1.085046  0.614115   0.418012   1.038114   0.550157  \n",
       "2  0.805199  0.119476   0.230188   0.756401   0.184789  \n",
       "3  1.087209  0.979453   0.274833   1.031719   1.039667  \n",
       "4  1.074172  0.913704   0.859424   0.958173   0.941854  "
      ]
     },
     "execution_count": 11,
     "metadata": {},
     "output_type": "execute_result"
    }
   ],
   "source": [
    "data.head()"
   ]
  },
  {
   "cell_type": "code",
   "execution_count": null,
   "metadata": {},
   "outputs": [],
   "source": []
  },
  {
   "cell_type": "markdown",
   "metadata": {},
   "source": [
    "### thresholding to 0.3 every image (corresponding p ~ 0.01)"
   ]
  },
  {
   "cell_type": "code",
   "execution_count": 15,
   "metadata": {},
   "outputs": [
    {
     "name": "stdout",
     "output_type": "stream",
     "text": [
      "0: done\n",
      "1: done\n",
      "2: done\n",
      "3: done\n",
      "4: done\n",
      "5: done\n",
      "6: done\n",
      "7: done\n",
      "8: done\n",
      "9: done\n",
      "10: done\n",
      "11: done\n",
      "12: done\n",
      "13: done\n",
      "14: done\n",
      "15: done\n",
      "16: done\n",
      "17: done\n",
      "18: done\n",
      "19: done\n",
      "20: done\n",
      "21: done\n",
      "22: done\n",
      "23: done\n",
      "24: done\n",
      "25: done\n",
      "26: done\n",
      "27: done\n",
      "28: done\n",
      "29: done\n",
      "30: done\n",
      "31: done\n",
      "32: done\n",
      "33: done\n",
      "34: done\n",
      "35: done\n",
      "36: done\n",
      "37: done\n",
      "38: done\n",
      "39: done\n",
      "40: done\n",
      "41: done\n",
      "42: done\n",
      "43: done\n",
      "44: done\n",
      "45: done\n",
      "46: done\n",
      "47: done\n",
      "48: done\n",
      "49: done\n",
      "50: done\n",
      "51: done\n",
      "52: done\n",
      "53: done\n",
      "54: done\n",
      "55: done\n",
      "56: done\n",
      "57: done\n",
      "58: done\n",
      "59: done\n",
      "60: done\n",
      "61: done\n",
      "62: done\n",
      "63: done\n",
      "64: done\n",
      "65: done\n",
      "66: done\n",
      "67: done\n",
      "68: done\n",
      "69: done\n",
      "70: done\n",
      "71: done\n",
      "CPU times: user 11.8 s, sys: 29.6 s, total: 41.5 s\n",
      "Wall time: 2min 13s\n"
     ]
    }
   ],
   "source": [
    "%%time\n",
    "def threshold_conn_map(conn_map, threshold = 0.3, subnum = 0):\n",
    "    return (subnum, np.where(conn_map>threshold,conn_map,0))\n",
    "\n",
    "threshold = 0.3\n",
    "conns_thrs = list(range(subnumber)) # initialize conn list\n",
    "\n",
    "p = mp.Pool(processes = 4)\n",
    "for n in range(subnumber):\n",
    "    conn_map = nib.load(s1_beta_path[n]).get_fdata()\n",
    "    res = p.apply_async(threshold_conn_map, (conn_map, threshold, n)).get()\n",
    "    conns_thrs[res[0]] = res[1]\n",
    "    print('{}: done'.format(res[0]))"
   ]
  },
  {
   "cell_type": "code",
   "execution_count": 21,
   "metadata": {},
   "outputs": [
    {
     "data": {
      "text/plain": [
       "(181, 217, 181)"
      ]
     },
     "execution_count": 21,
     "metadata": {},
     "output_type": "execute_result"
    }
   ],
   "source": [
    "conns_thrs[0].shape"
   ]
  },
  {
   "cell_type": "code",
   "execution_count": 24,
   "metadata": {},
   "outputs": [
    {
     "name": "stdout",
     "output_type": "stream",
     "text": [
      "CPU times: user 3 s, sys: 352 ms, total: 3.35 s\n",
      "Wall time: 3.24 s\n"
     ]
    },
    {
     "data": {
      "text/plain": [
       "<nilearn.plotting.displays.OrthoSlicer at 0x7f3d4252a3d0>"
      ]
     },
     "execution_count": 24,
     "metadata": {},
     "output_type": "execute_result"
    },
    {
     "data": {
      "image/png": "[encoded data removed]",
      "text/plain": [
       "<Figure size 525.6x187.2 with 5 Axes>"
      ]
     },
     "metadata": {},
     "output_type": "display_data"
    }
   ],
   "source": [
    "%%time\n",
    "# Plot a thresholded conn_map\n",
    "i = conns_thrs[12]\n",
    "plotting.plot_stat_map(nib.Nifti1Image(i, example_img.affine, header=example_img.header), cut_coords=(0,42,22))"
   ]
  },
  {
   "cell_type": "code",
   "execution_count": 25,
   "metadata": {},
   "outputs": [
    {
     "name": "stdout",
     "output_type": "stream",
     "text": [
      "CPU times: user 4.09 s, sys: 7.79 s, total: 11.9 s\n",
      "Wall time: 32.4 s\n"
     ]
    }
   ],
   "source": [
    "%%time    \n",
    "def avg_conn(conns_thrs, subnum):\n",
    "    return (subnum, conns_thrs.sum()/conns_thrs.astype(bool).sum())\n",
    "\n",
    "avg_conns = list(range(subnumber)) # initialize conn list\n",
    "\n",
    "p = mp.Pool(processes = 4)\n",
    "for subnum in range(subnumber):\n",
    "    res = p.apply_async(avg_conn,(conns_thrs[subnum], subnum)).get()\n",
    "    avg_conns[res[0]] = res[1]"
   ]
  },
  {
   "cell_type": "code",
   "execution_count": 26,
   "metadata": {},
   "outputs": [],
   "source": [
    "data['mrs_to_voxel_thr03_masked'] = avg_conns"
   ]
  },
  {
   "cell_type": "code",
   "execution_count": 52,
   "metadata": {},
   "outputs": [
    {
     "data": {
      "text/plain": [
       "<AxesSubplot:xlabel='diag2', ylabel='mrs_to_voxel_thr03_masked'>"
      ]
     },
     "execution_count": 52,
     "metadata": {},
     "output_type": "execute_result"
    },
    {
     "data": {
      "image/png": "[encoded data removed]",
      "text/plain": [
       "<Figure size 432x288 with 1 Axes>"
      ]
     },
     "metadata": {
      "needs_background": "light"
     },
     "output_type": "display_data"
    }
   ],
   "source": [
    "sns.boxplot(x='diag2', y='mrs_to_voxel_thr03_masked', data=data)"
   ]
  },
  {
   "cell_type": "code",
   "execution_count": 53,
   "metadata": {},
   "outputs": [
    {
     "data": {
      "text/plain": [
       "F_onewayResult(statistic=1.0381466887290531, pvalue=0.3813503711465609)"
      ]
     },
     "execution_count": 53,
     "metadata": {},
     "output_type": "execute_result"
    }
   ],
   "source": [
    "stats.f_oneway(data[(data.diag2=='0')].mrs_to_voxel_thr03_masked.values,\n",
    "              data[(data.diag2=='0,5')].mrs_to_voxel_thr03_masked.values,\n",
    "              data[(data.diag2=='1')].mrs_to_voxel_thr03_masked.values,\n",
    "              data[(data.diag2=='2')].mrs_to_voxel_thr03_masked.values)"
   ]
  },
  {
   "cell_type": "code",
   "execution_count": 31,
   "metadata": {},
   "outputs": [
    {
     "data": {
      "text/plain": [
       "<AxesSubplot:xlabel='GSH_All', ylabel='mrs_to_voxel_thr03_masked'>"
      ]
     },
     "execution_count": 31,
     "metadata": {},
     "output_type": "execute_result"
    },
    {
     "data": {
      "image/png": "[encoded data removed]",
      "text/plain": [
       "<Figure size 432x288 with 1 Axes>"
      ]
     },
     "metadata": {
      "needs_background": "light"
     },
     "output_type": "display_data"
    }
   ],
   "source": [
    "sns.scatterplot(x='GSH_All', y='mrs_to_voxel_thr03_masked', hue='diag2', data=data)"
   ]
  },
  {
   "cell_type": "code",
   "execution_count": 50,
   "metadata": {},
   "outputs": [
    {
     "data": {
      "text/plain": [
       "(-0.14778181644547653, 0.21540504221446777)"
      ]
     },
     "execution_count": 50,
     "metadata": {},
     "output_type": "execute_result"
    }
   ],
   "source": [
    "stats.pearsonr(data.GSH_All.values, data.mrs_to_voxel_thr03_masked.values)"
   ]
  },
  {
   "cell_type": "code",
   "execution_count": 32,
   "metadata": {},
   "outputs": [
    {
     "data": {
      "text/plain": [
       "<AxesSubplot:xlabel='pcc2dmn_gm', ylabel='mrs_to_voxel_thr03_masked'>"
      ]
     },
     "execution_count": 32,
     "metadata": {},
     "output_type": "execute_result"
    },
    {
     "data": {
      "image/png": "[encoded data removed]",
      "text/plain": [
       "<Figure size 432x288 with 1 Axes>"
      ]
     },
     "metadata": {
      "needs_background": "light"
     },
     "output_type": "display_data"
    }
   ],
   "source": [
    "sns.scatterplot(x='pcc2dmn_gm', y='mrs_to_voxel_thr03_masked', hue='diag2', data=data)"
   ]
  },
  {
   "cell_type": "code",
   "execution_count": 51,
   "metadata": {},
   "outputs": [
    {
     "data": {
      "text/plain": [
       "(0.43280511227261814, 0.000146417447442382)"
      ]
     },
     "execution_count": 51,
     "metadata": {},
     "output_type": "execute_result"
    }
   ],
   "source": [
    "stats.pearsonr(data.pcc2dmn_gm.values, data.mrs_to_voxel_thr03_masked.values)"
   ]
  },
  {
   "cell_type": "code",
   "execution_count": 49,
   "metadata": {},
   "outputs": [],
   "source": [
    "data.to_csv('/home/orco/Dokumente/Charitè/fmri/conn_covs_jun_SCD_mrs2vox_thr03masked.csv')"
   ]
  },
  {
   "cell_type": "code",
   "execution_count": 54,
   "metadata": {},
   "outputs": [],
   "source": [
    "np.savez('./conns_thrs.npz', conns_thrs=conns_thrs)"
   ]
  },
  {
   "cell_type": "code",
   "execution_count": null,
   "metadata": {},
   "outputs": [],
   "source": []
  }
 ],
 "metadata": {
  "kernelspec": {
   "display_name": "Python 3",
   "language": "python",
   "name": "python3"
  },
  "language_info": {
   "codemirror_mode": {
    "name": "ipython",
    "version": 3
   },
   "file_extension": ".py",
   "mimetype": "text/x-python",
   "name": "python",
   "nbconvert_exporter": "python",
   "pygments_lexer": "ipython3",
   "version": "3.7.9"
  }
 },
 "nbformat": 4,
 "nbformat_minor": 4
}
