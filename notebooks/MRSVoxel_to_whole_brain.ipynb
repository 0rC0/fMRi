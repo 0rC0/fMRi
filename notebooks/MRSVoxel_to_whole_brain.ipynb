{
 "cells": [
  {
   "cell_type": "markdown",
   "metadata": {},
   "source": [
    "# MRS_Voxel-to-Voxel\n",
    "\n",
    "Prefixes:\n",
    "=========\n",
    "-) BETA_ nii the BETA files contain the Fisher transformed coefficients ( z=atanh(r) ). When the Analyses.measure is set to 3 (regression) or 4 (multivariate regression), then the BETA files contain the regression coefficients (beta values) and the corr files should be disregarded (they actually contain tanh(beta) but these are not particularly meaningful measures). \n",
    "\n",
    "-) corr_ nii When the Analyses.measure field is set to 1 (bivariate correlation) or 2 (semi-partial correlation) the corr fles contain the correlation coefficients (r) (or semi-partial correlation coefficients when Analyses.measure is set to 2)..... corr_* files are only generated if you select the corresponding option in the Setup->Options tab ('Create first-level seed-to-voxel r-maps').\n",
    "\n",
    "-) p_corr nii the p_corr and pFDR images simply contain the uncorrected and FDR-corrected p-values, respectively\n",
    "\n",
    "-) pFDR nii the p_corr and pFDR images simply contain the uncorrected and FDR-corrected p-values, respectively\n",
    "\n",
    "-) resultsROI mat\n",
    "\n",
    "-) se nii\n",
    "-) "
   ]
  },
  {
   "cell_type": "markdown",
   "metadata": {},
   "source": [
    "## Sources"
   ]
  },
  {
   "cell_type": "code",
   "execution_count": 1,
   "metadata": {},
   "outputs": [],
   "source": [
    "import glob\n",
    "import nibabel as nib\n",
    "import pandas as pd\n",
    "import seaborn as sns\n",
    "from nilearn import plotting\n",
    "import numpy as np\n",
    "from scipy.io import loadmat\n",
    "from scipy import stats\n",
    "import multiprocess as mp"
   ]
  },
  {
   "cell_type": "code",
   "execution_count": 2,
   "metadata": {},
   "outputs": [],
   "source": [
    "mat = loadmat('/media/veracrypt1/NeuroMet_fmri_2/MRS_Voxel_to_Voxel/_list_sources.mat')"
   ]
  },
  {
   "cell_type": "code",
   "execution_count": 3,
   "metadata": {},
   "outputs": [
    {
     "data": {
      "text/plain": [
       "array([[array(['MRS_Voxel'], dtype='<U9'),\n",
       "        array(['MRS_Voxel_MNI2009'], dtype='<U17')]], dtype=object)"
      ]
     },
     "execution_count": 3,
     "metadata": {},
     "output_type": "execute_result"
    }
   ],
   "source": [
    "mat['sourcenames']"
   ]
  },
  {
   "cell_type": "code",
   "execution_count": 4,
   "metadata": {},
   "outputs": [],
   "source": [
    "# MRS Voxel is source 2"
   ]
  },
  {
   "cell_type": "code",
   "execution_count": null,
   "metadata": {},
   "outputs": [],
   "source": []
  },
  {
   "cell_type": "code",
   "execution_count": 5,
   "metadata": {},
   "outputs": [
    {
     "data": {
      "text/plain": [
       "95"
      ]
     },
     "execution_count": 5,
     "metadata": {},
     "output_type": "execute_result"
    }
   ],
   "source": [
    "# Grab all MRS-Voxel-to-whole-Brain connectivity maps niftis\n",
    "s1_beta_path = glob.glob('/media/veracrypt1/NeuroMet_fmri_2/MRS_Voxel_to_Voxel/BETA_Subject0*_Condition001_Source002.nii')\n",
    "len(s1_beta_path)"
   ]
  },
  {
   "cell_type": "code",
   "execution_count": 6,
   "metadata": {},
   "outputs": [],
   "source": [
    "example_img = nib.load(s1_beta_path[0])"
   ]
  },
  {
   "cell_type": "code",
   "execution_count": 7,
   "metadata": {},
   "outputs": [],
   "source": [
    "subnumber = len(s1_beta_path)"
   ]
  },
  {
   "cell_type": "code",
   "execution_count": 8,
   "metadata": {},
   "outputs": [],
   "source": [
    "# sort them\n",
    "s1_beta_path = sorted(s1_beta_path, key=(lambda x: x.split('_')[-3][-3:]))"
   ]
  },
  {
   "cell_type": "markdown",
   "metadata": {},
   "source": [
    "### thresholding to 0.3 every image (corresponding p ~ 0.01)"
   ]
  },
  {
   "cell_type": "code",
   "execution_count": 9,
   "metadata": {},
   "outputs": [
    {
     "name": "stdout",
     "output_type": "stream",
     "text": [
      "CPU times: user 18.1 s, sys: 53.1 s, total: 1min 11s\n",
      "Wall time: 3min 41s\n"
     ]
    }
   ],
   "source": [
    "%%time\n",
    "def threshold_conn_map(conn_map, threshold = 0.3, subnum = 0):\n",
    "    return (subnum, np.where(conn_map>threshold,conn_map,0))\n",
    "\n",
    "threshold = 0.3\n",
    "conns_thrs = list(range(subnumber)) # initialize conn list\n",
    "\n",
    "p = mp.Pool(processes = 4)\n",
    "for n in range(subnumber):\n",
    "    conn_map = nib.load(s1_beta_path[n]).get_fdata()\n",
    "    res = p.apply_async(threshold_conn_map, (conn_map, threshold, n)).get()\n",
    "    conns_thrs[res[0]] = res[1]\n",
    "    #print('{}: done'.format(res[0]))"
   ]
  },
  {
   "cell_type": "code",
   "execution_count": null,
   "metadata": {},
   "outputs": [],
   "source": [
    "conns_thrs[0].shape"
   ]
  },
  {
   "cell_type": "code",
   "execution_count": null,
   "metadata": {},
   "outputs": [],
   "source": [
    "%%time\n",
    "# Plot a thresholded conn_map\n",
    "i = conns_thrs[34]\n",
    "plotting.plot_stat_map(nib.Nifti1Image(i, example_img.affine, header=example_img.header), cut_coords=(0,42,22))"
   ]
  },
  {
   "cell_type": "code",
   "execution_count": null,
   "metadata": {},
   "outputs": [],
   "source": [
    "#np.savez('./conns_thresholded03.npz', conns_thrs=conns_thrs)\n",
    "np.save('./conns_thresholded03.np', conns_thrs)"
   ]
  },
  {
   "cell_type": "code",
   "execution_count": null,
   "metadata": {},
   "outputs": [],
   "source": [
    "#conns_thrs = np.load('./conns_thresholded03.npz')['conns_thrs']"
   ]
  },
  {
   "cell_type": "code",
   "execution_count": null,
   "metadata": {},
   "outputs": [],
   "source": [
    "conns_thrs.shape"
   ]
  },
  {
   "cell_type": "code",
   "execution_count": null,
   "metadata": {},
   "outputs": [],
   "source": [
    "# GM Mask"
   ]
  },
  {
   "cell_type": "code",
   "execution_count": 10,
   "metadata": {},
   "outputs": [],
   "source": [
    "gm = nib.load('/home/orco/Dokumente/Charitè/MNITemplate/inst/extdata/MNI152_T1_1mm_Brain_FAST_seg.nii.gz')"
   ]
  },
  {
   "cell_type": "code",
   "execution_count": 11,
   "metadata": {},
   "outputs": [],
   "source": [
    "gm_mask = gm.get_fdata()\n",
    "gm_mask = np.where(gm_mask==2, gm_mask,0)"
   ]
  },
  {
   "cell_type": "code",
   "execution_count": 12,
   "metadata": {},
   "outputs": [],
   "source": [
    "gm = nib.Nifti1Image(gm_mask, gm.affine, header=gm.header)"
   ]
  },
  {
   "cell_type": "code",
   "execution_count": 13,
   "metadata": {},
   "outputs": [],
   "source": [
    "from nilearn import image\n",
    "gm = image.resample_img(gm, target_affine=example_img.affine, target_shape=conns_thrs[0].shape)"
   ]
  },
  {
   "cell_type": "code",
   "execution_count": 14,
   "metadata": {},
   "outputs": [],
   "source": [
    "# Grey Matter mask\n",
    "gm_mask = gm.get_fdata()\n",
    "gm_mask = np.where(gm_mask>0,1,0)"
   ]
  },
  {
   "cell_type": "code",
   "execution_count": 15,
   "metadata": {},
   "outputs": [],
   "source": [
    "gm = nib.Nifti1Image(gm_mask, example_img.affine, header=example_img.header)"
   ]
  },
  {
   "cell_type": "code",
   "execution_count": 16,
   "metadata": {},
   "outputs": [],
   "source": [
    "nib.save(gm,'gm.nii.gz')"
   ]
  },
  {
   "cell_type": "code",
   "execution_count": 17,
   "metadata": {},
   "outputs": [
    {
     "data": {
      "text/plain": [
       "<nilearn.plotting.displays.OrthoSlicer at 0x7efdb6b45250>"
      ]
     },
     "execution_count": 17,
     "metadata": {},
     "output_type": "execute_result"
    },
    {
     "data": {
      "image/png": "[encoded data removed]",
      "text/plain": [
       "<Figure size 475.2x187.2 with 4 Axes>"
      ]
     },
     "metadata": {},
     "output_type": "display_data"
    }
   ],
   "source": [
    "plotting.plot_roi(gm)"
   ]
  },
  {
   "cell_type": "code",
   "execution_count": null,
   "metadata": {},
   "outputs": [],
   "source": []
  },
  {
   "cell_type": "code",
   "execution_count": 18,
   "metadata": {},
   "outputs": [],
   "source": [
    "# Apply GM Mask and calculate average"
   ]
  },
  {
   "cell_type": "code",
   "execution_count": 19,
   "metadata": {},
   "outputs": [
    {
     "name": "stdout",
     "output_type": "stream",
     "text": [
      "CPU times: user 11.9 s, sys: 25.5 s, total: 37.5 s\n",
      "Wall time: 2min\n"
     ]
    }
   ],
   "source": [
    "%%time    \n",
    "def avg_conn(conns_thrs, gm_mask, subnum):\n",
    "    conn_thrs_gm = conns_thrs * gm_mask\n",
    "    return (subnum, conn_thrs_gm.sum()/conn_thrs_gm.astype(bool).sum())\n",
    "\n",
    "avg_conns = list(range(subnumber)) # initialize conn list\n",
    "\n",
    "p = mp.Pool(processes = 4)\n",
    "for subnum in range(subnumber):\n",
    "    res = p.apply_async(avg_conn,(conns_thrs[subnum], gm_mask, subnum)).get()\n",
    "    #res = p.apply_async(avg_conn,(conns_thrs.pop(), gm_mask, subnum)).get()\n",
    "    avg_conns[res[0]] = res[1]"
   ]
  },
  {
   "cell_type": "code",
   "execution_count": null,
   "metadata": {},
   "outputs": [],
   "source": []
  },
  {
   "cell_type": "code",
   "execution_count": 20,
   "metadata": {},
   "outputs": [],
   "source": [
    "# Load data"
   ]
  },
  {
   "cell_type": "code",
   "execution_count": 21,
   "metadata": {},
   "outputs": [],
   "source": [
    "data = pd.read_csv('/home/orco/Dokumente/Charitè/GSH_fMRI/data/data_spheres.csv')"
   ]
  },
  {
   "cell_type": "code",
   "execution_count": 22,
   "metadata": {},
   "outputs": [
    {
     "data": {
      "text/html": [
       "<div>\n",
       "<style scoped>\n",
       "    .dataframe tbody tr th:only-of-type {\n",
       "        vertical-align: middle;\n",
       "    }\n",
       "\n",
       "    .dataframe tbody tr th {\n",
       "        vertical-align: top;\n",
       "    }\n",
       "\n",
       "    .dataframe thead th {\n",
       "        text-align: right;\n",
       "    }\n",
       "</style>\n",
       "<table border=\"1\" class=\"dataframe\">\n",
       "  <thead>\n",
       "    <tr style=\"text-align: right;\">\n",
       "      <th></th>\n",
       "      <th>NeuroMET_num</th>\n",
       "      <th>ID_l</th>\n",
       "      <th>diag</th>\n",
       "      <th>QC</th>\n",
       "      <th>pcc_dmn_sph</th>\n",
       "      <th>pcc_pcc_sph</th>\n",
       "      <th>pcc_mpfc_sph</th>\n",
       "      <th>pcc_lipl_sph</th>\n",
       "      <th>pcc_ripl_sph</th>\n",
       "      <th>mpfc_mpfc_sph</th>\n",
       "      <th>mpfc_lipl_sph</th>\n",
       "      <th>mpfc_ripl_sph</th>\n",
       "      <th>lipl_lipl_sph</th>\n",
       "      <th>lipl_ripl_sph</th>\n",
       "      <th>ripl_ripl_sph</th>\n",
       "      <th>CONN_ID</th>\n",
       "      <th>ID</th>\n",
       "      <th>GSH</th>\n",
       "      <th>GSH_CRLBp</th>\n",
       "      <th>Age</th>\n",
       "    </tr>\n",
       "  </thead>\n",
       "  <tbody>\n",
       "    <tr>\n",
       "      <th>0</th>\n",
       "      <td>3</td>\n",
       "      <td>sub-NeuroMET003</td>\n",
       "      <td>2.0</td>\n",
       "      <td>G</td>\n",
       "      <td>1.049036</td>\n",
       "      <td>NaN</td>\n",
       "      <td>0.343069</td>\n",
       "      <td>0.899379</td>\n",
       "      <td>0.924406</td>\n",
       "      <td>NaN</td>\n",
       "      <td>0.230542</td>\n",
       "      <td>0.053121</td>\n",
       "      <td>NaN</td>\n",
       "      <td>0.765054</td>\n",
       "      <td>NaN</td>\n",
       "      <td>1</td>\n",
       "      <td>NeuroMet003</td>\n",
       "      <td>1.09</td>\n",
       "      <td>0.09</td>\n",
       "      <td>79</td>\n",
       "    </tr>\n",
       "    <tr>\n",
       "      <th>1</th>\n",
       "      <td>4</td>\n",
       "      <td>sub-NeuroMET004</td>\n",
       "      <td>0.0</td>\n",
       "      <td>G</td>\n",
       "      <td>1.750689</td>\n",
       "      <td>NaN</td>\n",
       "      <td>0.993763</td>\n",
       "      <td>1.508367</td>\n",
       "      <td>1.723746</td>\n",
       "      <td>NaN</td>\n",
       "      <td>0.951099</td>\n",
       "      <td>0.993852</td>\n",
       "      <td>NaN</td>\n",
       "      <td>1.557998</td>\n",
       "      <td>NaN</td>\n",
       "      <td>2</td>\n",
       "      <td>NeuroMet004</td>\n",
       "      <td>0.93</td>\n",
       "      <td>0.11</td>\n",
       "      <td>72</td>\n",
       "    </tr>\n",
       "    <tr>\n",
       "      <th>2</th>\n",
       "      <td>6</td>\n",
       "      <td>sub-NeuroMET006</td>\n",
       "      <td>0.0</td>\n",
       "      <td>G</td>\n",
       "      <td>1.016192</td>\n",
       "      <td>NaN</td>\n",
       "      <td>0.316543</td>\n",
       "      <td>1.024255</td>\n",
       "      <td>1.047236</td>\n",
       "      <td>NaN</td>\n",
       "      <td>0.180779</td>\n",
       "      <td>0.381759</td>\n",
       "      <td>NaN</td>\n",
       "      <td>0.734609</td>\n",
       "      <td>NaN</td>\n",
       "      <td>3</td>\n",
       "      <td>NeuroMet006</td>\n",
       "      <td>1.24</td>\n",
       "      <td>0.12</td>\n",
       "      <td>74</td>\n",
       "    </tr>\n",
       "    <tr>\n",
       "      <th>3</th>\n",
       "      <td>7</td>\n",
       "      <td>sub-NeuroMET007</td>\n",
       "      <td>1.0</td>\n",
       "      <td>G</td>\n",
       "      <td>1.017692</td>\n",
       "      <td>NaN</td>\n",
       "      <td>0.455403</td>\n",
       "      <td>0.817241</td>\n",
       "      <td>0.818532</td>\n",
       "      <td>NaN</td>\n",
       "      <td>0.312894</td>\n",
       "      <td>0.246930</td>\n",
       "      <td>NaN</td>\n",
       "      <td>0.804161</td>\n",
       "      <td>NaN</td>\n",
       "      <td>4</td>\n",
       "      <td>NeuroMet007</td>\n",
       "      <td>0.94</td>\n",
       "      <td>0.12</td>\n",
       "      <td>69</td>\n",
       "    </tr>\n",
       "    <tr>\n",
       "      <th>4</th>\n",
       "      <td>8</td>\n",
       "      <td>sub-NeuroMET008</td>\n",
       "      <td>0.0</td>\n",
       "      <td>G</td>\n",
       "      <td>0.994304</td>\n",
       "      <td>NaN</td>\n",
       "      <td>0.857699</td>\n",
       "      <td>0.639962</td>\n",
       "      <td>0.776978</td>\n",
       "      <td>NaN</td>\n",
       "      <td>0.336502</td>\n",
       "      <td>0.629242</td>\n",
       "      <td>NaN</td>\n",
       "      <td>0.537692</td>\n",
       "      <td>NaN</td>\n",
       "      <td>5</td>\n",
       "      <td>NeuroMet008</td>\n",
       "      <td>1.58</td>\n",
       "      <td>0.13</td>\n",
       "      <td>68</td>\n",
       "    </tr>\n",
       "  </tbody>\n",
       "</table>\n",
       "</div>"
      ],
      "text/plain": [
       "   NeuroMET_num             ID_l  diag QC  pcc_dmn_sph  pcc_pcc_sph  \\\n",
       "0             3  sub-NeuroMET003   2.0  G     1.049036          NaN   \n",
       "1             4  sub-NeuroMET004   0.0  G     1.750689          NaN   \n",
       "2             6  sub-NeuroMET006   0.0  G     1.016192          NaN   \n",
       "3             7  sub-NeuroMET007   1.0  G     1.017692          NaN   \n",
       "4             8  sub-NeuroMET008   0.0  G     0.994304          NaN   \n",
       "\n",
       "   pcc_mpfc_sph  pcc_lipl_sph  pcc_ripl_sph  mpfc_mpfc_sph  mpfc_lipl_sph  \\\n",
       "0      0.343069      0.899379      0.924406            NaN       0.230542   \n",
       "1      0.993763      1.508367      1.723746            NaN       0.951099   \n",
       "2      0.316543      1.024255      1.047236            NaN       0.180779   \n",
       "3      0.455403      0.817241      0.818532            NaN       0.312894   \n",
       "4      0.857699      0.639962      0.776978            NaN       0.336502   \n",
       "\n",
       "   mpfc_ripl_sph  lipl_lipl_sph  lipl_ripl_sph  ripl_ripl_sph  CONN_ID  \\\n",
       "0       0.053121            NaN       0.765054            NaN        1   \n",
       "1       0.993852            NaN       1.557998            NaN        2   \n",
       "2       0.381759            NaN       0.734609            NaN        3   \n",
       "3       0.246930            NaN       0.804161            NaN        4   \n",
       "4       0.629242            NaN       0.537692            NaN        5   \n",
       "\n",
       "            ID   GSH  GSH_CRLBp  Age  \n",
       "0  NeuroMet003  1.09       0.09   79  \n",
       "1  NeuroMet004  0.93       0.11   72  \n",
       "2  NeuroMet006  1.24       0.12   74  \n",
       "3  NeuroMet007  0.94       0.12   69  \n",
       "4  NeuroMet008  1.58       0.13   68  "
      ]
     },
     "execution_count": 22,
     "metadata": {},
     "output_type": "execute_result"
    }
   ],
   "source": [
    "data.head()"
   ]
  },
  {
   "cell_type": "code",
   "execution_count": 23,
   "metadata": {},
   "outputs": [],
   "source": [
    "data['mrs_to_voxel_thr03_masked_gm'] = avg_conns"
   ]
  },
  {
   "cell_type": "code",
   "execution_count": 25,
   "metadata": {},
   "outputs": [],
   "source": [
    "data.to_csv('../data/data_all_fcs.csv')"
   ]
  },
  {
   "cell_type": "code",
   "execution_count": 24,
   "metadata": {},
   "outputs": [
    {
     "data": {
      "text/plain": [
       "<AxesSubplot:xlabel='diag', ylabel='mrs_to_voxel_thr03_masked_gm'>"
      ]
     },
     "execution_count": 24,
     "metadata": {},
     "output_type": "execute_result"
    },
    {
     "data": {
      "image/png": "[encoded data removed]",
      "text/plain": [
       "<Figure size 432x288 with 1 Axes>"
      ]
     },
     "metadata": {
      "needs_background": "light"
     },
     "output_type": "display_data"
    }
   ],
   "source": [
    "sns.boxplot(x='diag', y='mrs_to_voxel_thr03_masked_gm', data=data)"
   ]
  },
  {
   "cell_type": "code",
   "execution_count": null,
   "metadata": {},
   "outputs": [],
   "source": [
    "stats.f_oneway(data[(data.diag2=='0')].mrs_to_voxel_thr03_masked_gm.values,\n",
    "              data[(data.diag2=='0,5')].mrs_to_voxel_thr03_masked_gm.values,\n",
    "              data[(data.diag2=='1')].mrs_to_voxel_thr03_masked_gm.values,\n",
    "              data[(data.diag2=='2')].mrs_to_voxel_thr03_masked_gm.values)"
   ]
  },
  {
   "cell_type": "code",
   "execution_count": null,
   "metadata": {},
   "outputs": [],
   "source": [
    "sns.scatterplot(x='GSH', y='mrs_to_voxel_thr03_masked_gm', hue='diag', data=data)"
   ]
  },
  {
   "cell_type": "code",
   "execution_count": null,
   "metadata": {},
   "outputs": [],
   "source": [
    "stats.pearsonr(data.GSH_All.values, data.mrs_to_voxel_thr03_masked_gm.values)"
   ]
  },
  {
   "cell_type": "code",
   "execution_count": null,
   "metadata": {},
   "outputs": [],
   "source": [
    "sns.scatterplot(x='pcc_dmn_sph', y='mrs_to_voxel_thr03_masked_gm', hue='diag', data=data)"
   ]
  },
  {
   "cell_type": "code",
   "execution_count": null,
   "metadata": {},
   "outputs": [],
   "source": [
    "stats.pearsonr(data.pcc2dmn_gm.values, data.mrs_to_voxel_thr03_masked_gm.values)"
   ]
  }
 ],
 "metadata": {
  "kernelspec": {
   "display_name": "Python 3",
   "language": "python",
   "name": "python3"
  },
  "language_info": {
   "codemirror_mode": {
    "name": "ipython",
    "version": 3
   },
   "file_extension": ".py",
   "mimetype": "text/x-python",
   "name": "python",
   "nbconvert_exporter": "python",
   "pygments_lexer": "ipython3",
   "version": "3.7.9"
  }
 },
 "nbformat": 4,
 "nbformat_minor": 4
}
