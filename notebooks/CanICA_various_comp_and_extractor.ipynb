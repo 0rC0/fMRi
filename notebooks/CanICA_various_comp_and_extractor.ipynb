{
 "cells": [
  {
   "cell_type": "markdown",
   "metadata": {},
   "source": [
    "# CanICA"
   ]
  },
  {
   "cell_type": "code",
   "execution_count": null,
   "metadata": {},
   "outputs": [],
   "source": [
    "# ToDo: Add References and credits to NiLearn documentation"
   ]
  },
  {
   "cell_type": "code",
   "execution_count": null,
   "metadata": {},
   "outputs": [],
   "source": [
    "import glob\n",
    "from nilearn.decomposition import CanICA\n",
    "from nilearn.image import iter_img\n",
    "from nilearn.plotting import plot_stat_map, show"
   ]
  },
  {
   "cell_type": "code",
   "execution_count": null,
   "metadata": {},
   "outputs": [],
   "source": [
    "# Visualization of resting state networks\n",
    "# Show networks using plotting utilities\n",
    "from nilearn import plotting"
   ]
  },
  {
   "cell_type": "code",
   "execution_count": null,
   "metadata": {},
   "outputs": [],
   "source": [
    "import pandas as pd\n",
    "import os"
   ]
  },
  {
   "cell_type": "code",
   "execution_count": null,
   "metadata": {},
   "outputs": [],
   "source": [
    "os.chdir('/home/WorkFlowTemp/functional_analysis_mar_2019/20190701')"
   ]
  },
  {
   "cell_type": "code",
   "execution_count": null,
   "metadata": {},
   "outputs": [],
   "source": [
    "# CONN denoised data\n",
    "denoised_data = glob.glob('./conn_3/results/preprocessing/niftiDATA_Subject*_Condition000.nii')"
   ]
  },
  {
   "cell_type": "code",
   "execution_count": null,
   "metadata": {},
   "outputs": [],
   "source": [
    "denoised_data.sort()\n",
    "denoised_data[0]"
   ]
  },
  {
   "cell_type": "markdown",
   "metadata": {},
   "source": [
    "## Indipendent Component Analysis"
   ]
  },
  {
   "cell_type": "code",
   "execution_count": null,
   "metadata": {
    "scrolled": true
   },
   "outputs": [],
   "source": [
    "ica = CanICA(n_components=5,\n",
    "                memory=\"nilearn_cache/alldiag5\", memory_level=2,\n",
    "                threshold='auto',\n",
    "                n_init=1,\n",
    "                verbose=1,\n",
    "                mask_strategy='template',\n",
    "                n_jobs = 1)\n",
    "ica.fit(denoised_data)\n",
    "canica_components_img = ica.components_img_\n",
    "plotting.plot_prob_atlas(canica_components_img, \n",
    "                         view_type='filled_contours',\n",
    "                         title='CanICA_alldiag_{}c_templatemask maps'.format(n_components),\n",
    "                         output_file = './CanICA_alldiag_{}c_templatemask_prob_atlas.png'.format(n_components))\n",
    "for i, cur_img in enumerate(iter_img(canica_components_img)):\n",
    "    plotting.plot_stat_map(cur_img, title='CanICA_alldiag_{n_components}c_templatemask map_{component}'.format(n_components=n_components, component=i))\n",
    "    cur_img.to_filename('CanICA_alldiag_{n_components}c_templatemask_ROI_{component}.nii.gz'.format(n_components=n_components, component=i))"
   ]
  },
  {
   "cell_type": "markdown",
   "metadata": {},
   "source": [
    "## Split every ICA component in the individuals ROIs"
   ]
  },
  {
   "cell_type": "code",
   "execution_count": null,
   "metadata": {},
   "outputs": [],
   "source": [
    "# Import Region Extractor algorithm from regions module\n",
    "# threshold=0.5 indicates that we keep nominal of amount nonzero voxels across all\n",
    "# maps, less the threshold means that more intense non-voxels will be survived.\n",
    "from nilearn.regions import RegionExtractor\n",
    "\n",
    "extractor = RegionExtractor(canica_components_img, threshold=0.5,\n",
    "                            thresholding_strategy='ratio_n_voxels',\n",
    "                            extractor='local_regions',\n",
    "                            standardize=True, min_region_size=1350)\n",
    "# Just call fit() to process for regions extraction\n",
    "extractor.fit()\n",
    "# Extracted regions are stored in regions_img_\n",
    "regions_extracted_img = extractor.regions_img_\n",
    "# Each region index is stored in index_\n",
    "regions_index = extractor.index_\n",
    "# Total number of regions extracted\n",
    "n_regions_extracted = regions_extracted_img.shape[-1]\n",
    "\n",
    "# Visualization of region extraction results\n",
    "title = ('%d regions are extracted from %d components.'\n",
    "         '\\nEach separate color of region indicates extracted region'\n",
    "         % (n_regions_extracted, 5))\n",
    "plotting.plot_prob_atlas(regions_extracted_img, view_type='filled_contours',\n",
    "                         title=title)\n",
    "\n",
    "for i, cur_img in enumerate(iter_img(regions_extracted_img)):\n",
    "    plotting.plot_stat_map(cur_img, title='Extractor_alldiag_5c_templatemask map_{component}'.format(component=i))\n",
    "    cur_img.to_filename('Extractor_alldiag_5c_templatemask_ROI_{component}.nii.gz'.format(component=i))"
   ]
  }
 ],
 "metadata": {
  "kernelspec": {
   "display_name": "Python 3",
   "language": "python",
   "name": "python3"
  },
  "language_info": {
   "codemirror_mode": {
    "name": "ipython",
    "version": 3
   },
   "file_extension": ".py",
   "mimetype": "text/x-python",
   "name": "python",
   "nbconvert_exporter": "python",
   "pygments_lexer": "ipython3",
   "version": "3.7.7"
  }
 },
 "nbformat": 4,
 "nbformat_minor": 2
}
