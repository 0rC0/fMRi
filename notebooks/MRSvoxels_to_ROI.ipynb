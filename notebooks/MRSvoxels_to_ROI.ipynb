{
 "cells": [
  {
   "cell_type": "code",
   "execution_count": 1,
   "metadata": {},
   "outputs": [],
   "source": [
    "import csv\n",
    "import json\n",
    "import os\n",
    "import numpy as np\n",
    "import nibabel as nib\n",
    "import pandas as pd\n",
    "import suspect"
   ]
  },
  {
   "cell_type": "markdown",
   "metadata": {},
   "source": [
    "# Make a DataFrame with .rda headers' data"
   ]
  },
  {
   "cell_type": "code",
   "execution_count": 2,
   "metadata": {},
   "outputs": [],
   "source": [
    "from suspect import MRSData, transformation_matrix\n",
    "\n",
    "import numpy\n",
    "import struct\n",
    "import re\n",
    "\n",
    "# The RDA format consists of a large number of key value pairs followed by raw\n",
    "# data. The values need to be cast into different datatypes depending on the\n",
    "# key, this dictionary stores a mapping of key to datatype.\n",
    "\n",
    "rda_types = {\n",
    "    \"floats\": [\"PatientWeight\", \"TR\", \"TE\", \"TM\", \"TI\", \"DwellTime\", \"NumberOfAverages\",\n",
    "               \"MRFrequency\", \"MagneticFieldStrength\", \"FlipAngle\", \"SliceThickness\",\n",
    "               \"FoVHeight\", \"FoVWidth\", \"PercentOfRectFoV\", \"PixelSpacingRow\",\n",
    "               \"PixelSpacingCol\", \"VOIPositionSag\", \"VOIPositionCor\",\n",
    "               \"VOIPositionTra\", \"VOIThickness\", \"VOIPhaseFOV\", \"VOIReadoutFOV\",\n",
    "               \"VOIReadoutVOV\", \"VOINormalSag\", \"VOINormalCor\", \"VOINormalTra\",\n",
    "               \"VOIRotationInPlane\", \"FoV3D\", \"PixelSpacing3D\"],\n",
    "    \"integers\": [\"SeriesNumber\", \"InstanceNumber\", \"AcquisitionNumber\", \"NumOfPhaseEncodingSteps\",\n",
    "                 \"NumberOfRows\", \"NumberOfColumns\", \"VectorSize\", \"EchoNumber\",\n",
    "                 \"NumberOf3DParts\", \"HammingFilterWidth\", \"NumberOfEchoes\"],\n",
    "    \"strings\": [\"PatientID\", \"PatientName\", \"StudyDescription\", \"PatientBirthDate\",\n",
    "                \"StudyDate\", \"StudyTime\", \"PatientAge\", \"SeriesDate\", \"SeriesTime\",\n",
    "                \"SeriesDescription\", \"ProtocolName\", \"PatientPosition\", \"ModelName\",\n",
    "                \"StationName\", \"InstitutionName\", \"DeviceSerialNumber\", \"InstanceDate\",\n",
    "                \"InstanceTime\", \"InstanceComments\", \"SequenceName\", \"SequenceDescription\",\n",
    "                \"Nucleus\", \"TransmitCoil\", \"PatientSex\", \"HammingFilter\", \"FrequencyCorrection\"],\n",
    "    \"float_arrays\": [\"PositionVector\", \"RowVector\", \"ColumnVector\"],\n",
    "    \"integer_arrays\": [\"CSIMatrixSize\", \"CSIMatrixSizeOfScan\", \"CSIGridShift\"],\n",
    "    \"string_arrays\": [\"SoftwareVersion\"],\n",
    "    \"dictionaries\": [\"TransmitRefAmplitude\"]\n",
    "}\n",
    "\n",
    "\n",
    "def load_rda(json_el):\n",
    "    global rda_types\n",
    "    header_dict = {}\n",
    "    for i in json_el:\n",
    "        key = i\n",
    "        value = json_el[i]\n",
    "        if key in rda_types[\"strings\"]:\n",
    "            header_dict[key] = value\n",
    "        elif key in rda_types[\"integers\"]:\n",
    "            header_dict[key] = int(value)\n",
    "        elif key in rda_types[\"floats\"]:\n",
    "            header_dict[key] = float(value)\n",
    "        elif \"[\" in key and \"]\" in key:\n",
    "            # could be a dict or a list\n",
    "            key, index = re.split(\"\\]|\\[\", key)[0:2]\n",
    "            if key in rda_types[\"dictionaries\"]:\n",
    "                if key not in header_dict:\n",
    "                    header_dict[key] = {}\n",
    "                header_dict[key][index] = value\n",
    "            else:\n",
    "                # not a dictionary, must be a list\n",
    "                if key in rda_types[\"float_arrays\"]:\n",
    "                    value = float(value)\n",
    "                elif key in rda_types[\"integer_arrays\"]:\n",
    "                    value = int(value)\n",
    "                index = int(index)\n",
    "                # make sure there is a list in the header_dict, with enough entries\n",
    "                if not key in header_dict:\n",
    "                    header_dict[key] = []\n",
    "                while len(header_dict[key]) <= index:\n",
    "                    header_dict[key].append(0)\n",
    "                header_dict[key][index] = value\n",
    "        # now we can read the data\n",
    "        complex_data = []\n",
    "\n",
    "\n",
    "    # some .rda files have a misnamed field, correct this here\n",
    "    if \"VOIReadoutFOV\" not in header_dict:\n",
    "        if \"VOIReadoutVOV\" in header_dict:\n",
    "            header_dict[\"VOIReadoutFOV\"] = header_dict.pop(\"VOIReadoutVOV\")\n",
    "\n",
    "    # combine positional elements in the header\n",
    "    voi_size = (header_dict[\"VOIReadoutFOV\"],\n",
    "                header_dict[\"VOIPhaseFOV\"],\n",
    "                header_dict[\"VOIThickness\"])\n",
    "    voi_center = (header_dict[\"VOIPositionSag\"],\n",
    "                  header_dict[\"VOIPositionCor\"],\n",
    "                  header_dict[\"VOIPositionTra\"])\n",
    "    voxel_size = (header_dict[\"PixelSpacingCol\"],\n",
    "                  header_dict[\"PixelSpacingRow\"],\n",
    "                  header_dict[\"PixelSpacing3D\"])\n",
    "\n",
    "    x_vector = numpy.array(header_dict[\"RowVector\"])\n",
    "    y_vector = numpy.array(header_dict[\"ColumnVector\"])\n",
    "\n",
    "    to_scanner = transformation_matrix(x_vector, y_vector, numpy.array(voi_center), voxel_size)\n",
    "\n",
    "    # put useful components from the header in the metadata\n",
    "    metadata = {\n",
    "        \"voi_size\": voi_size,\n",
    "        \"position\": voi_center,\n",
    "        \"voxel_size\": voxel_size,\n",
    "        \"protocol\": header_dict[\"ProtocolName\"],\n",
    "        \"to_scanner\": to_scanner,\n",
    "        \"from_scanner\": numpy.linalg.inv(to_scanner)\n",
    "    }\n",
    "\n",
    "    return MRSData(complex_data,\n",
    "                   header_dict[\"DwellTime\"] * 1e-6,\n",
    "                   header_dict[\"MRFrequency\"],\n",
    "                   te=header_dict[\"TE\"],\n",
    "                   transform=to_scanner,\n",
    "                   metadata=metadata)\n"
   ]
  },
  {
   "cell_type": "code",
   "execution_count": 34,
   "metadata": {},
   "outputs": [],
   "source": [
    "csv_path = '/media/drive_s/AG/AG-Floeel-Imaging/02-User/NEUROMET/MRS_Voxel_masks/rda_headers.csv'\n",
    "csv_path = '/media/drive_s/AG/AG-Floeel-Imaging/02-User/NEUROMET/MRS_Voxel_masks/rda_headers2.csv'"
   ]
  },
  {
   "cell_type": "code",
   "execution_count": 35,
   "metadata": {},
   "outputs": [],
   "source": [
    "import pandas as pd\n",
    "\n",
    "df = pd.read_csv(csv_path, sep=',', header=0).drop(columns='Unnamed: 0')\n",
    "jsn = json.loads(df.to_json(orient=\"records\"))"
   ]
  },
  {
   "cell_type": "code",
   "execution_count": 36,
   "metadata": {},
   "outputs": [],
   "source": [
    "%%bash\n",
    "#jupyter nbextension enable --py --sys-prefix qgridimport qgrid# only required if you have not enabled the ipywidgets nbextension yet\n",
    "#jupyter nbextension enable --py --sys-prefix widgetsnbextension#to show a df simply use the below:"
   ]
  },
  {
   "cell_type": "code",
   "execution_count": 37,
   "metadata": {},
   "outputs": [
    {
     "data": {
      "application/vnd.jupyter.widget-view+json": {
       "model_id": "9cd61f3ad97b4fcd8c7cffa14f244e8c",
       "version_major": 2,
       "version_minor": 0
      },
      "text/plain": [
       "QgridWidget(grid_options={'fullWidthRows': True, 'syncColumnCellResize': True, 'forceFitColumns': True, 'defau…"
      ]
     },
     "metadata": {},
     "output_type": "display_data"
    }
   ],
   "source": [
    "import qgrid\n",
    "qgrid.show_grid(df)"
   ]
  },
  {
   "cell_type": "code",
   "execution_count": 38,
   "metadata": {},
   "outputs": [
    {
     "data": {
      "text/html": [
       "<div>\n",
       "<style scoped>\n",
       "    .dataframe tbody tr th:only-of-type {\n",
       "        vertical-align: middle;\n",
       "    }\n",
       "\n",
       "    .dataframe tbody tr th {\n",
       "        vertical-align: top;\n",
       "    }\n",
       "\n",
       "    .dataframe thead th {\n",
       "        text-align: right;\n",
       "    }\n",
       "</style>\n",
       "<table border=\"1\" class=\"dataframe\">\n",
       "  <thead>\n",
       "    <tr style=\"text-align: right;\">\n",
       "      <th></th>\n",
       "      <th>PatientID</th>\n",
       "      <th>VOIReadoutFOV</th>\n",
       "      <th>VOIPhaseFOV</th>\n",
       "      <th>VOIThickness</th>\n",
       "      <th>RowVector[0]</th>\n",
       "      <th>RowVector[1]</th>\n",
       "      <th>RowVector[2]</th>\n",
       "      <th>ColumnVector[0]</th>\n",
       "      <th>ColumnVector[1]</th>\n",
       "      <th>ColumnVector[2]</th>\n",
       "      <th>VOIPositionSag</th>\n",
       "      <th>VOIPositionCor</th>\n",
       "      <th>VOIPositionTra</th>\n",
       "    </tr>\n",
       "  </thead>\n",
       "  <tbody>\n",
       "    <tr>\n",
       "      <th>0</th>\n",
       "      <td>NeuroMet031</td>\n",
       "      <td>20.0</td>\n",
       "      <td>20.0</td>\n",
       "      <td>20.0</td>\n",
       "      <td>-1.0</td>\n",
       "      <td>0.0</td>\n",
       "      <td>0.0</td>\n",
       "      <td>0.0</td>\n",
       "      <td>0.898794</td>\n",
       "      <td>0.438371</td>\n",
       "      <td>-6.3</td>\n",
       "      <td>11.8</td>\n",
       "      <td>3.2</td>\n",
       "    </tr>\n",
       "    <tr>\n",
       "      <th>1</th>\n",
       "      <td>NeuroMet031</td>\n",
       "      <td>20.0</td>\n",
       "      <td>20.0</td>\n",
       "      <td>20.0</td>\n",
       "      <td>-1.0</td>\n",
       "      <td>0.0</td>\n",
       "      <td>0.0</td>\n",
       "      <td>0.0</td>\n",
       "      <td>0.898794</td>\n",
       "      <td>0.438371</td>\n",
       "      <td>-6.3</td>\n",
       "      <td>11.8</td>\n",
       "      <td>3.2</td>\n",
       "    </tr>\n",
       "    <tr>\n",
       "      <th>2</th>\n",
       "      <td>NeuroMet031</td>\n",
       "      <td>20.0</td>\n",
       "      <td>20.0</td>\n",
       "      <td>20.0</td>\n",
       "      <td>-1.0</td>\n",
       "      <td>0.0</td>\n",
       "      <td>0.0</td>\n",
       "      <td>0.0</td>\n",
       "      <td>0.898794</td>\n",
       "      <td>0.438371</td>\n",
       "      <td>-6.3</td>\n",
       "      <td>11.8</td>\n",
       "      <td>3.2</td>\n",
       "    </tr>\n",
       "  </tbody>\n",
       "</table>\n",
       "</div>"
      ],
      "text/plain": [
       "     PatientID  VOIReadoutFOV  VOIPhaseFOV  VOIThickness  RowVector[0]  \\\n",
       "0  NeuroMet031           20.0         20.0          20.0          -1.0   \n",
       "1  NeuroMet031           20.0         20.0          20.0          -1.0   \n",
       "2  NeuroMet031           20.0         20.0          20.0          -1.0   \n",
       "\n",
       "   RowVector[1]  RowVector[2]  ColumnVector[0]  ColumnVector[1]  \\\n",
       "0           0.0           0.0              0.0         0.898794   \n",
       "1           0.0           0.0              0.0         0.898794   \n",
       "2           0.0           0.0              0.0         0.898794   \n",
       "\n",
       "   ColumnVector[2]  VOIPositionSag  VOIPositionCor  VOIPositionTra  \n",
       "0         0.438371            -6.3            11.8             3.2  \n",
       "1         0.438371            -6.3            11.8             3.2  \n",
       "2         0.438371            -6.3            11.8             3.2  "
      ]
     },
     "execution_count": 38,
     "metadata": {},
     "output_type": "execute_result"
    }
   ],
   "source": [
    "df[df.PatientID=='NeuroMet031'][['PatientID', 'VOIReadoutFOV', 'VOIPhaseFOV', 'VOIThickness', 'RowVector[0]', 'RowVector[1]', 'RowVector[2]', 'ColumnVector[0]', 'ColumnVector[1]', 'ColumnVector[2]', 'VOIPositionSag', 'VOIPositionCor', 'VOIPositionTra']]"
   ]
  },
  {
   "cell_type": "code",
   "execution_count": 39,
   "metadata": {},
   "outputs": [],
   "source": [
    "df2 = df.iloc[[0]]#[[148, 94, 210, 187, 121, 142, 109, 115, 289, 342]]"
   ]
  },
  {
   "cell_type": "code",
   "execution_count": 40,
   "metadata": {},
   "outputs": [
    {
     "data": {
      "text/html": [
       "<div>\n",
       "<style scoped>\n",
       "    .dataframe tbody tr th:only-of-type {\n",
       "        vertical-align: middle;\n",
       "    }\n",
       "\n",
       "    .dataframe tbody tr th {\n",
       "        vertical-align: top;\n",
       "    }\n",
       "\n",
       "    .dataframe thead th {\n",
       "        text-align: right;\n",
       "    }\n",
       "</style>\n",
       "<table border=\"1\" class=\"dataframe\">\n",
       "  <thead>\n",
       "    <tr style=\"text-align: right;\">\n",
       "      <th></th>\n",
       "      <th>PatientID</th>\n",
       "      <th>RowVector[0]</th>\n",
       "      <th>RowVector[1]</th>\n",
       "      <th>RowVector[2]</th>\n",
       "      <th>ColumnVector[0]</th>\n",
       "      <th>ColumnVector[1]</th>\n",
       "      <th>ColumnVector[2]</th>\n",
       "      <th>VOIPositionSag</th>\n",
       "      <th>VOIPositionCor</th>\n",
       "      <th>VOIPositionTra</th>\n",
       "    </tr>\n",
       "  </thead>\n",
       "  <tbody>\n",
       "    <tr>\n",
       "      <th>0</th>\n",
       "      <td>NeuroMet031</td>\n",
       "      <td>-1.0</td>\n",
       "      <td>0.0</td>\n",
       "      <td>0.0</td>\n",
       "      <td>0.0</td>\n",
       "      <td>0.898794</td>\n",
       "      <td>0.438371</td>\n",
       "      <td>-6.3</td>\n",
       "      <td>11.8</td>\n",
       "      <td>3.2</td>\n",
       "    </tr>\n",
       "  </tbody>\n",
       "</table>\n",
       "</div>"
      ],
      "text/plain": [
       "     PatientID  RowVector[0]  RowVector[1]  RowVector[2]  ColumnVector[0]  \\\n",
       "0  NeuroMet031          -1.0           0.0           0.0              0.0   \n",
       "\n",
       "   ColumnVector[1]  ColumnVector[2]  VOIPositionSag  VOIPositionCor  \\\n",
       "0         0.898794         0.438371            -6.3            11.8   \n",
       "\n",
       "   VOIPositionTra  \n",
       "0             3.2  "
      ]
     },
     "execution_count": 40,
     "metadata": {},
     "output_type": "execute_result"
    }
   ],
   "source": [
    "df2[['PatientID', 'RowVector[0]', 'RowVector[1]', 'RowVector[2]', 'ColumnVector[0]', 'ColumnVector[1]', 'ColumnVector[2]', 'VOIPositionSag', 'VOIPositionCor', 'VOIPositionTra']]"
   ]
  },
  {
   "cell_type": "code",
   "execution_count": 41,
   "metadata": {},
   "outputs": [],
   "source": [
    "df=df2"
   ]
  },
  {
   "cell_type": "code",
   "execution_count": null,
   "metadata": {},
   "outputs": [],
   "source": []
  },
  {
   "cell_type": "markdown",
   "metadata": {},
   "source": [
    "# 2 Make a Nifty with the MRS Voxel as 10mm radius sphere"
   ]
  },
  {
   "cell_type": "code",
   "execution_count": 42,
   "metadata": {},
   "outputs": [],
   "source": [
    "# Credits NLTools: https://github.com/cosanlab/nltools\n",
    "def sphere(nii_path, r, p):\n",
    "    \"\"\" create a sphere of given radius at some point p in the brain mask\n",
    "    Args:\n",
    "        r: radius of the sphere\n",
    "        p: point (in coordinates of the brain mask) of the center of the sphere\n",
    "    \"\"\"\n",
    "    nii = nib.load(nii_path)\n",
    "    dims = nii.shape\n",
    "\n",
    "    x, y, z = np.ogrid[-p[0]:dims[0]-p[0], -p[1]:dims[1]-p[1], -p[2]:dims[2]-p[2]]\n",
    "    mask = x*x + y*y + z*z <= r*r\n",
    "\n",
    "    activation = np.zeros(dims)\n",
    "    #print(activation.sum())\n",
    "    activation[mask] = 1\n",
    "    #print(activation.sum())\n",
    "    #activation = np.multiply(activation, nii.get_fdata())\n",
    "    activation = activation + nii.get_fdata()\n",
    "    #print(activation.sum())\n",
    "    activation = nib.Nifti1Image(activation, nii.affine, nii.header)\n",
    "\n",
    "    # return the 3D numpy matrix of zeros containing the sphere as a region of ones\n",
    "    return activation"
   ]
  },
  {
   "cell_type": "code",
   "execution_count": 43,
   "metadata": {},
   "outputs": [],
   "source": [
    "sphere_radius = 10"
   ]
  },
  {
   "cell_type": "code",
   "execution_count": 44,
   "metadata": {},
   "outputs": [],
   "source": [
    "t1_file_mask = '/media/drive_s/AG/AG-Floeel-Imaging/02-User/NEUROMET/Structural_analysis/{sub_id}/{sub_id}.mUNIbrain_DENskull_SPMmasked.nii.gz'"
   ]
  },
  {
   "cell_type": "code",
   "execution_count": 45,
   "metadata": {},
   "outputs": [],
   "source": [
    "subject_space_sphere_path = '/media/drive_s/AG/AG-Floeel-Imaging/02-User/NEUROMET/MRS_Voxel_masks/Subjekt_space_spheres'\n",
    "subject_space_voxel_path = '/media/drive_s/AG/AG-Floeel-Imaging/02-User/NEUROMET/MRS_Voxel_masks/Subject_space_Voxels'"
   ]
  },
  {
   "cell_type": "code",
   "execution_count": 46,
   "metadata": {},
   "outputs": [
    {
     "name": "stdout",
     "output_type": "stream",
     "text": [
      "{'NeuroMet031'}\n"
     ]
    }
   ],
   "source": [
    "ids = set([i for i in df['PatientID']])\n",
    "print(ids)"
   ]
  },
  {
   "cell_type": "code",
   "execution_count": 47,
   "metadata": {},
   "outputs": [
    {
     "name": "stdout",
     "output_type": "stream",
     "text": [
      "{'PatientName': 'MDC-0131_NeuroMet031', 'PatientID': 'NeuroMet031', 'PatientSex': 'F', 'PatientBirthDate': 19410408, 'StudyDate': 20170405, 'StudyTime': 104229.75, 'StudyDescription': 'PTB^Ariane', 'PatientAge': '075Y', 'PatientWeight': 50.0, 'SeriesDate': 20170405, 'SeriesTime': 112719.421, 'SeriesDescription': 'rm_special_withOVS_32Ch_Coil', 'ProtocolName': 'rm_special_withOVS_32Ch_Coil', 'PatientPosition': 'HFS', 'SeriesNumber': 20, 'InstitutionName': 'B.U.F.F.', 'StationName': 'MRC18923', 'ModelName': 'Investigational_Device_7T', 'DeviceSerialNumber': 18923, 'SoftwareVersion[0]': 'syngo MR B17', 'InstanceDate': 20170405, 'InstanceTime': 112719.421, 'InstanceNumber': 1, 'InstanceComments': '_c_32', 'AcquisitionNumber': 1, 'SequenceName': 'SPECIAL', 'SequenceDescription': 'SPECIAL', 'TR': 6500.0, 'TE': 9.0, 'TM': 0.0, 'TI': 0.0, 'DwellTime': 250, 'EchoNumber': 0, 'NumberOfAverages': 64.0, 'MRFrequency': 297.136805, 'Nucleus': '1H', 'MagneticFieldStrength': 6.98, 'NumOfPhaseEncodingSteps': 1, 'FlipAngle': 90.0, 'VectorSize': 2048, 'CSIMatrixSize[0]': 1, 'CSIMatrixSize[1]': 1, 'CSIMatrixSize[2]': 1, 'CSIMatrixSizeOfScan[0]': 1, 'CSIMatrixSizeOfScan[1]': 256, 'CSIMatrixSizeOfScan[2]': 64, 'CSIGridShift[0]': 0, 'CSIGridShift[1]': 0, 'CSIGridShift[2]': 0, 'HammingFilter': 'Off', 'FrequencyCorrection': 'NO', 'TransmitCoil': '32Ch_Head_7T', 'TransmitRefAmplitude[1H]': 236.334, 'SliceThickness': 20.0, 'PositionVector[0]': 3.699999, 'PositionVector[1]': 2.812059, 'PositionVector[2]': -1.18371, 'RowVector[0]': -1.0, 'RowVector[1]': 0.0, 'RowVector[2]': 0.0, 'ColumnVector[0]': 0.0, 'ColumnVector[1]': 0.898794, 'ColumnVector[2]': 0.438371, 'VOIPositionSag': -6.3, 'VOIPositionCor': 11.8, 'VOIPositionTra': 3.2, 'VOIThickness': 20.0, 'VOIPhaseFOV': 20.0, 'VOIReadoutFOV': 20.0, 'VOINormalSag': 0.0, 'VOINormalCor': -0.438371, 'VOINormalTra': 0.898794, 'VOIRotationInPlane': 0.0, 'FoVHeight': 20.0, 'FoVWidth': 20.0, 'FoV3D': 20.0, 'PercentOfRectFoV': 1.0, 'NumberOfRows': 1, 'NumberOfColumns': 1, 'NumberOf3DParts': 1, 'PixelSpacingRow': 20.0, 'PixelSpacingCol': 20.0, 'PixelSpacing3D': 20.0}\n",
      "<class 'dict'>\n",
      "NeuroMet031\n"
     ]
    }
   ],
   "source": [
    "for j in range(len(df)):\n",
    "    #try:\n",
    "    i=json.loads(df.iloc[j].to_json())\n",
    "    print(i)\n",
    "    print(type(i))\n",
    "    if i['PatientID'] in ids:     \n",
    "        #print(n)\n",
    "        sub_id = i['PatientID']\n",
    "        print(sub_id)\n",
    "        t1_path = t1_file_mask.format(sub_id=sub_id)\n",
    "        #print(t1_path)\n",
    "        rda = load_rda(i)\n",
    "        base_name = t1_path.split('/')[-1][:-7] \n",
    "        #print(base_name)\n",
    "        # get voxel coordinates for the center of mrs voxel\n",
    "        t1 = suspect.image.load_nifti(t1_path)\n",
    "        mrs_centre = rda.to_scanner(0, 0, 0)\n",
    "        #print(mrs_centre)\n",
    "        mrs_centre_index = t1.from_scanner(*mrs_centre).round().astype(int)\n",
    "        #print(mrs_centre_index)\n",
    "        # zero all voxels and put 1 for mrs voxel center\n",
    "        img = nib.load(t1_path)\n",
    "        new_data = img.get_fdata().copy()\n",
    "        new_data[:,:,:] = 0\n",
    "        new_data[mrs_centre_index[0],mrs_centre_index[1],mrs_centre_index[2]] = 1\n",
    "        #create and save nifti\n",
    "        new_img = nib.Nifti1Image(new_data, img.affine, img.header)\n",
    "        nib.save(new_img, os.path.join(subject_space_voxel_path, base_name + '_mrs_voxel_center.nii.gz'))\n",
    "        #make a sphere and save it\n",
    "        sssphere = sphere(os.path.join(subject_space_voxel_path, base_name + '_mrs_voxel_center.nii.gz'),\n",
    "                     r=sphere_radius,\n",
    "                     p=mrs_centre_index)\n",
    "        nib.save(sssphere, os.path.join(subject_space_sphere_path, base_name + '_mrs_voxel_sphere.nii.gz'))\n",
    "        #except:\n",
    "    #    pass"
   ]
  },
  {
   "cell_type": "code",
   "execution_count": 55,
   "metadata": {},
   "outputs": [],
   "source": [
    "# Coregister in MNI space"
   ]
  },
  {
   "cell_type": "code",
   "execution_count": 56,
   "metadata": {},
   "outputs": [],
   "source": [
    "import ants\n",
    "import os"
   ]
  },
  {
   "cell_type": "code",
   "execution_count": 57,
   "metadata": {},
   "outputs": [],
   "source": [
    "mni_std = '/usr/share/fsl/data/standard/MNI152_T1_0.5mm.nii.gz'\n",
    "ants_mni_std = ants.image_read(mni_std)"
   ]
  },
  {
   "cell_type": "code",
   "execution_count": 58,
   "metadata": {},
   "outputs": [],
   "source": [
    "mov_mask = str(os.path.join(subject_space_sphere_path, '{sub_id}.mUNIbrain_DENskull_SPMmasked_mrs_voxel_sphere.nii.gz'))"
   ]
  },
  {
   "cell_type": "code",
   "execution_count": 59,
   "metadata": {},
   "outputs": [],
   "source": [
    "transform1_mask = '/media/drive_s/AG/AG-Floeel-Imaging/02-User/NEUROMET/MNI_coreg/{sub_id}/{sub_id}.mUNIbrain_DENskull_SPMmasked_MNIcoreg0GenericAffine.mat'\n",
    "transform2_mask = '/media/drive_s/AG/AG-Floeel-Imaging/02-User/NEUROMET/MNI_coreg/{sub_id}/{sub_id}.mUNIbrain_DENskull_SPMmasked_MNIcoreg1Warp.nii.gz'"
   ]
  },
  {
   "cell_type": "code",
   "execution_count": 60,
   "metadata": {},
   "outputs": [],
   "source": [
    "ids = set([i for i in df['PatientID']])"
   ]
  },
  {
   "cell_type": "code",
   "execution_count": 61,
   "metadata": {},
   "outputs": [
    {
     "name": "stdout",
     "output_type": "stream",
     "text": [
      "NeuroMet031\n"
     ]
    }
   ],
   "source": [
    "for sub_id in ids:\n",
    "    try:\n",
    "        print(sub_id)\n",
    "        transform1 = transform1_mask.format(sub_id=sub_id)\n",
    "        transform2 = transform2_mask.format(sub_id=sub_id)\n",
    "        moving = mov_mask.format(sub_id=sub_id)\n",
    "        ants_mov = ants.image_read(moving)\n",
    "        res = ants.apply_transforms(fixed=ants_mni_std,\n",
    "                         moving=ants_mov,\n",
    "                         transformlist = [transform2, transform1])\n",
    "        ants.image_write(res, '/media/drive_s/AG/AG-Floeel-Imaging/02-User/NEUROMET/MRS_Voxel_masks/MNI_space_spheres/{}_MRS_Voxel_MNIwarped.nii.gz'.format(sub_id))\n",
    "    except:\n",
    "        pass"
   ]
  },
  {
   "cell_type": "code",
   "execution_count": null,
   "metadata": {},
   "outputs": [],
   "source": []
  },
  {
   "cell_type": "code",
   "execution_count": null,
   "metadata": {},
   "outputs": [],
   "source": []
  }
 ],
 "metadata": {
  "kernelspec": {
   "display_name": "Python 3",
   "language": "python",
   "name": "python3"
  },
  "language_info": {
   "codemirror_mode": {
    "name": "ipython",
    "version": 3
   },
   "file_extension": ".py",
   "mimetype": "text/x-python",
   "name": "python",
   "nbconvert_exporter": "python",
   "pygments_lexer": "ipython3",
   "version": "3.6.5"
  }
 },
 "nbformat": 4,
 "nbformat_minor": 4
}
